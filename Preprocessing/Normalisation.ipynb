{
 "cells": [
  {
   "cell_type": "code",
   "execution_count": null,
   "metadata": {},
   "outputs": [],
   "source": [
    "\n",
    "import os\n",
    "import re\n",
    "import numpy as np\n",
    "import pydub\n",
    "from pydub import AudioSegment\n",
    "from pydub import effects\n",
    "from pydub.effects import normalize\n",
    "\n",
    "folder = 'ravdess' # name of the folder which contain audio_files (RAVDESS or MELD)\n",
    "for  fichier_audio in os.listdir(folder): # for each element in the audio folder\n",
    "    folder_path = os.path.join(folder, fichier_audio) # path of each item  in the audio folder\n",
    "   \n",
    "    \n",
    "    if(os.path.isdir(folder_path)):\n",
    "        #print(folder_path)\n",
    "        audios = os.listdir(folder_path)\n",
    "        for audio_file in audios:\n",
    "            if not audio_file.endswith('norm.wav'):\n",
    "                \n",
    "            \n",
    "            #print(audio_file)\n",
    "                \n",
    "                begin_file = re.split(\"\\.\", audio_file)\n",
    "                _sound = AudioSegment.from_file(folder_path+'/'+audio_file, \"wav\")\n",
    "                sound = effects.normalize(_sound) #Normalize sound\n",
    "                sound.export(folder_path+'/'+begin_file[0]+'_norm.wav', format=\"wav\") #export a new normalize file\n"
   ]
  }
 ],
 "metadata": {
  "kernelspec": {
   "display_name": "Python 3",
   "language": "python",
   "name": "python3"
  },
  "language_info": {
   "codemirror_mode": {
    "name": "ipython",
    "version": 3
   },
   "file_extension": ".py",
   "mimetype": "text/x-python",
   "name": "python",
   "nbconvert_exporter": "python",
   "pygments_lexer": "ipython3",
   "version": "3.8.2"
  }
 },
 "nbformat": 4,
 "nbformat_minor": 4
}
