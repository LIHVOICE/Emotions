{
 "cells": [
  {
   "cell_type": "code",
   "execution_count": 1,
   "metadata": {
    "colab": {
     "base_uri": "https://localhost:8080/",
     "height": 546
    },
    "colab_type": "code",
    "executionInfo": {
     "elapsed": 12747,
     "status": "ok",
     "timestamp": 1596310390494,
     "user": {
      "displayName": "BARRY Nene Djenaba",
      "photoUrl": "",
      "userId": "09221402848573081539"
     },
     "user_tz": -120
    },
    "id": "ymHSlukhKIF9",
    "outputId": "e39baf02-e78d-4caf-a434-5295c30d7b9d"
   },
   "outputs": [
    {
     "name": "stdout",
     "output_type": "stream",
     "text": [
      "Collecting librosa==0.7.2\n",
      "\u001b[?25l  Downloading https://files.pythonhosted.org/packages/77/b5/1817862d64a7c231afd15419d8418ae1f000742cac275e85c74b219cbccb/librosa-0.7.2.tar.gz (1.6MB)\n",
      "\r",
      "\u001b[K     |▏                               | 10kB 15.8MB/s eta 0:00:01\r",
      "\u001b[K     |▍                               | 20kB 2.9MB/s eta 0:00:01\r",
      "\u001b[K     |▋                               | 30kB 4.0MB/s eta 0:00:01\r",
      "\u001b[K     |▉                               | 40kB 4.2MB/s eta 0:00:01\r",
      "\u001b[K     |█                               | 51kB 3.5MB/s eta 0:00:01\r",
      "\u001b[K     |█▎                              | 61kB 3.8MB/s eta 0:00:01\r",
      "\u001b[K     |█▍                              | 71kB 4.2MB/s eta 0:00:01\r",
      "\u001b[K     |█▋                              | 81kB 4.5MB/s eta 0:00:01\r",
      "\u001b[K     |█▉                              | 92kB 4.8MB/s eta 0:00:01\r",
      "\u001b[K     |██                              | 102kB 4.6MB/s eta 0:00:01\r",
      "\u001b[K     |██▎                             | 112kB 4.6MB/s eta 0:00:01\r",
      "\u001b[K     |██▌                             | 122kB 4.6MB/s eta 0:00:01\r",
      "\u001b[K     |██▊                             | 133kB 4.6MB/s eta 0:00:01\r",
      "\u001b[K     |██▉                             | 143kB 4.6MB/s eta 0:00:01\r",
      "\u001b[K     |███                             | 153kB 4.6MB/s eta 0:00:01\r",
      "\u001b[K     |███▎                            | 163kB 4.6MB/s eta 0:00:01\r",
      "\u001b[K     |███▌                            | 174kB 4.6MB/s eta 0:00:01\r",
      "\u001b[K     |███▊                            | 184kB 4.6MB/s eta 0:00:01\r",
      "\u001b[K     |████                            | 194kB 4.6MB/s eta 0:00:01\r",
      "\u001b[K     |████                            | 204kB 4.6MB/s eta 0:00:01\r",
      "\u001b[K     |████▎                           | 215kB 4.6MB/s eta 0:00:01\r",
      "\u001b[K     |████▌                           | 225kB 4.6MB/s eta 0:00:01\r",
      "\u001b[K     |████▊                           | 235kB 4.6MB/s eta 0:00:01\r",
      "\u001b[K     |█████                           | 245kB 4.6MB/s eta 0:00:01\r",
      "\u001b[K     |█████▏                          | 256kB 4.6MB/s eta 0:00:01\r",
      "\u001b[K     |█████▍                          | 266kB 4.6MB/s eta 0:00:01\r",
      "\u001b[K     |█████▌                          | 276kB 4.6MB/s eta 0:00:01\r",
      "\u001b[K     |█████▊                          | 286kB 4.6MB/s eta 0:00:01\r",
      "\u001b[K     |██████                          | 296kB 4.6MB/s eta 0:00:01\r",
      "\u001b[K     |██████▏                         | 307kB 4.6MB/s eta 0:00:01\r",
      "\u001b[K     |██████▍                         | 317kB 4.6MB/s eta 0:00:01\r",
      "\u001b[K     |██████▋                         | 327kB 4.6MB/s eta 0:00:01\r",
      "\u001b[K     |██████▊                         | 337kB 4.6MB/s eta 0:00:01\r",
      "\u001b[K     |███████                         | 348kB 4.6MB/s eta 0:00:01\r",
      "\u001b[K     |███████▏                        | 358kB 4.6MB/s eta 0:00:01\r",
      "\u001b[K     |███████▍                        | 368kB 4.6MB/s eta 0:00:01\r",
      "\u001b[K     |███████▋                        | 378kB 4.6MB/s eta 0:00:01\r",
      "\u001b[K     |███████▉                        | 389kB 4.6MB/s eta 0:00:01\r",
      "\u001b[K     |████████                        | 399kB 4.6MB/s eta 0:00:01\r",
      "\u001b[K     |████████▏                       | 409kB 4.6MB/s eta 0:00:01\r",
      "\u001b[K     |████████▍                       | 419kB 4.6MB/s eta 0:00:01\r",
      "\u001b[K     |████████▋                       | 430kB 4.6MB/s eta 0:00:01\r",
      "\u001b[K     |████████▉                       | 440kB 4.6MB/s eta 0:00:01\r",
      "\u001b[K     |█████████                       | 450kB 4.6MB/s eta 0:00:01\r",
      "\u001b[K     |█████████▎                      | 460kB 4.6MB/s eta 0:00:01\r",
      "\u001b[K     |█████████▍                      | 471kB 4.6MB/s eta 0:00:01\r",
      "\u001b[K     |█████████▋                      | 481kB 4.6MB/s eta 0:00:01\r",
      "\u001b[K     |█████████▉                      | 491kB 4.6MB/s eta 0:00:01\r",
      "\u001b[K     |██████████                      | 501kB 4.6MB/s eta 0:00:01\r",
      "\u001b[K     |██████████▎                     | 512kB 4.6MB/s eta 0:00:01\r",
      "\u001b[K     |██████████▌                     | 522kB 4.6MB/s eta 0:00:01\r",
      "\u001b[K     |██████████▊                     | 532kB 4.6MB/s eta 0:00:01\r",
      "\u001b[K     |██████████▉                     | 542kB 4.6MB/s eta 0:00:01\r",
      "\u001b[K     |███████████                     | 552kB 4.6MB/s eta 0:00:01\r",
      "\u001b[K     |███████████▎                    | 563kB 4.6MB/s eta 0:00:01\r",
      "\u001b[K     |███████████▌                    | 573kB 4.6MB/s eta 0:00:01\r",
      "\u001b[K     |███████████▊                    | 583kB 4.6MB/s eta 0:00:01\r",
      "\u001b[K     |████████████                    | 593kB 4.6MB/s eta 0:00:01\r",
      "\u001b[K     |████████████▏                   | 604kB 4.6MB/s eta 0:00:01\r",
      "\u001b[K     |████████████▎                   | 614kB 4.6MB/s eta 0:00:01\r",
      "\u001b[K     |████████████▌                   | 624kB 4.6MB/s eta 0:00:01\r",
      "\u001b[K     |████████████▊                   | 634kB 4.6MB/s eta 0:00:01\r",
      "\u001b[K     |█████████████                   | 645kB 4.6MB/s eta 0:00:01\r",
      "\u001b[K     |█████████████▏                  | 655kB 4.6MB/s eta 0:00:01\r",
      "\u001b[K     |█████████████▍                  | 665kB 4.6MB/s eta 0:00:01\r",
      "\u001b[K     |█████████████▌                  | 675kB 4.6MB/s eta 0:00:01\r",
      "\u001b[K     |█████████████▊                  | 686kB 4.6MB/s eta 0:00:01\r",
      "\u001b[K     |██████████████                  | 696kB 4.6MB/s eta 0:00:01\r",
      "\u001b[K     |██████████████▏                 | 706kB 4.6MB/s eta 0:00:01\r",
      "\u001b[K     |██████████████▍                 | 716kB 4.6MB/s eta 0:00:01\r",
      "\u001b[K     |██████████████▋                 | 727kB 4.6MB/s eta 0:00:01\r",
      "\u001b[K     |██████████████▉                 | 737kB 4.6MB/s eta 0:00:01\r",
      "\u001b[K     |███████████████                 | 747kB 4.6MB/s eta 0:00:01\r",
      "\u001b[K     |███████████████▏                | 757kB 4.6MB/s eta 0:00:01\r",
      "\u001b[K     |███████████████▍                | 768kB 4.6MB/s eta 0:00:01\r",
      "\u001b[K     |███████████████▋                | 778kB 4.6MB/s eta 0:00:01\r",
      "\u001b[K     |███████████████▉                | 788kB 4.6MB/s eta 0:00:01\r",
      "\u001b[K     |████████████████                | 798kB 4.6MB/s eta 0:00:01\r",
      "\u001b[K     |████████████████▏               | 808kB 4.6MB/s eta 0:00:01\r",
      "\u001b[K     |████████████████▍               | 819kB 4.6MB/s eta 0:00:01\r",
      "\u001b[K     |████████████████▋               | 829kB 4.6MB/s eta 0:00:01\r",
      "\u001b[K     |████████████████▉               | 839kB 4.6MB/s eta 0:00:01\r",
      "\u001b[K     |█████████████████               | 849kB 4.6MB/s eta 0:00:01\r",
      "\u001b[K     |█████████████████▎              | 860kB 4.6MB/s eta 0:00:01\r",
      "\u001b[K     |█████████████████▌              | 870kB 4.6MB/s eta 0:00:01\r",
      "\u001b[K     |█████████████████▋              | 880kB 4.6MB/s eta 0:00:01\r",
      "\u001b[K     |█████████████████▉              | 890kB 4.6MB/s eta 0:00:01\r",
      "\u001b[K     |██████████████████              | 901kB 4.6MB/s eta 0:00:01\r",
      "\u001b[K     |██████████████████▎             | 911kB 4.6MB/s eta 0:00:01\r",
      "\u001b[K     |██████████████████▌             | 921kB 4.6MB/s eta 0:00:01\r",
      "\u001b[K     |██████████████████▊             | 931kB 4.6MB/s eta 0:00:01\r",
      "\u001b[K     |██████████████████▉             | 942kB 4.6MB/s eta 0:00:01\r",
      "\u001b[K     |███████████████████             | 952kB 4.6MB/s eta 0:00:01\r",
      "\u001b[K     |███████████████████▎            | 962kB 4.6MB/s eta 0:00:01\r",
      "\u001b[K     |███████████████████▌            | 972kB 4.6MB/s eta 0:00:01\r",
      "\u001b[K     |███████████████████▊            | 983kB 4.6MB/s eta 0:00:01\r",
      "\u001b[K     |████████████████████            | 993kB 4.6MB/s eta 0:00:01\r",
      "\u001b[K     |████████████████████▏           | 1.0MB 4.6MB/s eta 0:00:01\r",
      "\u001b[K     |████████████████████▎           | 1.0MB 4.6MB/s eta 0:00:01\r",
      "\u001b[K     |████████████████████▌           | 1.0MB 4.6MB/s eta 0:00:01\r",
      "\u001b[K     |████████████████████▊           | 1.0MB 4.6MB/s eta 0:00:01\r",
      "\u001b[K     |█████████████████████           | 1.0MB 4.6MB/s eta 0:00:01\r",
      "\u001b[K     |█████████████████████▏          | 1.1MB 4.6MB/s eta 0:00:01\r",
      "\u001b[K     |█████████████████████▍          | 1.1MB 4.6MB/s eta 0:00:01\r",
      "\u001b[K     |█████████████████████▋          | 1.1MB 4.6MB/s eta 0:00:01\r",
      "\u001b[K     |█████████████████████▊          | 1.1MB 4.6MB/s eta 0:00:01\r",
      "\u001b[K     |██████████████████████          | 1.1MB 4.6MB/s eta 0:00:01\r",
      "\u001b[K     |██████████████████████▏         | 1.1MB 4.6MB/s eta 0:00:01\r",
      "\u001b[K     |██████████████████████▍         | 1.1MB 4.6MB/s eta 0:00:01\r",
      "\u001b[K     |██████████████████████▋         | 1.1MB 4.6MB/s eta 0:00:01\r",
      "\u001b[K     |██████████████████████▉         | 1.1MB 4.6MB/s eta 0:00:01\r",
      "\u001b[K     |███████████████████████         | 1.1MB 4.6MB/s eta 0:00:01\r",
      "\u001b[K     |███████████████████████▏        | 1.2MB 4.6MB/s eta 0:00:01\r",
      "\u001b[K     |███████████████████████▍        | 1.2MB 4.6MB/s eta 0:00:01\r",
      "\u001b[K     |███████████████████████▋        | 1.2MB 4.6MB/s eta 0:00:01\r",
      "\u001b[K     |███████████████████████▉        | 1.2MB 4.6MB/s eta 0:00:01\r",
      "\u001b[K     |████████████████████████        | 1.2MB 4.6MB/s eta 0:00:01\r",
      "\u001b[K     |████████████████████████▎       | 1.2MB 4.6MB/s eta 0:00:01\r",
      "\u001b[K     |████████████████████████▍       | 1.2MB 4.6MB/s eta 0:00:01\r",
      "\u001b[K     |████████████████████████▋       | 1.2MB 4.6MB/s eta 0:00:01\r",
      "\u001b[K     |████████████████████████▉       | 1.2MB 4.6MB/s eta 0:00:01\r",
      "\u001b[K     |█████████████████████████       | 1.2MB 4.6MB/s eta 0:00:01\r",
      "\u001b[K     |█████████████████████████▎      | 1.3MB 4.6MB/s eta 0:00:01\r",
      "\u001b[K     |█████████████████████████▌      | 1.3MB 4.6MB/s eta 0:00:01\r",
      "\u001b[K     |█████████████████████████▋      | 1.3MB 4.6MB/s eta 0:00:01\r",
      "\u001b[K     |█████████████████████████▉      | 1.3MB 4.6MB/s eta 0:00:01\r",
      "\u001b[K     |██████████████████████████      | 1.3MB 4.6MB/s eta 0:00:01\r",
      "\u001b[K     |██████████████████████████▎     | 1.3MB 4.6MB/s eta 0:00:01\r",
      "\u001b[K     |██████████████████████████▌     | 1.3MB 4.6MB/s eta 0:00:01\r",
      "\u001b[K     |██████████████████████████▊     | 1.3MB 4.6MB/s eta 0:00:01\r",
      "\u001b[K     |███████████████████████████     | 1.3MB 4.6MB/s eta 0:00:01\r",
      "\u001b[K     |███████████████████████████     | 1.4MB 4.6MB/s eta 0:00:01\r",
      "\u001b[K     |███████████████████████████▎    | 1.4MB 4.6MB/s eta 0:00:01\r",
      "\u001b[K     |███████████████████████████▌    | 1.4MB 4.6MB/s eta 0:00:01\r",
      "\u001b[K     |███████████████████████████▊    | 1.4MB 4.6MB/s eta 0:00:01\r",
      "\u001b[K     |████████████████████████████    | 1.4MB 4.6MB/s eta 0:00:01\r",
      "\u001b[K     |████████████████████████████▏   | 1.4MB 4.6MB/s eta 0:00:01\r",
      "\u001b[K     |████████████████████████████▎   | 1.4MB 4.6MB/s eta 0:00:01\r",
      "\u001b[K     |████████████████████████████▌   | 1.4MB 4.6MB/s eta 0:00:01\r",
      "\u001b[K     |████████████████████████████▊   | 1.4MB 4.6MB/s eta 0:00:01\r",
      "\u001b[K     |█████████████████████████████   | 1.4MB 4.6MB/s eta 0:00:01\r",
      "\u001b[K     |█████████████████████████████▏  | 1.5MB 4.6MB/s eta 0:00:01\r",
      "\u001b[K     |█████████████████████████████▍  | 1.5MB 4.6MB/s eta 0:00:01\r",
      "\u001b[K     |█████████████████████████████▋  | 1.5MB 4.6MB/s eta 0:00:01\r",
      "\u001b[K     |█████████████████████████████▊  | 1.5MB 4.6MB/s eta 0:00:01\r",
      "\u001b[K     |██████████████████████████████  | 1.5MB 4.6MB/s eta 0:00:01\r",
      "\u001b[K     |██████████████████████████████▏ | 1.5MB 4.6MB/s eta 0:00:01\r",
      "\u001b[K     |██████████████████████████████▍ | 1.5MB 4.6MB/s eta 0:00:01\r",
      "\u001b[K     |██████████████████████████████▋ | 1.5MB 4.6MB/s eta 0:00:01\r",
      "\u001b[K     |██████████████████████████████▉ | 1.5MB 4.6MB/s eta 0:00:01\r",
      "\u001b[K     |███████████████████████████████ | 1.5MB 4.6MB/s eta 0:00:01\r",
      "\u001b[K     |███████████████████████████████▏| 1.6MB 4.6MB/s eta 0:00:01\r",
      "\u001b[K     |███████████████████████████████▍| 1.6MB 4.6MB/s eta 0:00:01\r",
      "\u001b[K     |███████████████████████████████▋| 1.6MB 4.6MB/s eta 0:00:01\r",
      "\u001b[K     |███████████████████████████████▉| 1.6MB 4.6MB/s eta 0:00:01\r",
      "\u001b[K     |████████████████████████████████| 1.6MB 4.6MB/s \n",
      "\u001b[?25hRequirement already satisfied: audioread>=2.0.0 in /usr/local/lib/python3.6/dist-packages (from librosa==0.7.2) (2.1.8)\n",
      "Requirement already satisfied: numpy>=1.15.0 in /usr/local/lib/python3.6/dist-packages (from librosa==0.7.2) (1.18.5)\n",
      "Requirement already satisfied: scipy>=1.0.0 in /usr/local/lib/python3.6/dist-packages (from librosa==0.7.2) (1.4.1)\n",
      "Requirement already satisfied: scikit-learn!=0.19.0,>=0.14.0 in /usr/local/lib/python3.6/dist-packages (from librosa==0.7.2) (0.22.2.post1)\n",
      "Requirement already satisfied: joblib>=0.12 in /usr/local/lib/python3.6/dist-packages (from librosa==0.7.2) (0.16.0)\n",
      "Requirement already satisfied: decorator>=3.0.0 in /usr/local/lib/python3.6/dist-packages (from librosa==0.7.2) (4.4.2)\n",
      "Requirement already satisfied: six>=1.3 in /usr/local/lib/python3.6/dist-packages (from librosa==0.7.2) (1.15.0)\n",
      "Requirement already satisfied: resampy>=0.2.2 in /usr/local/lib/python3.6/dist-packages (from librosa==0.7.2) (0.2.2)\n",
      "Requirement already satisfied: numba>=0.43.0 in /usr/local/lib/python3.6/dist-packages (from librosa==0.7.2) (0.48.0)\n",
      "Collecting soundfile>=0.9.0\n",
      "  Downloading https://files.pythonhosted.org/packages/eb/f2/3cbbbf3b96fb9fa91582c438b574cff3f45b29c772f94c400e2c99ef5db9/SoundFile-0.10.3.post1-py2.py3-none-any.whl\n",
      "Requirement already satisfied: llvmlite<0.32.0,>=0.31.0dev0 in /usr/local/lib/python3.6/dist-packages (from numba>=0.43.0->librosa==0.7.2) (0.31.0)\n",
      "Requirement already satisfied: setuptools in /usr/local/lib/python3.6/dist-packages (from numba>=0.43.0->librosa==0.7.2) (49.2.0)\n",
      "Requirement already satisfied: cffi>=1.0 in /usr/local/lib/python3.6/dist-packages (from soundfile>=0.9.0->librosa==0.7.2) (1.14.1)\n",
      "Requirement already satisfied: pycparser in /usr/local/lib/python3.6/dist-packages (from cffi>=1.0->soundfile>=0.9.0->librosa==0.7.2) (2.20)\n",
      "Building wheels for collected packages: librosa\n",
      "  Building wheel for librosa (setup.py) ... \u001b[?25l\u001b[?25hdone\n",
      "  Created wheel for librosa: filename=librosa-0.7.2-cp36-none-any.whl size=1612885 sha256=0858aa225d67f8b48b3176bb30cacd7377325223097f584abd7a7a2617a9178d\n",
      "  Stored in directory: /root/.cache/pip/wheels/4c/6e/d7/bb93911540d2d1e44d690a1561871e5b6af82b69e80938abef\n",
      "Successfully built librosa\n",
      "Installing collected packages: soundfile, librosa\n",
      "  Found existing installation: librosa 0.6.3\n",
      "    Uninstalling librosa-0.6.3:\n",
      "      Successfully uninstalled librosa-0.6.3\n",
      "Successfully installed librosa-0.7.2 soundfile-0.10.3.post1\n"
     ]
    }
   ],
   "source": [
    "pip install librosa==0.7.2 "
   ]
  },
  {
   "cell_type": "code",
   "execution_count": null,
   "metadata": {
    "colab": {
     "base_uri": "https://localhost:8080/",
     "height": 35
    },
    "colab_type": "code",
    "executionInfo": {
     "elapsed": 10002,
     "status": "ok",
     "timestamp": 1596026935548,
     "user": {
      "displayName": "BARRY Nene Djenaba",
      "photoUrl": "",
      "userId": "09221402848573081539"
     },
     "user_tz": -120
    },
    "id": "sXnDmXR7RDr2",
    "outputId": "3b9dff36-3699-413b-8a0a-75f3af305685"
   },
   "outputs": [
    {
     "name": "stdout",
     "output_type": "stream",
     "text": [
      "Found GPU at: /device:GPU:0\n"
     ]
    }
   ],
   "source": [
    "%tensorflow_version 2.x\n",
    "import tensorflow as tf\n",
    "device_name = tf.test.gpu_device_name()\n",
    "if device_name != '/device:GPU:0':\n",
    "  raise SystemError('GPU device not found')\n",
    "print('Found GPU at: {}'.format(device_name))"
   ]
  },
  {
   "cell_type": "code",
   "execution_count": null,
   "metadata": {
    "colab": {
     "base_uri": "https://localhost:8080/",
     "height": 146
    },
    "colab_type": "code",
    "executionInfo": {
     "elapsed": 10711,
     "status": "ok",
     "timestamp": 1596026954464,
     "user": {
      "displayName": "BARRY Nene Djenaba",
      "photoUrl": "",
      "userId": "09221402848573081539"
     },
     "user_tz": -120
    },
    "id": "Y04m-jvKRDsJ",
    "outputId": "ce46bb70-bae2-4985-8f6b-ee3fece0cc5a"
   },
   "outputs": [
    {
     "name": "stdout",
     "output_type": "stream",
     "text": [
      "Time (s) to convolve 32x7x7x3 filter over random 100x100x100x3 images (batch x height x width x channel). Sum of ten runs.\n",
      "CPU (s):\n",
      "2.876127255\n",
      "GPU (s):\n",
      "0.1083209219999901\n",
      "GPU speedup over CPU: 26x\n"
     ]
    }
   ],
   "source": [
    "%tensorflow_version 2.x\n",
    "import tensorflow as tf\n",
    "import timeit\n",
    "\n",
    "device_name = tf.test.gpu_device_name()\n",
    "if device_name != '/device:GPU:0':\n",
    "  print(\n",
    "      '\\n\\nThis error most likely means that this notebook is not '\n",
    "      'configured to use a GPU.  Change this in Notebook Settings via the '\n",
    "      'command palette (cmd/ctrl-shift-P) or the Edit menu.\\n\\n')\n",
    "  raise SystemError('GPU device not found')\n",
    "\n",
    "def cpu():\n",
    "  with tf.device('/cpu:0'):\n",
    "    random_image_cpu = tf.random.normal((100, 100, 100, 3))\n",
    "    net_cpu = tf.keras.layers.Conv2D(32, 7)(random_image_cpu)\n",
    "    return tf.math.reduce_sum(net_cpu)\n",
    "\n",
    "def gpu():\n",
    "  with tf.device('/device:GPU:0'):\n",
    "    random_image_gpu = tf.random.normal((100, 100, 100, 3))\n",
    "    net_gpu = tf.keras.layers.Conv2D(32, 7)(random_image_gpu)\n",
    "    return tf.math.reduce_sum(net_gpu)\n",
    "  \n",
    "# We run each op once to warm up; see: https://stackoverflow.com/a/45067900\n",
    "cpu()https://support.mozilla.org/fr/kb/comment-vider-le-cache-de-firefox\n",
    "gpu()\n",
    "\n",
    "# Run the op several times.\n",
    "print('Time (s) to convolve 32x7x7x3 filter over random 100x100x100x3 images '\n",
    "      '(batch x height x width x channel). Sum of ten runs.')\n",
    "print('CPU (s):')\n",
    "cpu_time = timeit.timeit('cpu()', number=10, setup=\"from __main__ import cpu\")\n",
    "print(cpu_time)\n",
    "print('GPU (s):')\n",
    "gpu_time = timeit.timeit('gpu()', number=10, setup=\"from __main__ import gpu\")\n",
    "print(gpu_time)\n",
    "print('GPU speedup over CPU: {}x'.format(int(cpu_time/gpu_time)))"
   ]
  },
  {
   "cell_type": "code",
   "execution_count": 2,
   "metadata": {
    "colab": {
     "base_uri": "https://localhost:8080/",
     "height": 128
    },
    "colab_type": "code",
    "executionInfo": {
     "elapsed": 66684,
     "status": "ok",
     "timestamp": 1596310511700,
     "user": {
      "displayName": "BARRY Nene Djenaba",
      "photoUrl": "",
      "userId": "09221402848573081539"
     },
     "user_tz": -120
    },
    "id": "l9EbbgJpzQDD",
    "outputId": "10e284ea-13a0-4001-b2e8-7f9e616e8b97"
   },
   "outputs": [
    {
     "name": "stdout",
     "output_type": "stream",
     "text": [
      "Go to this URL in a browser: https://accounts.google.com/o/oauth2/auth?client_id=947318989803-6bn6qk8qdgf4n4g3pfee6491hc0brc4i.apps.googleusercontent.com&redirect_uri=urn%3aietf%3awg%3aoauth%3a2.0%3aoob&response_type=code&scope=email%20https%3a%2f%2fwww.googleapis.com%2fauth%2fdocs.test%20https%3a%2f%2fwww.googleapis.com%2fauth%2fdrive%20https%3a%2f%2fwww.googleapis.com%2fauth%2fdrive.photos.readonly%20https%3a%2f%2fwww.googleapis.com%2fauth%2fpeopleapi.readonly\n",
      "\n",
      "Enter your authorization code:\n",
      "··········\n",
      "Mounted at /content/drive\n"
     ]
    }
   ],
   "source": [
    "from google.colab import drive\n",
    "drive.mount('/content/drive')\n"
   ]
  },
  {
   "cell_type": "code",
   "execution_count": 3,
   "metadata": {
    "colab": {
     "base_uri": "https://localhost:8080/",
     "height": 146
    },
    "colab_type": "code",
    "executionInfo": {
     "elapsed": 7719,
     "status": "ok",
     "timestamp": 1596310596632,
     "user": {
      "displayName": "BARRY Nene Djenaba",
      "photoUrl": "",
      "userId": "09221402848573081539"
     },
     "user_tz": -120
    },
    "id": "ltf4WKPCeyVR",
    "outputId": "5cdce007-22ce-4f53-c4b6-fbb87b395292"
   },
   "outputs": [
    {
     "name": "stdout",
     "output_type": "stream",
     "text": [
      "Collecting praat-parselmouth\n",
      "\u001b[?25l  Downloading https://files.pythonhosted.org/packages/09/7b/9fa1172a63b6277603d27bb5613559b5a8888f58e68c1698017b87b0061d/praat_parselmouth-0.3.3-cp36-cp36m-manylinux1_x86_64.whl (9.0MB)\n",
      "\u001b[K     |████████████████████████████████| 9.0MB 3.3MB/s \n",
      "\u001b[?25hRequirement already satisfied: numpy>=1.7.0 in /usr/local/lib/python3.6/dist-packages (from praat-parselmouth) (1.18.5)\n",
      "Installing collected packages: praat-parselmouth\n",
      "Successfully installed praat-parselmouth-0.3.3\n"
     ]
    }
   ],
   "source": [
    "pip install praat-parselmouth"
   ]
  },
  {
   "cell_type": "code",
   "execution_count": 4,
   "metadata": {
    "colab": {
     "base_uri": "https://localhost:8080/",
     "height": 182
    },
    "colab_type": "code",
    "executionInfo": {
     "elapsed": 6217,
     "status": "ok",
     "timestamp": 1596310615537,
     "user": {
      "displayName": "BARRY Nene Djenaba",
      "photoUrl": "",
      "userId": "09221402848573081539"
     },
     "user_tz": -120
    },
    "id": "PNwtWyMXe_Qb",
    "outputId": "3356960b-b9d0-4b33-b273-6af248bb69cc"
   },
   "outputs": [
    {
     "name": "stdout",
     "output_type": "stream",
     "text": [
      "Collecting essentia\n",
      "\u001b[?25l  Downloading https://files.pythonhosted.org/packages/d6/cf/3c776d02b63fed7b0958bef2ce57b900870e2ac3f1fd8ffbb63f22d0e69e/essentia-2.1b6.dev234-cp36-cp36m-manylinux1_x86_64.whl (11.7MB)\n",
      "\u001b[K     |████████████████████████████████| 11.7MB 4.7MB/s \n",
      "\u001b[?25hRequirement already satisfied: numpy>=1.8.2 in /usr/local/lib/python3.6/dist-packages (from essentia) (1.18.5)\n",
      "Requirement already satisfied: six in /usr/local/lib/python3.6/dist-packages (from essentia) (1.15.0)\n",
      "Requirement already satisfied: pyyaml in /usr/local/lib/python3.6/dist-packages (from essentia) (3.13)\n",
      "Installing collected packages: essentia\n",
      "Successfully installed essentia-2.1b6.dev234\n"
     ]
    }
   ],
   "source": [
    "pip install essentia"
   ]
  },
  {
   "cell_type": "code",
   "execution_count": 5,
   "metadata": {
    "colab": {
     "base_uri": "https://localhost:8080/",
     "height": 110
    },
    "colab_type": "code",
    "executionInfo": {
     "elapsed": 6193,
     "status": "ok",
     "timestamp": 1596310638673,
     "user": {
      "displayName": "BARRY Nene Djenaba",
      "photoUrl": "",
      "userId": "09221402848573081539"
     },
     "user_tz": -120
    },
    "id": "B9TmOS9AFg61",
    "outputId": "e585e841-9b9a-4d5b-fb68-77ae02810217"
   },
   "outputs": [
    {
     "name": "stderr",
     "output_type": "stream",
     "text": [
      "/usr/local/lib/python3.6/dist-packages/sklearn/externals/six.py:31: FutureWarning: The module is deprecated in version 0.21 and will be removed in version 0.23 since we've dropped support for Python 2.7. Please rely on the official version of six (https://pypi.org/project/six/).\n",
      "  \"(https://pypi.org/project/six/).\", FutureWarning)\n",
      "/usr/local/lib/python3.6/dist-packages/sklearn/utils/deprecation.py:144: FutureWarning: The sklearn.neighbors.base module is  deprecated in version 0.22 and will be removed in version 0.24. The corresponding classes / functions should instead be imported from sklearn.neighbors. Anything that cannot be imported from sklearn.neighbors is now part of the private API.\n",
      "  warnings.warn(message, FutureWarning)\n"
     ]
    }
   ],
   "source": [
    "from __future__ import print_function\n",
    "\n",
    "#Numpy, pandas ans os\n",
    "import numpy as np\n",
    "import pandas as pd\n",
    "import os\n",
    "# matplotlib for displaying the output\n",
    "import matplotlib.pyplot as plt\n",
    "\n",
    "# Librosa for audio\n",
    "import librosa\n",
    "\n",
    "#Spafe for audio\n",
    "#import spafe\n",
    "import scipy.io.wavfile\n",
    "#import spafe.utils.vis as vis\n",
    "#from spafe.features.mfcc import mfcc, imfcc\n",
    "#from spafe.features.gfcc import gfcc\n",
    "\n",
    "#parselmouth for audio\n",
    "import parselmouth\n",
    "from parselmouth.praat import call\n",
    "from sklearn.decomposition import PCA\n",
    "import statistics\n",
    "\n",
    "#essentia\n",
    "\n",
    "import essentia.standard\n",
    "import essentia.streaming\n",
    "from essentia.standard import *\n",
    "\n",
    "\n",
    "#librairies for classification\n",
    "from sklearn.preprocessing import StandardScaler\n",
    "from sklearn import preprocessing\n",
    "from sklearn.model_selection import train_test_split\n",
    "\n",
    "from imblearn.over_sampling import SMOTE\n",
    "from sklearn.tree import DecisionTreeClassifier\n",
    "from sklearn.linear_model import SGDClassifier\n",
    "from sklearn.svm import SVC\n",
    "from sklearn.linear_model import LogisticRegression\n",
    "from sklearn.naive_bayes import GaussianNB\n",
    "from sklearn.neighbors import KNeighborsClassifier\n",
    "from sklearn.ensemble import RandomForestClassifier\n",
    "from xgboost import XGBClassifier\n",
    "\n",
    "from sklearn.model_selection import train_test_split, cross_val_predict, KFold, cross_val_score\n",
    "import sklearn.metrics as metrics\n",
    "from sklearn.metrics import accuracy_score, f1_score, precision_score, recall_score\n",
    "from sklearn.metrics import classification_report, make_scorer, confusion_matrix\n",
    "\n",
    "from sklearn.metrics import roc_auc_score\n",
    "from sklearn.datasets import make_classification\n",
    "from sklearn.pipeline import Pipeline\n",
    "\n",
    "from imblearn.over_sampling import ADASYN\n",
    "from sklearn.feature_selection import SelectFromModel\n",
    "from sklearn.ensemble import ExtraTreesClassifier\n",
    "from sklearn.feature_selection import SelectKBest\n",
    "\n",
    "from sklearn.model_selection import GridSearchCV\n",
    "import joblib\n",
    "#for warning\n",
    "import warnings\n",
    "warnings.filterwarnings(\"ignore\", category=FutureWarning)\n",
    "from sklearn.exceptions import ConvergenceWarning\n",
    "warnings.filterwarnings(\"ignore\", category= ConvergenceWarning)\n",
    "\n",
    "warnings.filterwarnings(\"ignore\", category= UserWarning)\n",
    "warnings.filterwarnings(\"ignore\", category= RuntimeWarning)"
   ]
  },
  {
   "cell_type": "markdown",
   "metadata": {
    "colab_type": "text",
    "id": "qKH47UdIodVo"
   },
   "source": [
    "Dataframe to match audio with emotion"
   ]
  },
  {
   "cell_type": "code",
   "execution_count": 6,
   "metadata": {
    "colab": {
     "base_uri": "https://localhost:8080/",
     "height": 35
    },
    "colab_type": "code",
    "executionInfo": {
     "elapsed": 1062,
     "status": "ok",
     "timestamp": 1596310679683,
     "user": {
      "displayName": "BARRY Nene Djenaba",
      "photoUrl": "",
      "userId": "09221402848573081539"
     },
     "user_tz": -120
    },
    "id": "QAD42F-CgYli",
    "outputId": "52e3787b-a976-450c-ffdc-60e0fadc7e63"
   },
   "outputs": [
    {
     "name": "stdout",
     "output_type": "stream",
     "text": [
      "/content/drive/My Drive\n"
     ]
    }
   ],
   "source": [
    "cd drive/My\\ Drive"
   ]
  },
  {
   "cell_type": "code",
   "execution_count": 7,
   "metadata": {
    "colab": {
     "base_uri": "https://localhost:8080/",
     "height": 206
    },
    "colab_type": "code",
    "executionInfo": {
     "elapsed": 19247,
     "status": "ok",
     "timestamp": 1596310729407,
     "user": {
      "displayName": "BARRY Nene Djenaba",
      "photoUrl": "",
      "userId": "09221402848573081539"
     },
     "user_tz": -120
    },
    "id": "6IAO4Lt4pfBi",
    "outputId": "65be1714-6754-44ae-b97a-2c12e1839e3f"
   },
   "outputs": [
    {
     "data": {
      "text/html": [
       "<div>\n",
       "<style scoped>\n",
       "    .dataframe tbody tr th:only-of-type {\n",
       "        vertical-align: middle;\n",
       "    }\n",
       "\n",
       "    .dataframe tbody tr th {\n",
       "        vertical-align: top;\n",
       "    }\n",
       "\n",
       "    .dataframe thead th {\n",
       "        text-align: right;\n",
       "    }\n",
       "</style>\n",
       "<table border=\"1\" class=\"dataframe\">\n",
       "  <thead>\n",
       "    <tr style=\"text-align: right;\">\n",
       "      <th></th>\n",
       "      <th>audio</th>\n",
       "      <th>label</th>\n",
       "    </tr>\n",
       "  </thead>\n",
       "  <tbody>\n",
       "    <tr>\n",
       "      <th>0</th>\n",
       "      <td>surprised/suprised_03-01-08-01-01-01-01_norm_o...</td>\n",
       "      <td>0</td>\n",
       "    </tr>\n",
       "    <tr>\n",
       "      <th>1</th>\n",
       "      <td>neutral/neutral_03-01-01-01-01-02-13_norm_outN...</td>\n",
       "      <td>1</td>\n",
       "    </tr>\n",
       "    <tr>\n",
       "      <th>2</th>\n",
       "      <td>angry/angry_03-01-05-02-02-02-22_norm_outNoise...</td>\n",
       "      <td>0</td>\n",
       "    </tr>\n",
       "    <tr>\n",
       "      <th>3</th>\n",
       "      <td>disgust/disgust_03-01-07-01-01-01-02_norm_outN...</td>\n",
       "      <td>0</td>\n",
       "    </tr>\n",
       "    <tr>\n",
       "      <th>4</th>\n",
       "      <td>sad/sad_dia29_utt3_norm_outNoise.wav</td>\n",
       "      <td>0</td>\n",
       "    </tr>\n",
       "  </tbody>\n",
       "</table>\n",
       "</div>"
      ],
      "text/plain": [
       "                                               audio label\n",
       "0  surprised/suprised_03-01-08-01-01-01-01_norm_o...     0\n",
       "1  neutral/neutral_03-01-01-01-01-02-13_norm_outN...     1\n",
       "2  angry/angry_03-01-05-02-02-02-22_norm_outNoise...     0\n",
       "3  disgust/disgust_03-01-07-01-01-01-02_norm_outN...     0\n",
       "4               sad/sad_dia29_utt3_norm_outNoise.wav     0"
      ]
     },
     "metadata": {
      "tags": []
     },
     "output_type": "display_data"
    }
   ],
   "source": [
    "parent_dir = \"fusion_data\"\n",
    "def prepare_datadf(parent_dir): # a function whose parameter is the audio folder\n",
    "    df = pd.DataFrame(columns = ['audio', 'label']) #dataframe columns\n",
    "    \n",
    "    for  fichier_audio in os.listdir(parent_dir): # for each element in the audio folder\n",
    "        folder_path = os.path.join(parent_dir, fichier_audio) # path of each item  in the audio folder\n",
    "        \n",
    "       \n",
    "        \n",
    "        if(os.path.isdir(folder_path)): \n",
    "            audios = os.listdir(folder_path) #content of each emotional file\n",
    "            for i in audios:\n",
    "                emotion = None\n",
    "                if i.endswith('outNoise.wav'):\n",
    "                    if i.startswith(\"neutral\"):\n",
    "                        emotion = 1\n",
    "                    \n",
    "                    else:\n",
    "                        emotion = 0\n",
    "                    df = df.append(pd.DataFrame({'audio':[os.path.join(fichier_audio, i)], 'label':[emotion]}), \n",
    "                           ignore_index=True) # here at df defined, with the columns we add the values:\n",
    "                                            #the audio column will take the audios_path, \n",
    "                                            #and the emotion column will take the corresponding emotion, ie the name of the folder\n",
    "    #Shuffling for randomness\n",
    "    df = df.sample(frac=1.0).reset_index(drop=True)\n",
    "    return df\n",
    "datadf = prepare_datadf(parent_dir) #function call\n",
    "display(datadf.head()) #dataframe display\n",
    "\n",
    "\t"
   ]
  },
  {
   "cell_type": "markdown",
   "metadata": {
    "colab_type": "text",
    "id": "Dr4_HGmdH_hY"
   },
   "source": [
    "Number of labels 1 and 0"
   ]
  },
  {
   "cell_type": "code",
   "execution_count": 8,
   "metadata": {
    "colab": {
     "base_uri": "https://localhost:8080/",
     "height": 72
    },
    "colab_type": "code",
    "executionInfo": {
     "elapsed": 1514,
     "status": "ok",
     "timestamp": 1596310766376,
     "user": {
      "displayName": "BARRY Nene Djenaba",
      "photoUrl": "",
      "userId": "09221402848573081539"
     },
     "user_tz": -120
    },
    "id": "3_Rz5am4IBEV",
    "outputId": "60153ff2-1668-4ff4-8898-6f64e28f94ee"
   },
   "outputs": [
    {
     "name": "stdout",
     "output_type": "stream",
     "text": [
      "0    1753\n",
      "1     535\n",
      "Name: label, dtype: int64\n"
     ]
    }
   ],
   "source": [
    "array=datadf.values\n",
    "audios=array[:,0]\n",
    "emotions=array[:,1]\n",
    "print(datadf.label.value_counts())"
   ]
  },
  {
   "cell_type": "markdown",
   "metadata": {
    "colab_type": "text",
    "id": "DM9Dsr6nGdQK"
   },
   "source": [
    "Preprocessing"
   ]
  },
  {
   "cell_type": "markdown",
   "metadata": {
    "colab_type": "text",
    "id": "wWiD09QxGpVJ"
   },
   "source": [
    "Function for framing and windowing the audio_files"
   ]
  },
  {
   "cell_type": "code",
   "execution_count": 9,
   "metadata": {
    "colab": {},
    "colab_type": "code",
    "executionInfo": {
     "elapsed": 2226,
     "status": "ok",
     "timestamp": 1596310830912,
     "user": {
      "displayName": "BARRY Nene Djenaba",
      "photoUrl": "",
      "userId": "09221402848573081539"
     },
     "user_tz": -120
    },
    "id": "PhgtSddTGvNT"
   },
   "outputs": [],
   "source": [
    "def fram_window(audio_path):\n",
    "    loader = essentia.standard.MonoLoader(filename= audio_path)\n",
    "\n",
    "    # and then we actually perform the loading:\n",
    "    audio = loader()\n",
    "\n",
    "    w = Windowing(type = 'hann')\n",
    "    spectrum = Spectrum() \n",
    "    #default parameter (hopsize and framesize)\n",
    "    hopSize = 512\n",
    "    frameSize = 1024 \n",
    "    for frame in FrameGenerator(audio, frameSize=1024, hopSize=512, startFromZero=True):\n",
    "        spect = spectrum(w(frame))\n",
    "    return spect"
   ]
  },
  {
   "cell_type": "markdown",
   "metadata": {
    "colab_type": "text",
    "id": "L5G6NwKlG8JW"
   },
   "source": [
    "function for features extraction:"
   ]
  },
  {
   "cell_type": "code",
   "execution_count": 10,
   "metadata": {
    "colab": {},
    "colab_type": "code",
    "executionInfo": {
     "elapsed": 1161,
     "status": "ok",
     "timestamp": 1596310875298,
     "user": {
      "displayName": "BARRY Nene Djenaba",
      "photoUrl": "",
      "userId": "09221402848573081539"
     },
     "user_tz": -120
    },
    "id": "AjNAMwsfG2C8"
   },
   "outputs": [],
   "source": [
    "def extract_features(audio_path):\n",
    "    features = []\n",
    "    \n",
    "    \n",
    "    #Load audios with the different libraries\n",
    "      \n",
    "    y,sr = librosa.load(audio_path)\n",
    "    sound = parselmouth.Sound(audio_path)\n",
    "    fs, sig = scipy.io.wavfile.read(audio_path) \n",
    "    \n",
    "    pitch = call(sound, \"To Pitch\", 0.0, 75, 600)\n",
    "    mean_pitch = call(pitch, \"Get mean\", 0, 0, \"Hertz\")\n",
    "    \n",
    "    spec =  fram_window(audio_path) \n",
    "    duration = librosa.get_duration(y= spec, sr=sr)\n",
    "    energy = np.sum(spec ** 2) / np.float64(len(spec))\n",
    "            \n",
    "    lpc = librosa.core.lpc(spec,16)\n",
    "            \n",
    "    zcr = librosa.feature.zero_crossing_rate(spec)\n",
    "               \n",
    "    #gfccs = gfcc(sig= spec, fs=fs, num_ceps=13)    \n",
    "    mfcc = librosa.feature.mfcc(y= spec, sr=sr, n_mfcc = 13)\n",
    "        \n",
    "    harmonicity = call(sound, \"To Harmonicity (cc)\", 0.01, 75, 0.1, 1.0)\n",
    "    HNR = call(harmonicity, \"Get mean\", 0, 0)\n",
    "                \n",
    "    pointProcess = call(sound, \"To PointProcess (periodic, cc)\", 75, 500)\n",
    "    localJitter = call(pointProcess, \"Get jitter (local)\", 0, 0, 0.0001, 0.02, 1.3)\n",
    "    localabsoluteJitter = call(pointProcess, \"Get jitter (local, absolute)\", 0, 0, 0.0001, 0.02, 1.3)\n",
    "\n",
    "    localShimmer =  call([sound, pointProcess], \"Get shimmer (local)\", 0, 0, 0.0001, 0.02, 1.3, 1.6)\n",
    "    localdbShimmer = call([sound, pointProcess], \"Get shimmer (local_dB)\", 0, 0, 0.0001, 0.02, 1.3, 1.6)\n",
    "        \n",
    "    formants = call(sound, \"To Formant (burg)\", 0.0, 5, 5500, 0.025, 100)\n",
    "    numPoints = call(pointProcess, \"Get number of points\")\n",
    "\n",
    "    f1_list = []\n",
    "    f2_list = []\n",
    "    f3_list = []\n",
    "    f4_list = []\n",
    "    \n",
    "    # Measure formants only at glottal pulses\n",
    "    for point in range(0, numPoints):\n",
    "        point += 1\n",
    "        t = call(pointProcess, \"Get time from index\", point)\n",
    "        f1 = call(formants, \"Get value at time\", 1, t, 'Hertz', 'Linear')\n",
    "        f2 = call(formants, \"Get value at time\", 2, t, 'Hertz', 'Linear')\n",
    "        f3 = call(formants, \"Get value at time\", 3, t, 'Hertz', 'Linear')\n",
    "        f4 = call(formants, \"Get value at time\", 4, t, 'Hertz', 'Linear')\n",
    "        f1_list.append(f1)\n",
    "        f2_list.append(f2)\n",
    "        f3_list.append(f3)\n",
    "        f4_list.append(f4)\n",
    "        \n",
    "    f1_list = [f1 for f1 in f1_list if str(f1) != 'nan']\n",
    "    f2_list = [f2 for f2 in f2_list if str(f2) != 'nan']\n",
    "    f3_list = [f3 for f3 in f3_list if str(f3) != 'nan']\n",
    "    \n",
    "    f4_list = [f4 for f4 in f4_list if str(f4) != 'nan']\n",
    "\n",
    "    f1_mean = statistics.mean(f1_list)\n",
    "    f2_mean = statistics.mean(f2_list)\n",
    "    f3_mean = statistics.mean(f3_list)\n",
    "    f4_mean = statistics.mean(f4_list)\n",
    "    \n",
    "    rapJitter = call(pointProcess, \"Get jitter (rap)\", 0, 0, 0.0001, 0.02, 1.3)\n",
    "    ppq5Jitter = call(pointProcess, \"Get jitter (ppq5)\", 0, 0, 0.0001, 0.02, 1.3)\n",
    "    ddpJitter = call(pointProcess, \"Get jitter (ddp)\", 0, 0, 0.0001, 0.02, 1.3)   \n",
    "            \n",
    "    apq3Shimmer = call([sound, pointProcess], \"Get shimmer (apq3)\", 0, 0, 0.0001, 0.02, 1.3, 1.6)\n",
    "    aqpq5Shimmer = call([sound, pointProcess], \"Get shimmer (apq5)\", 0, 0, 0.0001, 0.02, 1.3, 1.6)\n",
    "    apq11Shimmer =  call([sound, pointProcess], \"Get shimmer (apq11)\", 0, 0, 0.0001, 0.02, 1.3, 1.6)\n",
    "    ddaShimmer = call([sound, pointProcess], \"Get shimmer (dda)\", 0, 0, 0.0001, 0.02, 1.3, 1.6)\n",
    "    \n",
    "    features.append(mean_pitch)\n",
    "    features.append(duration)\n",
    "    features.append(energy)\n",
    "    features.append(np.mean(zcr))\n",
    "    features.append(np.mean(lpc))\n",
    "    \n",
    "        \n",
    "    features.append(np.mean(mfcc))\n",
    "    \n",
    "    #features.append(np.mean(gfccs))\n",
    "    features.append(HNR)\n",
    "    \n",
    "    features.append(localJitter)\n",
    "    features.append(np.mean(localabsoluteJitter))\n",
    "    \n",
    "    features.append(localShimmer)\n",
    "    features.append(localdbShimmer)\n",
    "    features.append(f1_mean)   \n",
    "    features.append(f2_mean)\n",
    "    features.append(f3_mean)\n",
    "    features.append(f4_mean)\n",
    "        \n",
    "    features.append(rapJitter)\n",
    "    features.append(ppq5Jitter)\n",
    "    features.append(ddpJitter)\n",
    "    \n",
    "    features.append(apq3Shimmer)\n",
    "    features.append(aqpq5Shimmer)\n",
    "    features.append(apq11Shimmer)\n",
    "    features.append(ddaShimmer)\n",
    "        \n",
    "    return features"
   ]
  },
  {
   "cell_type": "markdown",
   "metadata": {
    "colab_type": "text",
    "id": "QqLDut92HWAf"
   },
   "source": [
    "Application of features extraction function on all audios"
   ]
  },
  {
   "cell_type": "code",
   "execution_count": 11,
   "metadata": {
    "colab": {},
    "colab_type": "code",
    "executionInfo": {
     "elapsed": 4225042,
     "status": "ok",
     "timestamp": 1596315144962,
     "user": {
      "displayName": "BARRY Nene Djenaba",
      "photoUrl": "",
      "userId": "09221402848573081539"
     },
     "user_tz": -120
    },
    "id": "i4HYtF5eHXRr"
   },
   "outputs": [],
   "source": [
    "all_features = []\n",
    "folder ='fusion_data'\n",
    "for audio_file in array[:,0]:\n",
    "    if audio_file.endswith('.wav'):\n",
    "        \n",
    "        features = extract_features(folder+'/'+audio_file)\n",
    "        all_features.append(features)"
   ]
  },
  {
   "cell_type": "code",
   "execution_count": 12,
   "metadata": {
    "colab": {
     "base_uri": "https://localhost:8080/",
     "height": 35
    },
    "colab_type": "code",
    "executionInfo": {
     "elapsed": 1056,
     "status": "ok",
     "timestamp": 1596315628869,
     "user": {
      "displayName": "BARRY Nene Djenaba",
      "photoUrl": "",
      "userId": "09221402848573081539"
     },
     "user_tz": -120
    },
    "id": "x8PZZgEyUeYX",
    "outputId": "3f37c28b-eb0c-496d-d728-241b46c04447"
   },
   "outputs": [
    {
     "name": "stdout",
     "output_type": "stream",
     "text": [
      "2288\n"
     ]
    }
   ],
   "source": [
    "print(len(all_features))"
   ]
  },
  {
   "cell_type": "markdown",
   "metadata": {
    "colab_type": "text",
    "id": "XNvIDRVAUpD3"
   },
   "source": [
    "Encode labels"
   ]
  },
  {
   "cell_type": "code",
   "execution_count": 13,
   "metadata": {
    "colab": {},
    "colab_type": "code",
    "executionInfo": {
     "elapsed": 956,
     "status": "ok",
     "timestamp": 1596315636671,
     "user": {
      "displayName": "BARRY Nene Djenaba",
      "photoUrl": "",
      "userId": "09221402848573081539"
     },
     "user_tz": -120
    },
    "id": "oDxfO5SJUss2"
   },
   "outputs": [],
   "source": [
    "encod = preprocessing.LabelEncoder()\n",
    "emotions = array[:,1]\n",
    "encod.fit(emotions)\n",
    "list(encod.classes_)\n",
    "labels=encod.transform(emotions)"
   ]
  },
  {
   "cell_type": "markdown",
   "metadata": {
    "colab_type": "text",
    "id": "atpDw444U3tg"
   },
   "source": [
    "Scale features"
   ]
  },
  {
   "cell_type": "code",
   "execution_count": 15,
   "metadata": {
    "colab": {},
    "colab_type": "code",
    "executionInfo": {
     "elapsed": 821,
     "status": "ok",
     "timestamp": 1596315644304,
     "user": {
      "displayName": "BARRY Nene Djenaba",
      "photoUrl": "",
      "userId": "09221402848573081539"
     },
     "user_tz": -120
    },
    "id": "FAI6k0k1U5I6"
   },
   "outputs": [],
   "source": [
    "scaler = StandardScaler()\n",
    "scaler.fit(all_features)\n",
    "X_scaler = scaler.transform(all_features)"
   ]
  },
  {
   "cell_type": "markdown",
   "metadata": {
    "colab_type": "text",
    "id": "hENmg0CTVBrQ"
   },
   "source": [
    "Oversampling"
   ]
  },
  {
   "cell_type": "code",
   "execution_count": 17,
   "metadata": {
    "colab": {
     "base_uri": "https://localhost:8080/",
     "height": 53
    },
    "colab_type": "code",
    "executionInfo": {
     "elapsed": 716,
     "status": "ok",
     "timestamp": 1596315709489,
     "user": {
      "displayName": "BARRY Nene Djenaba",
      "photoUrl": "",
      "userId": "09221402848573081539"
     },
     "user_tz": -120
    },
    "id": "OpQA2jnHVC3M",
    "outputId": "f09e8766-a850-41bc-e4b9-c8b2746b656f"
   },
   "outputs": [
    {
     "name": "stdout",
     "output_type": "stream",
     "text": [
      "After OverSampling, counts of label '1': 1037\n",
      "After OverSampling, counts of label '0': 1753\n"
     ]
    }
   ],
   "source": [
    "ada = ADASYN(sampling_strategy = 0.6)\n",
    "X, y = ada.fit_sample(X_scaler, labels.ravel())\n",
    "print(\"After OverSampling, counts of label '1': {}\".format(sum(y==1)))\n",
    "print(\"After OverSampling, counts of label '0': {}\".format(sum(y==0)))"
   ]
  },
  {
   "cell_type": "markdown",
   "metadata": {
    "colab_type": "text",
    "id": "dy5_XTIhVSpm"
   },
   "source": [
    "Process to select features after oversampling with ADASYN : the code first takes in a list the position of the features that are deleted, during the 1000 iterations, then uses a dataframe to count them. we notice that the features \" [1, 3, 4, 6, 9, 12, 13, 14, 18, 19, 21]   \" are deleted 256 times."
   ]
  },
  {
   "cell_type": "code",
   "execution_count": 18,
   "metadata": {
    "colab": {
     "base_uri": "https://localhost:8080/",
     "height": 824
    },
    "colab_type": "code",
    "executionInfo": {
     "elapsed": 80618,
     "status": "ok",
     "timestamp": 1596315858601,
     "user": {
      "displayName": "BARRY Nene Djenaba",
      "photoUrl": "",
      "userId": "09221402848573081539"
     },
     "user_tz": -120
    },
    "id": "NtMPEzopVUKN",
    "outputId": "847fb45e-e793-401d-c7dc-abeaf1c4d5f1"
   },
   "outputs": [
    {
     "data": {
      "text/html": [
       "<div>\n",
       "<style scoped>\n",
       "    .dataframe tbody tr th:only-of-type {\n",
       "        vertical-align: middle;\n",
       "    }\n",
       "\n",
       "    .dataframe tbody tr th {\n",
       "        vertical-align: top;\n",
       "    }\n",
       "\n",
       "    .dataframe thead th {\n",
       "        text-align: right;\n",
       "    }\n",
       "</style>\n",
       "<table border=\"1\" class=\"dataframe\">\n",
       "  <thead>\n",
       "    <tr style=\"text-align: right;\">\n",
       "      <th></th>\n",
       "      <th>iteration</th>\n",
       "      <th>X_removed</th>\n",
       "    </tr>\n",
       "  </thead>\n",
       "  <tbody>\n",
       "    <tr>\n",
       "      <th>0</th>\n",
       "      <td>1</td>\n",
       "      <td>[1, 3, 4, 6, 9, 12, 13, 14, 18, 19, 21]</td>\n",
       "    </tr>\n",
       "    <tr>\n",
       "      <th>1</th>\n",
       "      <td>2</td>\n",
       "      <td>[1, 3, 4, 6, 9, 13, 18, 19, 21]</td>\n",
       "    </tr>\n",
       "    <tr>\n",
       "      <th>2</th>\n",
       "      <td>3</td>\n",
       "      <td>[1, 3, 4, 6, 9, 12, 13, 14, 18, 19, 21]</td>\n",
       "    </tr>\n",
       "    <tr>\n",
       "      <th>3</th>\n",
       "      <td>4</td>\n",
       "      <td>[1, 3, 4, 6, 9, 12, 13, 14, 18, 19, 21]</td>\n",
       "    </tr>\n",
       "    <tr>\n",
       "      <th>4</th>\n",
       "      <td>5</td>\n",
       "      <td>[1, 3, 4, 6, 9, 13, 14, 15, 17, 18, 19, 21]</td>\n",
       "    </tr>\n",
       "  </tbody>\n",
       "</table>\n",
       "</div>"
      ],
      "text/plain": [
       "  iteration                                    X_removed\n",
       "0         1      [1, 3, 4, 6, 9, 12, 13, 14, 18, 19, 21]\n",
       "1         2              [1, 3, 4, 6, 9, 13, 18, 19, 21]\n",
       "2         3      [1, 3, 4, 6, 9, 12, 13, 14, 18, 19, 21]\n",
       "3         4      [1, 3, 4, 6, 9, 12, 13, 14, 18, 19, 21]\n",
       "4         5  [1, 3, 4, 6, 9, 13, 14, 15, 17, 18, 19, 21]"
      ]
     },
     "metadata": {
      "tags": []
     },
     "output_type": "display_data"
    },
    {
     "name": "stdout",
     "output_type": "stream",
     "text": [
      "Number of occurrences of features that are removed :\n"
     ]
    },
    {
     "data": {
      "text/plain": [
       "[1, 3, 4, 6, 9, 12, 13, 14, 18, 19, 21]                   256\n",
       "[1, 3, 4, 6, 9, 13, 14, 18, 19, 21]                       164\n",
       "[1, 3, 4, 6, 9, 12, 13, 18, 19, 21]                       104\n",
       "[1, 3, 4, 6, 9, 13, 18, 19, 21]                            77\n",
       "[1, 3, 4, 6, 8, 9, 12, 13, 14, 15, 17, 18, 19, 21]         60\n",
       "[1, 3, 4, 6, 8, 9, 12, 13, 14, 18, 19, 21]                 45\n",
       "[1, 3, 4, 6, 8, 9, 13, 14, 18, 19, 21]                     42\n",
       "[1, 3, 4, 6, 9, 12, 13, 14, 15, 17, 18, 19, 21]            34\n",
       "[1, 3, 4, 6, 9, 13, 14, 15, 17, 18, 19, 21]                30\n",
       "[1, 3, 4, 6, 8, 9, 12, 13, 18, 19, 21]                     28\n",
       "[1, 3, 4, 6, 8, 9, 12, 13, 15, 17, 18, 19, 21]             24\n",
       "[1, 3, 4, 6, 8, 9, 13, 14, 15, 17, 18, 19, 21]             23\n",
       "[1, 3, 4, 6, 8, 9, 13, 18, 19, 21]                         22\n",
       "[1, 3, 4, 6, 8, 9, 13, 15, 17, 18, 19, 21]                 19\n",
       "[1, 3, 4, 6, 9, 12, 13, 15, 17, 18, 19, 21]                17\n",
       "[1, 3, 4, 6, 9, 12, 13, 14, 18, 19, 20, 21]                13\n",
       "[1, 3, 4, 6, 9, 13, 15, 17, 18, 19, 21]                    10\n",
       "[1, 3, 4, 6, 9, 13, 18, 19, 20, 21]                         6\n",
       "[1, 3, 4, 6, 9, 12, 13, 18, 19, 20, 21]                     4\n",
       "[1, 3, 4, 6, 9, 13, 14, 18, 19, 20, 21]                     4\n",
       "[1, 3, 4, 6, 13, 14, 18, 19, 21]                            3\n",
       "[1, 3, 4, 6, 12, 13, 14, 18, 19, 21]                        2\n",
       "[1, 3, 4, 6, 8, 12, 13, 18, 19, 21]                         2\n",
       "[1, 3, 4, 6, 8, 9, 12, 13, 14, 15, 17, 18, 19, 20, 21]      2\n",
       "[1, 3, 4, 6, 9, 12, 13, 14, 15, 17, 18, 19, 20, 21]         2\n",
       "[1, 3, 4, 6, 9, 13, 14, 15, 17, 18, 19, 20, 21]             1\n",
       "[1, 3, 4, 6, 8, 12, 13, 14, 15, 17, 18, 19, 21]             1\n",
       "[1, 3, 4, 6, 8, 12, 13, 14, 18, 19, 21]                     1\n",
       "[1, 3, 4, 6, 8, 9, 12, 13, 14, 18, 19, 20, 21]              1\n",
       "[1, 3, 4, 6, 9, 13, 15, 17, 18, 19, 20, 21]                 1\n",
       "[1, 3, 4, 6, 12, 13, 18, 19, 21]                            1\n",
       "[1, 3, 4, 6, 8, 13, 14, 18, 19, 21]                         1\n",
       "Name: X_removed, dtype: int64"
      ]
     },
     "execution_count": 18,
     "metadata": {
      "tags": []
     },
     "output_type": "execute_result"
    }
   ],
   "source": [
    "compt=0\n",
    "df = pd.DataFrame(columns = ['iteration', 'X_removed'])\n",
    "while compt < 1000:\n",
    "    ada = ADASYN(sampling_strategy = 0.6)\n",
    "    \n",
    "    X, y = ada.fit_sample(X_scaler, labels.ravel())\n",
    "    X = np.asarray(X)\n",
    "    Kbest = SelectKBest(k=\"all\")\n",
    "    selec_features = Kbest.fit(X, y)\n",
    "    alpha = 0.01\n",
    "    #remove non_signifiant features selection\n",
    "    X_selec = X[:,np.where(selec_features.pvalues_ < alpha)[0]]\n",
    "    \n",
    "    pos_removed = []    \n",
    "    for i in range(len(X[0])):\n",
    "   \n",
    "        if X[0][i] not in X_selec[0]:\n",
    "            #print(i)\n",
    "            pos_removed.append(i)\n",
    "            str_pos_removed = str(pos_removed)\n",
    "    #print(pos_removed)\n",
    "    \n",
    "    compt = compt + 1\n",
    "    df= df.append(pd.DataFrame({'iteration':[compt], 'X_removed':[str_pos_removed]}), ignore_index=True)\n",
    "display(df.head())\n",
    "\n",
    "print(\"Number of occurrences of features that are removed :\")\n",
    "df[\"X_removed\"].value_counts()"
   ]
  },
  {
   "cell_type": "code",
   "execution_count": 19,
   "metadata": {
    "colab": {},
    "colab_type": "code",
    "executionInfo": {
     "elapsed": 1768,
     "status": "ok",
     "timestamp": 1596316274220,
     "user": {
      "displayName": "BARRY Nene Djenaba",
      "photoUrl": "",
      "userId": "09221402848573081539"
     },
     "user_tz": -120
    },
    "id": "6sTQj5wDWdev"
   },
   "outputs": [],
   "source": [
    "#manually feature selection\n",
    "X_selected = []\n",
    "for i in range(len(X)):\n",
    "    #print(w[i][0])\n",
    "    X_selected.append([X[i][0],  X[i][2],  X[i][5],   X[i][7],\n",
    "             X[i][8] ,  X[i][10], X[i][11],  X[i][15], X[i][16], \n",
    "                X[i][17], X[i][20]])"
   ]
  },
  {
   "cell_type": "markdown",
   "metadata": {
    "colab_type": "text",
    "id": "Ch2KlT914uA9"
   },
   "source": [
    "Split dataset to Train, Test and Val"
   ]
  },
  {
   "cell_type": "code",
   "execution_count": 20,
   "metadata": {
    "colab": {
     "base_uri": "https://localhost:8080/",
     "height": 72
    },
    "colab_type": "code",
    "executionInfo": {
     "elapsed": 2008,
     "status": "ok",
     "timestamp": 1596316298290,
     "user": {
      "displayName": "BARRY Nene Djenaba",
      "photoUrl": "",
      "userId": "09221402848573081539"
     },
     "user_tz": -120
    },
    "id": "VYsXl_cV4vbq",
    "outputId": "95b298d5-f26b-4cac-fb38-94a73c8c5aca"
   },
   "outputs": [
    {
     "name": "stdout",
     "output_type": "stream",
     "text": [
      "1785\n",
      "558\n",
      "447\n"
     ]
    }
   ],
   "source": [
    "#split train test\n",
    "X_train, X_test, y_train, y_test = train_test_split(\n",
    "    X_selected, y, test_size=0.2, random_state=1)\n",
    "X_train, X_val, y_train, y_val = train_test_split(\n",
    "    X_train, y_train, test_size=0.2, random_state=1)\n",
    "\n",
    "print(len(X_train))\n",
    "print(len(X_test))\n",
    "print(len(X_val))"
   ]
  },
  {
   "cell_type": "markdown",
   "metadata": {
    "colab_type": "text",
    "id": "qKDxXRwvXKS_"
   },
   "source": [
    "Research of best parameters for all classifiers"
   ]
  },
  {
   "cell_type": "code",
   "execution_count": 21,
   "metadata": {
    "colab": {
     "base_uri": "https://localhost:8080/",
     "height": 1000
    },
    "colab_type": "code",
    "executionInfo": {
     "elapsed": 682019,
     "status": "ok",
     "timestamp": 1596317015504,
     "user": {
      "displayName": "BARRY Nene Djenaba",
      "photoUrl": "",
      "userId": "09221402848573081539"
     },
     "user_tz": -120
    },
    "id": "PUSjm6Qr5J66",
    "outputId": "76a6e32e-e6dc-44bd-8e01-dfe16ef1f22f"
   },
   "outputs": [
    {
     "name": "stdout",
     "output_type": "stream",
     "text": [
      " the best result: \n",
      "\n",
      "Classifier :  SVC  score 0.76  with  SVC(C=10, break_ties=False, cache_size=200, class_weight=None, coef0=0.0,\n",
      "    decision_function_shape='ovr', degree=3, gamma=1, kernel='rbf', max_iter=-1,\n",
      "    probability=False, random_state=None, shrinking=True, tol=0.001,\n",
      "    verbose=False) \n",
      "\n",
      "all results: \n",
      "\n",
      "Classifier :  SVC  score 0.76  with  SVC(C=10, break_ties=False, cache_size=200, class_weight=None, coef0=0.0,\n",
      "    decision_function_shape='ovr', degree=3, gamma=1, kernel='rbf', max_iter=-1,\n",
      "    probability=False, random_state=None, shrinking=True, tol=0.001,\n",
      "    verbose=False) \n",
      "\n",
      "Classifier :  XGboost  score 0.76  with  XGBClassifier(base_score=0.5, booster='gbtree', colsample_bylevel=1,\n",
      "              colsample_bynode=1, colsample_bytree=1, gamma=0.2,\n",
      "              learning_rate=0.1, max_delta_step=0, max_depth=9,\n",
      "              min_child_weight=1, missing=None, n_estimators=100, n_jobs=1,\n",
      "              nthread=None, objective='binary:logistic', random_state=0,\n",
      "              reg_alpha=0, reg_lambda=1, scale_pos_weight=1, seed=None,\n",
      "              silent=None, subsample=0.7, verbosity=1) \n",
      "\n",
      "Classifier :  RandomForest  score 0.75  with  RandomForestClassifier(bootstrap=True, ccp_alpha=0.0, class_weight=None,\n",
      "                       criterion='gini', max_depth=10, max_features='auto',\n",
      "                       max_leaf_nodes=None, max_samples=None,\n",
      "                       min_impurity_decrease=0.0, min_impurity_split=None,\n",
      "                       min_samples_leaf=1, min_samples_split=2,\n",
      "                       min_weight_fraction_leaf=0.0, n_estimators=100,\n",
      "                       n_jobs=None, oob_score=False, random_state=None,\n",
      "                       verbose=0, warm_start=False) \n",
      "\n",
      "Classifier :  KNeighborsClassifier  score 0.73  with  KNeighborsClassifier(algorithm='auto', leaf_size=30, metric='minkowski',\n",
      "                     metric_params=None, n_jobs=None, n_neighbors=1, p=2,\n",
      "                     weights='uniform') \n",
      "\n",
      "Classifier :  StochasticGradient  score 0.71  with  SGDClassifier(alpha=0.001, average=False, class_weight=None,\n",
      "              early_stopping=False, epsilon=0.1, eta0=0.0, fit_intercept=True,\n",
      "              l1_ratio=0.2, learning_rate='optimal', loss='hinge',\n",
      "              max_iter=1000, n_iter_no_change=5, n_jobs=None,\n",
      "              penalty='elasticnet', power_t=0.5, random_state=None,\n",
      "              shuffle=True, tol=0.001, validation_fraction=0.1, verbose=0,\n",
      "              warm_start=False) \n",
      "\n",
      "Classifier :  DecisionTreeClassifier  score 0.71  with  DecisionTreeClassifier(ccp_alpha=0.0, class_weight=None, criterion='entropy',\n",
      "                       max_depth=None, max_features=None, max_leaf_nodes=None,\n",
      "                       min_impurity_decrease=0.0, min_impurity_split=None,\n",
      "                       min_samples_leaf=1, min_samples_split=2,\n",
      "                       min_weight_fraction_leaf=0.0, presort='deprecated',\n",
      "                       random_state=None, splitter='best') \n",
      "\n",
      "Classifier :  LogisticRegression  score 0.70  with  LogisticRegression(C=0.1, class_weight=None, dual=False, fit_intercept=True,\n",
      "                   intercept_scaling=1, l1_ratio=None, max_iter=100,\n",
      "                   multi_class='auto', n_jobs=None, penalty='l2',\n",
      "                   random_state=None, solver='lbfgs', tol=0.0001, verbose=0,\n",
      "                   warm_start=False) \n",
      "\n"
     ]
    }
   ],
   "source": [
    "classifiers = {\n",
    "    'KNeighborsClassifier': KNeighborsClassifier(),\n",
    "    'DecisionTreeClassifier': DecisionTreeClassifier(),\n",
    "    'SVC': SVC(),\n",
    "    'RandomForest' : RandomForestClassifier(),\n",
    "    \n",
    "    'LogisticRegression' : LogisticRegression(),\n",
    "    'StochasticGradient' : SGDClassifier(),\n",
    "    \n",
    "    'XGboost': XGBClassifier()\n",
    "}\n",
    "\n",
    "params = {'StochasticGradient' : [{'loss': ['log', 'hinge', 'modified_huber', 'squared_hinge', 'perceptron'],\n",
    "                'penalty': ['l1', 'l2', 'elasticnet'],\n",
    "                'alpha': [10 ** x for x in range(-6, 1)],\n",
    "                'l1_ratio': [0, 0.05, 0.1, 0.2, 0.5, 0.8, 0.9, 0.95, 1]}],  \n",
    "    \n",
    "    \n",
    "    \n",
    "    'KNeighborsClassifier' : [{'n_neighbors': list(range(1,15))},\n",
    "    {'metric': ['minkowski','euclidean','manhattan']}],\n",
    "          \n",
    "              \n",
    "          \n",
    "          \n",
    "           'LogisticRegression': [{'C': [0.001,0.01,0.1,1,10,100],\n",
    "                           'penalty' : [ 'l2']}] ,\n",
    "    \n",
    "          \n",
    "           'DecisionTreeClassifier': [{'max_depth': [1,2,3,4,5,6,7,8,9,10]},\n",
    "    {'criterion': ['gini', 'entropy']},\n",
    "    {'min_samples_leaf': [1,2,3,4,5,6,7,8,9,10]}],\n",
    "          \n",
    "       'SVC':[{'C': [0.001, 0.01, 0.1, 1, 10], \n",
    "    'gamma' : [0.001, 0.01, 0.1, 1], \n",
    "    'kernel': ['linear','rbf']}] ,\n",
    "    \n",
    "    'RandomForest':[{'max_depth': [1,2,3,4,5,6,7,8,9,10],\n",
    "    'criterion': ['gini', 'entropy'],\n",
    "    'min_samples_leaf': [1,2,3,4,5,6,7,8,9,10]}] ,\n",
    "    \n",
    "   \n",
    "   \n",
    "          \n",
    "    'XGboost' :[{'max_depth': range(3,10,2),\n",
    "                 'min_child_weight': range(1,6,2),\n",
    "                 'gamma': [0.1,0.2,0.3,0.4],\n",
    "                 'subsample': [0.5, 0.6, 0.7, 0.8, 0.9]\n",
    "                }]\n",
    "         }\n",
    "\n",
    "\n",
    "\n",
    "\n",
    "\n",
    "class Result:\n",
    "     def __init__(self,name, score, parameters):\n",
    "         self.name = name\n",
    "         self.score = score\n",
    "         self.parameters = parameters\n",
    "     def __repr__(self):\n",
    "         return repr((self.name, self.score, self.parameters))\n",
    "\n",
    "X_train_array = np.asarray(X_train)       \n",
    "results = []\n",
    "for key,value in classifiers.items():\n",
    "    gd_sr = GridSearchCV(estimator=value,  \n",
    "                     param_grid=params[key],\n",
    "                     scoring='accuracy',\n",
    "                     cv=5,\n",
    "                     n_jobs=1,\n",
    "                     iid=True)\n",
    "    gd_sr.fit(X_train_array, y_train)  \n",
    "    result=Result(key,gd_sr.best_score_,gd_sr.best_estimator_)\n",
    "    results.append(result)   \n",
    "    \n",
    "    \n",
    "    \n",
    "results=sorted(results, key=lambda result: result.score, reverse=True) \n",
    "\n",
    "print (' the best result: \\n')\n",
    "print ('Classifier : ',results[0].name, \n",
    "       ' score %0.2f' %results[0].score, \n",
    "       ' with ',results[0].parameters,'\\n')\n",
    "\n",
    "print ('all results: \\n')\n",
    "for result in results:\n",
    "    print ('Classifier : ',result.name, \n",
    "           ' score %0.2f' %result.score, \n",
    "           ' with ',result.parameters,'\\n')"
   ]
  },
  {
   "cell_type": "code",
   "execution_count": 22,
   "metadata": {
    "colab": {
     "base_uri": "https://localhost:8080/",
     "height": 1000
    },
    "colab_type": "code",
    "executionInfo": {
     "elapsed": 3556,
     "status": "ok",
     "timestamp": 1596317299473,
     "user": {
      "displayName": "BARRY Nene Djenaba",
      "photoUrl": "",
      "userId": "09221402848573081539"
     },
     "user_tz": -120
    },
    "id": "82EVKuZD758i",
    "outputId": "eaee9baa-7753-4cc3-db4d-cc794a74949a"
   },
   "outputs": [
    {
     "name": "stdout",
     "output_type": "stream",
     "text": [
      "LR : \n",
      "\n",
      "\n",
      " accuracy_test: 0.6989247311827957 \n",
      "\n",
      "\n",
      " confusion_matrix_svm_test \n",
      " [[279  81]\n",
      " [ 87 111]]\n",
      "\n",
      " precision_test : 0.578125\n",
      "\n",
      " recall_test : 0.5606060606060606\n",
      "\n",
      " f1_score : 0.5692307692307692\n",
      "\n",
      "               precision    recall  f1-score   support\n",
      "\n",
      "           0       0.76      0.78      0.77       360\n",
      "           1       0.58      0.56      0.57       198\n",
      "\n",
      "    accuracy                           0.70       558\n",
      "   macro avg       0.67      0.67      0.67       558\n",
      "weighted avg       0.70      0.70      0.70       558\n",
      "\n"
     ]
    },
    {
     "data": {
      "image/png": "[encoded data removed]",
      "text/plain": [
       "<Figure size 432x288 with 1 Axes>"
      ]
     },
     "metadata": {
      "needs_background": "light",
      "tags": []
     },
     "output_type": "display_data"
    },
    {
     "name": "stdout",
     "output_type": "stream",
     "text": [
      "KNN : \n",
      "\n",
      "\n",
      " accuracy_test: 0.7598566308243727 \n",
      "\n",
      "\n",
      " confusion_matrix_svm_test \n",
      " [[267  93]\n",
      " [ 41 157]]\n",
      "\n",
      " precision_test : 0.628\n",
      "\n",
      " recall_test : 0.7929292929292929\n",
      "\n",
      " f1_score : 0.7008928571428571\n",
      "\n",
      "               precision    recall  f1-score   support\n",
      "\n",
      "           0       0.87      0.74      0.80       360\n",
      "           1       0.63      0.79      0.70       198\n",
      "\n",
      "    accuracy                           0.76       558\n",
      "   macro avg       0.75      0.77      0.75       558\n",
      "weighted avg       0.78      0.76      0.76       558\n",
      "\n"
     ]
    },
    {
     "data": {
      "image/png": "[encoded data removed]",
      "text/plain": [
       "<Figure size 432x288 with 1 Axes>"
      ]
     },
     "metadata": {
      "needs_background": "light",
      "tags": []
     },
     "output_type": "display_data"
    },
    {
     "name": "stdout",
     "output_type": "stream",
     "text": [
      "CART : \n",
      "\n",
      "\n",
      " accuracy_test: 0.6845878136200717 \n",
      "\n",
      "\n",
      " confusion_matrix_svm_test \n",
      " [[265  95]\n",
      " [ 81 117]]\n",
      "\n",
      " precision_test : 0.5518867924528302\n",
      "\n",
      " recall_test : 0.5909090909090909\n",
      "\n",
      " f1_score : 0.5707317073170732\n",
      "\n",
      "               precision    recall  f1-score   support\n",
      "\n",
      "           0       0.77      0.74      0.75       360\n",
      "           1       0.55      0.59      0.57       198\n",
      "\n",
      "    accuracy                           0.68       558\n",
      "   macro avg       0.66      0.66      0.66       558\n",
      "weighted avg       0.69      0.68      0.69       558\n",
      "\n"
     ]
    },
    {
     "data": {
      "image/png": "[encoded data removed]",
      "text/plain": [
       "<Figure size 432x288 with 1 Axes>"
      ]
     },
     "metadata": {
      "needs_background": "light",
      "tags": []
     },
     "output_type": "display_data"
    },
    {
     "name": "stdout",
     "output_type": "stream",
     "text": [
      "NB : \n",
      "\n",
      "\n",
      " accuracy_test: 0.6720430107526881 \n",
      "\n",
      "\n",
      " confusion_matrix_svm_test \n",
      " [[292  68]\n",
      " [115  83]]\n",
      "\n",
      " precision_test : 0.5496688741721855\n",
      "\n",
      " recall_test : 0.41919191919191917\n",
      "\n",
      " f1_score : 0.4756446991404011\n",
      "\n",
      "               precision    recall  f1-score   support\n",
      "\n",
      "           0       0.72      0.81      0.76       360\n",
      "           1       0.55      0.42      0.48       198\n",
      "\n",
      "    accuracy                           0.67       558\n",
      "   macro avg       0.63      0.62      0.62       558\n",
      "weighted avg       0.66      0.67      0.66       558\n",
      "\n"
     ]
    },
    {
     "data": {
      "image/png": "[encoded data removed]",
      "text/plain": [
       "<Figure size 432x288 with 1 Axes>"
      ]
     },
     "metadata": {
      "needs_background": "light",
      "tags": []
     },
     "output_type": "display_data"
    },
    {
     "name": "stdout",
     "output_type": "stream",
     "text": [
      "SVM : \n",
      "\n",
      "\n",
      " accuracy_test: 0.7813620071684588 \n",
      "\n",
      "\n",
      " confusion_matrix_svm_test \n",
      " [[297  63]\n",
      " [ 59 139]]\n",
      "\n",
      " precision_test : 0.6881188118811881\n",
      "\n",
      " recall_test : 0.702020202020202\n",
      "\n",
      " f1_score : 0.695\n",
      "\n",
      "               precision    recall  f1-score   support\n",
      "\n",
      "           0       0.83      0.82      0.83       360\n",
      "           1       0.69      0.70      0.69       198\n",
      "\n",
      "    accuracy                           0.78       558\n",
      "   macro avg       0.76      0.76      0.76       558\n",
      "weighted avg       0.78      0.78      0.78       558\n",
      "\n"
     ]
    },
    {
     "data": {
      "image/png": "[encoded data removed]",
      "text/plain": [
       "<Figure size 432x288 with 1 Axes>"
      ]
     },
     "metadata": {
      "needs_background": "light",
      "tags": []
     },
     "output_type": "display_data"
    },
    {
     "name": "stdout",
     "output_type": "stream",
     "text": [
      "SGD : \n",
      "\n",
      "\n",
      " accuracy_test: 0.6810035842293907 \n",
      "\n",
      "\n",
      " confusion_matrix_svm_test \n",
      " [[255 105]\n",
      " [ 73 125]]\n",
      "\n",
      " precision_test : 0.5434782608695652\n",
      "\n",
      " recall_test : 0.6313131313131313\n",
      "\n",
      " f1_score : 0.5841121495327103\n",
      "\n",
      "               precision    recall  f1-score   support\n",
      "\n",
      "           0       0.78      0.71      0.74       360\n",
      "           1       0.54      0.63      0.58       198\n",
      "\n",
      "    accuracy                           0.68       558\n",
      "   macro avg       0.66      0.67      0.66       558\n",
      "weighted avg       0.69      0.68      0.69       558\n",
      "\n"
     ]
    },
    {
     "data": {
      "image/png": "[encoded data removed]",
      "text/plain": [
       "<Figure size 432x288 with 1 Axes>"
      ]
     },
     "metadata": {
      "needs_background": "light",
      "tags": []
     },
     "output_type": "display_data"
    },
    {
     "name": "stdout",
     "output_type": "stream",
     "text": [
      "RF : \n",
      "\n",
      "\n",
      " accuracy_test: 0.7580645161290323 \n",
      "\n",
      "\n",
      " confusion_matrix_svm_test \n",
      " [[274  86]\n",
      " [ 49 149]]\n",
      "\n",
      " precision_test : 0.6340425531914894\n",
      "\n",
      " recall_test : 0.7525252525252525\n",
      "\n",
      " f1_score : 0.6882217090069284\n",
      "\n",
      "               precision    recall  f1-score   support\n",
      "\n",
      "           0       0.85      0.76      0.80       360\n",
      "           1       0.63      0.75      0.69       198\n",
      "\n",
      "    accuracy                           0.76       558\n",
      "   macro avg       0.74      0.76      0.75       558\n",
      "weighted avg       0.77      0.76      0.76       558\n",
      "\n"
     ]
    },
    {
     "data": {
      "image/png": "[encoded data removed]",
      "text/plain": [
       "<Figure size 432x288 with 1 Axes>"
      ]
     },
     "metadata": {
      "needs_background": "light",
      "tags": []
     },
     "output_type": "display_data"
    },
    {
     "name": "stdout",
     "output_type": "stream",
     "text": [
      "Xgboost : \n",
      "\n",
      "\n",
      " accuracy_test: 0.7526881720430108 \n",
      "\n",
      "\n",
      " confusion_matrix_svm_test \n",
      " [[275  85]\n",
      " [ 53 145]]\n",
      "\n",
      " precision_test : 0.6304347826086957\n",
      "\n",
      " recall_test : 0.7323232323232324\n",
      "\n",
      " f1_score : 0.677570093457944\n",
      "\n",
      "               precision    recall  f1-score   support\n",
      "\n",
      "           0       0.84      0.76      0.80       360\n",
      "           1       0.63      0.73      0.68       198\n",
      "\n",
      "    accuracy                           0.75       558\n",
      "   macro avg       0.73      0.75      0.74       558\n",
      "weighted avg       0.76      0.75      0.76       558\n",
      "\n"
     ]
    },
    {
     "data": {
      "image/png": "[encoded data removed]",
      "text/plain": [
       "<Figure size 432x288 with 1 Axes>"
      ]
     },
     "metadata": {
      "needs_background": "light",
      "tags": []
     },
     "output_type": "display_data"
    }
   ],
   "source": [
    "models = []\n",
    "\n",
    "models.append(('LR', LogisticRegression(C = 0.1, penalty ='l2'))) #  name and function of classification\n",
    "models.append(('KNN', KNeighborsClassifier(metric = 'minkowski', n_neighbors = 1)))\n",
    "models.append(('CART', DecisionTreeClassifier(criterion = 'entropy', min_samples_leaf = 1)))\n",
    "models.append(('NB', GaussianNB()))\n",
    "models.append(('SVM', SVC(C = 10, gamma = 1, kernel = 'rbf')))\n",
    "models.append(('SGD',SGDClassifier(alpha = 0.001, l1_ratio = 0.2, loss = 'hinge', penalty = 'elasticnet')))\n",
    "models.append(('RF', RandomForestClassifier(criterion = 'gini', max_depth = 10, min_samples_leaf = 1)))\n",
    "models.append(('Xgboost', XGBClassifier(gamma = 0.2, max_depth = 9, min_child_weight = 1, subsample = 0.7)))\n",
    "\n",
    "\n",
    "for name,model in models:\n",
    "    X_train_array = np.asarray(X_train)\n",
    "    X_test_array = np.asarray(X_test)\n",
    "    model.fit(X_train_array, y_train)\n",
    "    result_test = model.predict(X_test_array)\n",
    "    \n",
    "    print(name, ':', '\\n')\n",
    "    \n",
    "    print('\\n accuracy_test:',accuracy_score(y_test, result_test),'\\n')\n",
    "    conf_test = confusion_matrix(y_test, result_test)\n",
    "    \n",
    "    print ('\\n confusion_matrix_svm_test \\n',conf_test)\n",
    "\n",
    "    print ('\\n precision_test :', precision_score(y_test, result_test))\n",
    "    print('\\n recall_test :', recall_score(y_test, result_test))\n",
    "    print('\\n f1_score :', f1_score(y_test, result_test))\n",
    "\n",
    "    print('\\n' ,classification_report(y_test, result_test))\n",
    "\n",
    "     #auc_test\n",
    "\n",
    "    fpr, tpr, threshold = metrics.roc_curve(y_test, result_test) \n",
    "    roc_auc_test = metrics.auc(fpr, tpr)\n",
    "    \n",
    "    plt.title('Receiver Operating Characteristic')\n",
    "    plt.plot(fpr, tpr, 'b', label = 'AUC_test = %0.2f' % roc_auc_test)\n",
    "    plt.legend(loc = 'lower right')\n",
    "    plt.plot([0, 1], [0, 1],'r--')\n",
    "    plt.xlim([0, 1])\n",
    "    plt.ylim([0, 1])\n",
    "    plt.ylabel('True Positive Rate')\n",
    "    plt.xlabel('False Positive Rate')\n",
    "    plt.show()\n",
    "\n",
    "\n",
    "\n",
    "\n",
    "    filename = name+'_'+'neutral_ravdess_meld_MODEL.pkl'\n",
    "    joblib.dump(model, filename)"
   ]
  },
  {
   "cell_type": "markdown",
   "metadata": {
    "colab_type": "text",
    "id": "LZdfvSIXKlRb"
   },
   "source": [
    "Validation"
   ]
  },
  {
   "cell_type": "code",
   "execution_count": 23,
   "metadata": {
    "colab": {
     "base_uri": "https://localhost:8080/",
     "height": 1000
    },
    "colab_type": "code",
    "executionInfo": {
     "elapsed": 2955,
     "status": "ok",
     "timestamp": 1596317378516,
     "user": {
      "displayName": "BARRY Nene Djenaba",
      "photoUrl": "",
      "userId": "09221402848573081539"
     },
     "user_tz": -120
    },
    "id": "XEvZ3hqq9RxL",
    "outputId": "82a6d8e0-9071-42b2-8602-5f70190f998d"
   },
   "outputs": [
    {
     "name": "stdout",
     "output_type": "stream",
     "text": [
      "validation avec LR_neutral_ravdess_meld_MODEL.pkl :\n",
      "\n",
      " accuracy_val: 0.7136465324384788 \n",
      "\n",
      "\n",
      " confusion_matrix_val \n",
      " [[225  57]\n",
      " [ 71  94]]\n",
      "\n",
      " precision_val : 0.6225165562913907\n",
      "\n",
      " recall_val : 0.5696969696969697\n",
      "\n",
      " f1_score : 0.5949367088607594\n",
      "\n",
      "               precision    recall  f1-score   support\n",
      "\n",
      "           0       0.76      0.80      0.78       282\n",
      "           1       0.62      0.57      0.59       165\n",
      "\n",
      "    accuracy                           0.71       447\n",
      "   macro avg       0.69      0.68      0.69       447\n",
      "weighted avg       0.71      0.71      0.71       447\n",
      "\n"
     ]
    },
    {
     "data": {
      "image/png": "[encoded data removed]",
      "text/plain": [
       "<Figure size 432x288 with 1 Axes>"
      ]
     },
     "metadata": {
      "needs_background": "light",
      "tags": []
     },
     "output_type": "display_data"
    },
    {
     "name": "stdout",
     "output_type": "stream",
     "text": [
      "validation avec KNN_neutral_ravdess_meld_MODEL.pkl :\n",
      "\n",
      " accuracy_val: 0.7651006711409396 \n",
      "\n",
      "\n",
      " confusion_matrix_val \n",
      " [[214  68]\n",
      " [ 37 128]]\n",
      "\n",
      " precision_val : 0.6530612244897959\n",
      "\n",
      " recall_val : 0.7757575757575758\n",
      "\n",
      " f1_score : 0.709141274238227\n",
      "\n",
      "               precision    recall  f1-score   support\n",
      "\n",
      "           0       0.85      0.76      0.80       282\n",
      "           1       0.65      0.78      0.71       165\n",
      "\n",
      "    accuracy                           0.77       447\n",
      "   macro avg       0.75      0.77      0.76       447\n",
      "weighted avg       0.78      0.77      0.77       447\n",
      "\n"
     ]
    },
    {
     "data": {
      "image/png": "[encoded data removed]",
      "text/plain": [
       "<Figure size 432x288 with 1 Axes>"
      ]
     },
     "metadata": {
      "needs_background": "light",
      "tags": []
     },
     "output_type": "display_data"
    },
    {
     "name": "stdout",
     "output_type": "stream",
     "text": [
      "validation avec CART_neutral_ravdess_meld_MODEL.pkl :\n",
      "\n",
      " accuracy_val: 0.7315436241610739 \n",
      "\n",
      "\n",
      " confusion_matrix_val \n",
      " [[219  63]\n",
      " [ 57 108]]\n",
      "\n",
      " precision_val : 0.631578947368421\n",
      "\n",
      " recall_val : 0.6545454545454545\n",
      "\n",
      " f1_score : 0.6428571428571428\n",
      "\n",
      "               precision    recall  f1-score   support\n",
      "\n",
      "           0       0.79      0.78      0.78       282\n",
      "           1       0.63      0.65      0.64       165\n",
      "\n",
      "    accuracy                           0.73       447\n",
      "   macro avg       0.71      0.72      0.71       447\n",
      "weighted avg       0.73      0.73      0.73       447\n",
      "\n"
     ]
    },
    {
     "data": {
      "image/png": "[encoded data removed]",
      "text/plain": [
       "<Figure size 432x288 with 1 Axes>"
      ]
     },
     "metadata": {
      "needs_background": "light",
      "tags": []
     },
     "output_type": "display_data"
    },
    {
     "name": "stdout",
     "output_type": "stream",
     "text": [
      "validation avec NB_neutral_ravdess_meld_MODEL.pkl :\n",
      "\n",
      " accuracy_val: 0.6845637583892618 \n",
      "\n",
      "\n",
      " confusion_matrix_val \n",
      " [[239  43]\n",
      " [ 98  67]]\n",
      "\n",
      " precision_val : 0.6090909090909091\n",
      "\n",
      " recall_val : 0.40606060606060607\n",
      "\n",
      " f1_score : 0.48727272727272736\n",
      "\n",
      "               precision    recall  f1-score   support\n",
      "\n",
      "           0       0.71      0.85      0.77       282\n",
      "           1       0.61      0.41      0.49       165\n",
      "\n",
      "    accuracy                           0.68       447\n",
      "   macro avg       0.66      0.63      0.63       447\n",
      "weighted avg       0.67      0.68      0.67       447\n",
      "\n"
     ]
    },
    {
     "data": {
      "image/png": "[encoded data removed]",
      "text/plain": [
       "<Figure size 432x288 with 1 Axes>"
      ]
     },
     "metadata": {
      "needs_background": "light",
      "tags": []
     },
     "output_type": "display_data"
    },
    {
     "name": "stdout",
     "output_type": "stream",
     "text": [
      "validation avec SVM_neutral_ravdess_meld_MODEL.pkl :\n",
      "\n",
      " accuracy_val: 0.8008948545861297 \n",
      "\n",
      "\n",
      " confusion_matrix_val \n",
      " [[246  36]\n",
      " [ 53 112]]\n",
      "\n",
      " precision_val : 0.7567567567567568\n",
      "\n",
      " recall_val : 0.6787878787878788\n",
      "\n",
      " f1_score : 0.7156549520766773\n",
      "\n",
      "               precision    recall  f1-score   support\n",
      "\n",
      "           0       0.82      0.87      0.85       282\n",
      "           1       0.76      0.68      0.72       165\n",
      "\n",
      "    accuracy                           0.80       447\n",
      "   macro avg       0.79      0.78      0.78       447\n",
      "weighted avg       0.80      0.80      0.80       447\n",
      "\n"
     ]
    },
    {
     "data": {
      "image/png": "[encoded data removed]",
      "text/plain": [
       "<Figure size 432x288 with 1 Axes>"
      ]
     },
     "metadata": {
      "needs_background": "light",
      "tags": []
     },
     "output_type": "display_data"
    },
    {
     "name": "stdout",
     "output_type": "stream",
     "text": [
      "validation avec SGD_neutral_ravdess_meld_MODEL.pkl :\n",
      "\n",
      " accuracy_val: 0.7024608501118568 \n",
      "\n",
      "\n",
      " confusion_matrix_val \n",
      " [[212  70]\n",
      " [ 63 102]]\n",
      "\n",
      " precision_val : 0.5930232558139535\n",
      "\n",
      " recall_val : 0.6181818181818182\n",
      "\n",
      " f1_score : 0.6053412462908011\n",
      "\n",
      "               precision    recall  f1-score   support\n",
      "\n",
      "           0       0.77      0.75      0.76       282\n",
      "           1       0.59      0.62      0.61       165\n",
      "\n",
      "    accuracy                           0.70       447\n",
      "   macro avg       0.68      0.68      0.68       447\n",
      "weighted avg       0.71      0.70      0.70       447\n",
      "\n"
     ]
    },
    {
     "data": {
      "image/png": "[encoded data removed]",
      "text/plain": [
       "<Figure size 432x288 with 1 Axes>"
      ]
     },
     "metadata": {
      "needs_background": "light",
      "tags": []
     },
     "output_type": "display_data"
    },
    {
     "name": "stdout",
     "output_type": "stream",
     "text": [
      "validation avec RF_neutral_ravdess_meld_MODEL.pkl :\n",
      "\n",
      " accuracy_val: 0.756152125279642 \n",
      "\n",
      "\n",
      " confusion_matrix_val \n",
      " [[222  60]\n",
      " [ 49 116]]\n",
      "\n",
      " precision_val : 0.6590909090909091\n",
      "\n",
      " recall_val : 0.703030303030303\n",
      "\n",
      " f1_score : 0.6803519061583577\n",
      "\n",
      "               precision    recall  f1-score   support\n",
      "\n",
      "           0       0.82      0.79      0.80       282\n",
      "           1       0.66      0.70      0.68       165\n",
      "\n",
      "    accuracy                           0.76       447\n",
      "   macro avg       0.74      0.75      0.74       447\n",
      "weighted avg       0.76      0.76      0.76       447\n",
      "\n"
     ]
    },
    {
     "data": {
      "image/png": "[encoded data removed]",
      "text/plain": [
       "<Figure size 432x288 with 1 Axes>"
      ]
     },
     "metadata": {
      "needs_background": "light",
      "tags": []
     },
     "output_type": "display_data"
    },
    {
     "name": "stdout",
     "output_type": "stream",
     "text": [
      "validation avec Xgboost_neutral_ravdess_meld_MODEL.pkl :\n",
      "\n",
      " accuracy_val: 0.7695749440715883 \n",
      "\n",
      "\n",
      " confusion_matrix_val \n",
      " [[230  52]\n",
      " [ 51 114]]\n",
      "\n",
      " precision_val : 0.6867469879518072\n",
      "\n",
      " recall_val : 0.6909090909090909\n",
      "\n",
      " f1_score : 0.688821752265861\n",
      "\n",
      "               precision    recall  f1-score   support\n",
      "\n",
      "           0       0.82      0.82      0.82       282\n",
      "           1       0.69      0.69      0.69       165\n",
      "\n",
      "    accuracy                           0.77       447\n",
      "   macro avg       0.75      0.75      0.75       447\n",
      "weighted avg       0.77      0.77      0.77       447\n",
      "\n"
     ]
    },
    {
     "data": {
      "image/png": "[encoded data removed]",
      "text/plain": [
       "<Figure size 432x288 with 1 Axes>"
      ]
     },
     "metadata": {
      "needs_background": "light",
      "tags": []
     },
     "output_type": "display_data"
    }
   ],
   "source": [
    "#testing sauvegarded model on Val dataset\n",
    "loaded = ['LR_neutral_ravdess_meld_MODEL.pkl', 'KNN_neutral_ravdess_meld_MODEL.pkl', 'CART_neutral_ravdess_meld_MODEL.pkl', \n",
    "          'NB_neutral_ravdess_meld_MODEL.pkl','SVM_neutral_ravdess_meld_MODEL.pkl', 'SGD_neutral_ravdess_meld_MODEL.pkl',\n",
    "          'RF_neutral_ravdess_meld_MODEL.pkl', 'Xgboost_neutral_ravdess_meld_MODEL.pkl']\n",
    "\n",
    "\n",
    "for filename in loaded:\n",
    "    loaded_model = joblib.load(filename)\n",
    "    X_val_array =  np.asarray(X_val)\n",
    "    result_val = loaded_model.predict(X_val_array)\n",
    "\n",
    "    print('validation avec' ,filename , ':')\n",
    "    \n",
    "    print('\\n accuracy_val:',accuracy_score(y_val, result_val),'\\n')\n",
    "    conf_val = confusion_matrix(y_val, result_val)\n",
    "    print ('\\n confusion_matrix_val \\n',conf_val)\n",
    "\n",
    "    print ('\\n precision_val :', precision_score(y_val, result_val))\n",
    "    print('\\n recall_val :', recall_score(y_val, result_val))\n",
    "    print('\\n f1_score :', f1_score(y_val, result_val))\n",
    "\n",
    "    print('\\n' ,classification_report(y_val, result_val))\n",
    "\n",
    "    \n",
    "\n",
    "\n",
    "    #auc_val\n",
    "    fpr, tpr, threshold = metrics.roc_curve(y_val, result_val) \n",
    "    roc_auc_val = metrics.auc(fpr, tpr)\n",
    "    \n",
    "    \n",
    "    plt.title('Receiver Operating Characteristic')\n",
    "    plt.plot(fpr, tpr, 'b', label = 'AUC_val = %0.2f' % roc_auc_val)\n",
    "    plt.legend(loc = 'lower right')\n",
    "    plt.plot([0, 1], [0, 1],'r--')\n",
    "    plt.xlim([0, 1])\n",
    "    plt.ylim([0, 1])\n",
    "    plt.ylabel('True Positive Rate')\n",
    "    plt.xlabel('False Positive Rate')\n",
    "    plt.show()"
   ]
  }
 ],
 "metadata": {
  "colab": {
   "authorship_tag": "ABX9TyNny7y+a0QphW5PVfyo6bz6",
   "name": "neutral_surprised.ipynb",
   "provenance": []
  },
  "kernelspec": {
   "display_name": "Python 3",
   "language": "python",
   "name": "python3"
  },
  "language_info": {
   "codemirror_mode": {
    "name": "ipython",
    "version": 3
   },
   "file_extension": ".py",
   "mimetype": "text/x-python",
   "name": "python",
   "nbconvert_exporter": "python",
   "pygments_lexer": "ipython3",
   "version": "3.8.2"
  }
 },
 "nbformat": 4,
 "nbformat_minor": 1
}
