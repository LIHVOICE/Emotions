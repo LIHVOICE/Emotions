{
 "cells": [
  {
   "cell_type": "code",
   "execution_count": 1,
   "metadata": {
    "colab": {
     "base_uri": "https://localhost:8080/",
     "height": 535
    },
    "colab_type": "code",
    "executionInfo": {
     "elapsed": 8325,
     "status": "ok",
     "timestamp": 1596102396961,
     "user": {
      "displayName": "BARRY Nene Djenaba",
      "photoUrl": "",
      "userId": "09221402848573081539"
     },
     "user_tz": -120
    },
    "id": "ymHSlukhKIF9",
    "outputId": "580064ff-54ca-4563-97a7-c71157a36055"
   },
   "outputs": [
    {
     "name": "stdout",
     "output_type": "stream",
     "text": [
      "Collecting librosa==0.7.2\n",
      "\u001b[?25l  Downloading https://files.pythonhosted.org/packages/77/b5/1817862d64a7c231afd15419d8418ae1f000742cac275e85c74b219cbccb/librosa-0.7.2.tar.gz (1.6MB)\n",
      "\r",
      "\u001b[K     |▏                               | 10kB 16.1MB/s eta 0:00:01\r",
      "\u001b[K     |▍                               | 20kB 5.9MB/s eta 0:00:01\r",
      "\u001b[K     |▋                               | 30kB 8.0MB/s eta 0:00:01\r",
      "\u001b[K     |▉                               | 40kB 8.8MB/s eta 0:00:01\r",
      "\u001b[K     |█                               | 51kB 7.0MB/s eta 0:00:01\r",
      "\u001b[K     |█▎                              | 61kB 8.0MB/s eta 0:00:01\r",
      "\u001b[K     |█▍                              | 71kB 8.3MB/s eta 0:00:01\r",
      "\u001b[K     |█▋                              | 81kB 8.6MB/s eta 0:00:01\r",
      "\u001b[K     |█▉                              | 92kB 9.0MB/s eta 0:00:01\r",
      "\u001b[K     |██                              | 102kB 9.6MB/s eta 0:00:01\r",
      "\u001b[K     |██▎                             | 112kB 9.6MB/s eta 0:00:01\r",
      "\u001b[K     |██▌                             | 122kB 9.6MB/s eta 0:00:01\r",
      "\u001b[K     |██▊                             | 133kB 9.6MB/s eta 0:00:01\r",
      "\u001b[K     |██▉                             | 143kB 9.6MB/s eta 0:00:01\r",
      "\u001b[K     |███                             | 153kB 9.6MB/s eta 0:00:01\r",
      "\u001b[K     |███▎                            | 163kB 9.6MB/s eta 0:00:01\r",
      "\u001b[K     |███▌                            | 174kB 9.6MB/s eta 0:00:01\r",
      "\u001b[K     |███▊                            | 184kB 9.6MB/s eta 0:00:01\r",
      "\u001b[K     |████                            | 194kB 9.6MB/s eta 0:00:01\r",
      "\u001b[K     |████                            | 204kB 9.6MB/s eta 0:00:01\r",
      "\u001b[K     |████▎                           | 215kB 9.6MB/s eta 0:00:01\r",
      "\u001b[K     |████▌                           | 225kB 9.6MB/s eta 0:00:01\r",
      "\u001b[K     |████▊                           | 235kB 9.6MB/s eta 0:00:01\r",
      "\u001b[K     |█████                           | 245kB 9.6MB/s eta 0:00:01\r",
      "\u001b[K     |█████▏                          | 256kB 9.6MB/s eta 0:00:01\r",
      "\u001b[K     |█████▍                          | 266kB 9.6MB/s eta 0:00:01\r",
      "\u001b[K     |█████▌                          | 276kB 9.6MB/s eta 0:00:01\r",
      "\u001b[K     |█████▊                          | 286kB 9.6MB/s eta 0:00:01\r",
      "\u001b[K     |██████                          | 296kB 9.6MB/s eta 0:00:01\r",
      "\u001b[K     |██████▏                         | 307kB 9.6MB/s eta 0:00:01\r",
      "\u001b[K     |██████▍                         | 317kB 9.6MB/s eta 0:00:01\r",
      "\u001b[K     |██████▋                         | 327kB 9.6MB/s eta 0:00:01\r",
      "\u001b[K     |██████▊                         | 337kB 9.6MB/s eta 0:00:01\r",
      "\u001b[K     |███████                         | 348kB 9.6MB/s eta 0:00:01\r",
      "\u001b[K     |███████▏                        | 358kB 9.6MB/s eta 0:00:01\r",
      "\u001b[K     |███████▍                        | 368kB 9.6MB/s eta 0:00:01\r",
      "\u001b[K     |███████▋                        | 378kB 9.6MB/s eta 0:00:01\r",
      "\u001b[K     |███████▉                        | 389kB 9.6MB/s eta 0:00:01\r",
      "\u001b[K     |████████                        | 399kB 9.6MB/s eta 0:00:01\r",
      "\u001b[K     |████████▏                       | 409kB 9.6MB/s eta 0:00:01\r",
      "\u001b[K     |████████▍                       | 419kB 9.6MB/s eta 0:00:01\r",
      "\u001b[K     |████████▋                       | 430kB 9.6MB/s eta 0:00:01\r",
      "\u001b[K     |████████▉                       | 440kB 9.6MB/s eta 0:00:01\r",
      "\u001b[K     |█████████                       | 450kB 9.6MB/s eta 0:00:01\r",
      "\u001b[K     |█████████▎                      | 460kB 9.6MB/s eta 0:00:01\r",
      "\u001b[K     |█████████▍                      | 471kB 9.6MB/s eta 0:00:01\r",
      "\u001b[K     |█████████▋                      | 481kB 9.6MB/s eta 0:00:01\r",
      "\u001b[K     |█████████▉                      | 491kB 9.6MB/s eta 0:00:01\r",
      "\u001b[K     |██████████                      | 501kB 9.6MB/s eta 0:00:01\r",
      "\u001b[K     |██████████▎                     | 512kB 9.6MB/s eta 0:00:01\r",
      "\u001b[K     |██████████▌                     | 522kB 9.6MB/s eta 0:00:01\r",
      "\u001b[K     |██████████▊                     | 532kB 9.6MB/s eta 0:00:01\r",
      "\u001b[K     |██████████▉                     | 542kB 9.6MB/s eta 0:00:01\r",
      "\u001b[K     |███████████                     | 552kB 9.6MB/s eta 0:00:01\r",
      "\u001b[K     |███████████▎                    | 563kB 9.6MB/s eta 0:00:01\r",
      "\u001b[K     |███████████▌                    | 573kB 9.6MB/s eta 0:00:01\r",
      "\u001b[K     |███████████▊                    | 583kB 9.6MB/s eta 0:00:01\r",
      "\u001b[K     |████████████                    | 593kB 9.6MB/s eta 0:00:01\r",
      "\u001b[K     |████████████▏                   | 604kB 9.6MB/s eta 0:00:01\r",
      "\u001b[K     |████████████▎                   | 614kB 9.6MB/s eta 0:00:01\r",
      "\u001b[K     |████████████▌                   | 624kB 9.6MB/s eta 0:00:01\r",
      "\u001b[K     |████████████▊                   | 634kB 9.6MB/s eta 0:00:01\r",
      "\u001b[K     |█████████████                   | 645kB 9.6MB/s eta 0:00:01\r",
      "\u001b[K     |█████████████▏                  | 655kB 9.6MB/s eta 0:00:01\r",
      "\u001b[K     |█████████████▍                  | 665kB 9.6MB/s eta 0:00:01\r",
      "\u001b[K     |█████████████▌                  | 675kB 9.6MB/s eta 0:00:01\r",
      "\u001b[K     |█████████████▊                  | 686kB 9.6MB/s eta 0:00:01\r",
      "\u001b[K     |██████████████                  | 696kB 9.6MB/s eta 0:00:01\r",
      "\u001b[K     |██████████████▏                 | 706kB 9.6MB/s eta 0:00:01\r",
      "\u001b[K     |██████████████▍                 | 716kB 9.6MB/s eta 0:00:01\r",
      "\u001b[K     |██████████████▋                 | 727kB 9.6MB/s eta 0:00:01\r",
      "\u001b[K     |██████████████▉                 | 737kB 9.6MB/s eta 0:00:01\r",
      "\u001b[K     |███████████████                 | 747kB 9.6MB/s eta 0:00:01\r",
      "\u001b[K     |███████████████▏                | 757kB 9.6MB/s eta 0:00:01\r",
      "\u001b[K     |███████████████▍                | 768kB 9.6MB/s eta 0:00:01\r",
      "\u001b[K     |███████████████▋                | 778kB 9.6MB/s eta 0:00:01\r",
      "\u001b[K     |███████████████▉                | 788kB 9.6MB/s eta 0:00:01\r",
      "\u001b[K     |████████████████                | 798kB 9.6MB/s eta 0:00:01\r",
      "\u001b[K     |████████████████▏               | 808kB 9.6MB/s eta 0:00:01\r",
      "\u001b[K     |████████████████▍               | 819kB 9.6MB/s eta 0:00:01\r",
      "\u001b[K     |████████████████▋               | 829kB 9.6MB/s eta 0:00:01\r",
      "\u001b[K     |████████████████▉               | 839kB 9.6MB/s eta 0:00:01\r",
      "\u001b[K     |█████████████████               | 849kB 9.6MB/s eta 0:00:01\r",
      "\u001b[K     |█████████████████▎              | 860kB 9.6MB/s eta 0:00:01\r",
      "\u001b[K     |█████████████████▌              | 870kB 9.6MB/s eta 0:00:01\r",
      "\u001b[K     |█████████████████▋              | 880kB 9.6MB/s eta 0:00:01\r",
      "\u001b[K     |█████████████████▉              | 890kB 9.6MB/s eta 0:00:01\r",
      "\u001b[K     |██████████████████              | 901kB 9.6MB/s eta 0:00:01\r",
      "\u001b[K     |██████████████████▎             | 911kB 9.6MB/s eta 0:00:01\r",
      "\u001b[K     |██████████████████▌             | 921kB 9.6MB/s eta 0:00:01\r",
      "\u001b[K     |██████████████████▊             | 931kB 9.6MB/s eta 0:00:01\r",
      "\u001b[K     |██████████████████▉             | 942kB 9.6MB/s eta 0:00:01\r",
      "\u001b[K     |███████████████████             | 952kB 9.6MB/s eta 0:00:01\r",
      "\u001b[K     |███████████████████▎            | 962kB 9.6MB/s eta 0:00:01\r",
      "\u001b[K     |███████████████████▌            | 972kB 9.6MB/s eta 0:00:01\r",
      "\u001b[K     |███████████████████▊            | 983kB 9.6MB/s eta 0:00:01\r",
      "\u001b[K     |████████████████████            | 993kB 9.6MB/s eta 0:00:01\r",
      "\u001b[K     |████████████████████▏           | 1.0MB 9.6MB/s eta 0:00:01\r",
      "\u001b[K     |████████████████████▎           | 1.0MB 9.6MB/s eta 0:00:01\r",
      "\u001b[K     |████████████████████▌           | 1.0MB 9.6MB/s eta 0:00:01\r",
      "\u001b[K     |████████████████████▊           | 1.0MB 9.6MB/s eta 0:00:01\r",
      "\u001b[K     |█████████████████████           | 1.0MB 9.6MB/s eta 0:00:01\r",
      "\u001b[K     |█████████████████████▏          | 1.1MB 9.6MB/s eta 0:00:01\r",
      "\u001b[K     |█████████████████████▍          | 1.1MB 9.6MB/s eta 0:00:01\r",
      "\u001b[K     |█████████████████████▋          | 1.1MB 9.6MB/s eta 0:00:01\r",
      "\u001b[K     |█████████████████████▊          | 1.1MB 9.6MB/s eta 0:00:01\r",
      "\u001b[K     |██████████████████████          | 1.1MB 9.6MB/s eta 0:00:01\r",
      "\u001b[K     |██████████████████████▏         | 1.1MB 9.6MB/s eta 0:00:01\r",
      "\u001b[K     |██████████████████████▍         | 1.1MB 9.6MB/s eta 0:00:01\r",
      "\u001b[K     |██████████████████████▋         | 1.1MB 9.6MB/s eta 0:00:01\r",
      "\u001b[K     |██████████████████████▉         | 1.1MB 9.6MB/s eta 0:00:01\r",
      "\u001b[K     |███████████████████████         | 1.1MB 9.6MB/s eta 0:00:01\r",
      "\u001b[K     |███████████████████████▏        | 1.2MB 9.6MB/s eta 0:00:01\r",
      "\u001b[K     |███████████████████████▍        | 1.2MB 9.6MB/s eta 0:00:01\r",
      "\u001b[K     |███████████████████████▋        | 1.2MB 9.6MB/s eta 0:00:01\r",
      "\u001b[K     |███████████████████████▉        | 1.2MB 9.6MB/s eta 0:00:01\r",
      "\u001b[K     |████████████████████████        | 1.2MB 9.6MB/s eta 0:00:01\r",
      "\u001b[K     |████████████████████████▎       | 1.2MB 9.6MB/s eta 0:00:01\r",
      "\u001b[K     |████████████████████████▍       | 1.2MB 9.6MB/s eta 0:00:01\r",
      "\u001b[K     |████████████████████████▋       | 1.2MB 9.6MB/s eta 0:00:01\r",
      "\u001b[K     |████████████████████████▉       | 1.2MB 9.6MB/s eta 0:00:01\r",
      "\u001b[K     |█████████████████████████       | 1.2MB 9.6MB/s eta 0:00:01\r",
      "\u001b[K     |█████████████████████████▎      | 1.3MB 9.6MB/s eta 0:00:01\r",
      "\u001b[K     |█████████████████████████▌      | 1.3MB 9.6MB/s eta 0:00:01\r",
      "\u001b[K     |█████████████████████████▋      | 1.3MB 9.6MB/s eta 0:00:01\r",
      "\u001b[K     |█████████████████████████▉      | 1.3MB 9.6MB/s eta 0:00:01\r",
      "\u001b[K     |██████████████████████████      | 1.3MB 9.6MB/s eta 0:00:01\r",
      "\u001b[K     |██████████████████████████▎     | 1.3MB 9.6MB/s eta 0:00:01\r",
      "\u001b[K     |██████████████████████████▌     | 1.3MB 9.6MB/s eta 0:00:01\r",
      "\u001b[K     |██████████████████████████▊     | 1.3MB 9.6MB/s eta 0:00:01\r",
      "\u001b[K     |███████████████████████████     | 1.3MB 9.6MB/s eta 0:00:01\r",
      "\u001b[K     |███████████████████████████     | 1.4MB 9.6MB/s eta 0:00:01\r",
      "\u001b[K     |███████████████████████████▎    | 1.4MB 9.6MB/s eta 0:00:01\r",
      "\u001b[K     |███████████████████████████▌    | 1.4MB 9.6MB/s eta 0:00:01\r",
      "\u001b[K     |███████████████████████████▊    | 1.4MB 9.6MB/s eta 0:00:01\r",
      "\u001b[K     |████████████████████████████    | 1.4MB 9.6MB/s eta 0:00:01\r",
      "\u001b[K     |████████████████████████████▏   | 1.4MB 9.6MB/s eta 0:00:01\r",
      "\u001b[K     |████████████████████████████▎   | 1.4MB 9.6MB/s eta 0:00:01\r",
      "\u001b[K     |████████████████████████████▌   | 1.4MB 9.6MB/s eta 0:00:01\r",
      "\u001b[K     |████████████████████████████▊   | 1.4MB 9.6MB/s eta 0:00:01\r",
      "\u001b[K     |█████████████████████████████   | 1.4MB 9.6MB/s eta 0:00:01\r",
      "\u001b[K     |█████████████████████████████▏  | 1.5MB 9.6MB/s eta 0:00:01\r",
      "\u001b[K     |█████████████████████████████▍  | 1.5MB 9.6MB/s eta 0:00:01\r",
      "\u001b[K     |█████████████████████████████▋  | 1.5MB 9.6MB/s eta 0:00:01\r",
      "\u001b[K     |█████████████████████████████▊  | 1.5MB 9.6MB/s eta 0:00:01\r",
      "\u001b[K     |██████████████████████████████  | 1.5MB 9.6MB/s eta 0:00:01\r",
      "\u001b[K     |██████████████████████████████▏ | 1.5MB 9.6MB/s eta 0:00:01\r",
      "\u001b[K     |██████████████████████████████▍ | 1.5MB 9.6MB/s eta 0:00:01\r",
      "\u001b[K     |██████████████████████████████▋ | 1.5MB 9.6MB/s eta 0:00:01\r",
      "\u001b[K     |██████████████████████████████▉ | 1.5MB 9.6MB/s eta 0:00:01\r",
      "\u001b[K     |███████████████████████████████ | 1.5MB 9.6MB/s eta 0:00:01\r",
      "\u001b[K     |███████████████████████████████▏| 1.6MB 9.6MB/s eta 0:00:01\r",
      "\u001b[K     |███████████████████████████████▍| 1.6MB 9.6MB/s eta 0:00:01\r",
      "\u001b[K     |███████████████████████████████▋| 1.6MB 9.6MB/s eta 0:00:01\r",
      "\u001b[K     |███████████████████████████████▉| 1.6MB 9.6MB/s eta 0:00:01\r",
      "\u001b[K     |████████████████████████████████| 1.6MB 9.6MB/s \n",
      "\u001b[?25hRequirement already satisfied: audioread>=2.0.0 in /usr/local/lib/python3.6/dist-packages (from librosa==0.7.2) (2.1.8)\n",
      "Requirement already satisfied: numpy>=1.15.0 in /usr/local/lib/python3.6/dist-packages (from librosa==0.7.2) (1.18.5)\n",
      "Requirement already satisfied: scipy>=1.0.0 in /usr/local/lib/python3.6/dist-packages (from librosa==0.7.2) (1.4.1)\n",
      "Requirement already satisfied: scikit-learn!=0.19.0,>=0.14.0 in /usr/local/lib/python3.6/dist-packages (from librosa==0.7.2) (0.22.2.post1)\n",
      "Requirement already satisfied: joblib>=0.12 in /usr/local/lib/python3.6/dist-packages (from librosa==0.7.2) (0.16.0)\n",
      "Requirement already satisfied: decorator>=3.0.0 in /usr/local/lib/python3.6/dist-packages (from librosa==0.7.2) (4.4.2)\n",
      "Requirement already satisfied: six>=1.3 in /usr/local/lib/python3.6/dist-packages (from librosa==0.7.2) (1.15.0)\n",
      "Requirement already satisfied: resampy>=0.2.2 in /usr/local/lib/python3.6/dist-packages (from librosa==0.7.2) (0.2.2)\n",
      "Requirement already satisfied: numba>=0.43.0 in /usr/local/lib/python3.6/dist-packages (from librosa==0.7.2) (0.48.0)\n",
      "Collecting soundfile>=0.9.0\n",
      "  Downloading https://files.pythonhosted.org/packages/eb/f2/3cbbbf3b96fb9fa91582c438b574cff3f45b29c772f94c400e2c99ef5db9/SoundFile-0.10.3.post1-py2.py3-none-any.whl\n",
      "Requirement already satisfied: setuptools in /usr/local/lib/python3.6/dist-packages (from numba>=0.43.0->librosa==0.7.2) (49.1.0)\n",
      "Requirement already satisfied: llvmlite<0.32.0,>=0.31.0dev0 in /usr/local/lib/python3.6/dist-packages (from numba>=0.43.0->librosa==0.7.2) (0.31.0)\n",
      "Requirement already satisfied: cffi>=1.0 in /usr/local/lib/python3.6/dist-packages (from soundfile>=0.9.0->librosa==0.7.2) (1.14.0)\n",
      "Requirement already satisfied: pycparser in /usr/local/lib/python3.6/dist-packages (from cffi>=1.0->soundfile>=0.9.0->librosa==0.7.2) (2.20)\n",
      "Building wheels for collected packages: librosa\n",
      "  Building wheel for librosa (setup.py) ... \u001b[?25l\u001b[?25hdone\n",
      "  Created wheel for librosa: filename=librosa-0.7.2-cp36-none-any.whl size=1612885 sha256=ce57967143a0edb27939aff5edb6aa9137d4822e9ef7f6e774b4f38650f21d4e\n",
      "  Stored in directory: /root/.cache/pip/wheels/4c/6e/d7/bb93911540d2d1e44d690a1561871e5b6af82b69e80938abef\n",
      "Successfully built librosa\n",
      "Installing collected packages: soundfile, librosa\n",
      "  Found existing installation: librosa 0.6.3\n",
      "    Uninstalling librosa-0.6.3:\n",
      "      Successfully uninstalled librosa-0.6.3\n",
      "Successfully installed librosa-0.7.2 soundfile-0.10.3.post1\n"
     ]
    }
   ],
   "source": [
    "pip install librosa==0.7.2 "
   ]
  },
  {
   "cell_type": "code",
   "execution_count": null,
   "metadata": {
    "colab": {
     "base_uri": "https://localhost:8080/",
     "height": 35
    },
    "colab_type": "code",
    "executionInfo": {
     "elapsed": 10002,
     "status": "ok",
     "timestamp": 1596026935548,
     "user": {
      "displayName": "BARRY Nene Djenaba",
      "photoUrl": "",
      "userId": "09221402848573081539"
     },
     "user_tz": -120
    },
    "id": "sXnDmXR7RDr2",
    "outputId": "3b9dff36-3699-413b-8a0a-75f3af305685"
   },
   "outputs": [
    {
     "name": "stdout",
     "output_type": "stream",
     "text": [
      "Found GPU at: /device:GPU:0\n"
     ]
    }
   ],
   "source": [
    "%tensorflow_version 2.x\n",
    "import tensorflow as tf\n",
    "device_name = tf.test.gpu_device_name()\n",
    "if device_name != '/device:GPU:0':\n",
    "  raise SystemError('GPU device not found')\n",
    "print('Found GPU at: {}'.format(device_name))"
   ]
  },
  {
   "cell_type": "code",
   "execution_count": null,
   "metadata": {
    "colab": {
     "base_uri": "https://localhost:8080/",
     "height": 146
    },
    "colab_type": "code",
    "executionInfo": {
     "elapsed": 10711,
     "status": "ok",
     "timestamp": 1596026954464,
     "user": {
      "displayName": "BARRY Nene Djenaba",
      "photoUrl": "",
      "userId": "09221402848573081539"
     },
     "user_tz": -120
    },
    "id": "Y04m-jvKRDsJ",
    "outputId": "ce46bb70-bae2-4985-8f6b-ee3fece0cc5a"
   },
   "outputs": [
    {
     "name": "stdout",
     "output_type": "stream",
     "text": [
      "Time (s) to convolve 32x7x7x3 filter over random 100x100x100x3 images (batch x height x width x channel). Sum of ten runs.\n",
      "CPU (s):\n",
      "2.876127255\n",
      "GPU (s):\n",
      "0.1083209219999901\n",
      "GPU speedup over CPU: 26x\n"
     ]
    }
   ],
   "source": [
    "%tensorflow_version 2.x\n",
    "import tensorflow as tf\n",
    "import timeit\n",
    "\n",
    "device_name = tf.test.gpu_device_name()\n",
    "if device_name != '/device:GPU:0':\n",
    "  print(\n",
    "      '\\n\\nThis error most likely means that this notebook is not '\n",
    "      'configured to use a GPU.  Change this in Notebook Settings via the '\n",
    "      'command palette (cmd/ctrl-shift-P) or the Edit menu.\\n\\n')\n",
    "  raise SystemError('GPU device not found')\n",
    "\n",
    "def cpu():\n",
    "  with tf.device('/cpu:0'):\n",
    "    random_image_cpu = tf.random.normal((100, 100, 100, 3))\n",
    "    net_cpu = tf.keras.layers.Conv2D(32, 7)(random_image_cpu)\n",
    "    return tf.math.reduce_sum(net_cpu)\n",
    "\n",
    "def gpu():\n",
    "  with tf.device('/device:GPU:0'):\n",
    "    random_image_gpu = tf.random.normal((100, 100, 100, 3))\n",
    "    net_gpu = tf.keras.layers.Conv2D(32, 7)(random_image_gpu)\n",
    "    return tf.math.reduce_sum(net_gpu)\n",
    "  \n",
    "# We run each op once to warm up; see: https://stackoverflow.com/a/45067900\n",
    "cpu()\n",
    "gpu()\n",
    "\n",
    "# Run the op several times.\n",
    "print('Time (s) to convolve 32x7x7x3 filter over random 100x100x100x3 images '\n",
    "      '(batch x height x width x channel). Sum of ten runs.')\n",
    "print('CPU (s):')\n",
    "cpu_time = timeit.timeit('cpu()', number=10, setup=\"from __main__ import cpu\")\n",
    "print(cpu_time)\n",
    "print('GPU (s):')\n",
    "gpu_time = timeit.timeit('gpu()', number=10, setup=\"from __main__ import gpu\")\n",
    "print(gpu_time)\n",
    "print('GPU speedup over CPU: {}x'.format(int(cpu_time/gpu_time)))"
   ]
  },
  {
   "cell_type": "code",
   "execution_count": 2,
   "metadata": {
    "colab": {
     "base_uri": "https://localhost:8080/",
     "height": 129
    },
    "colab_type": "code",
    "executionInfo": {
     "elapsed": 30279,
     "status": "ok",
     "timestamp": 1596102515550,
     "user": {
      "displayName": "BARRY Nene Djenaba",
      "photoUrl": "",
      "userId": "09221402848573081539"
     },
     "user_tz": -120
    },
    "id": "l9EbbgJpzQDD",
    "outputId": "47a10273-df4b-40be-f3ac-7d581704fcc5"
   },
   "outputs": [
    {
     "name": "stdout",
     "output_type": "stream",
     "text": [
      "Go to this URL in a browser: https://accounts.google.com/o/oauth2/auth?client_id=947318989803-6bn6qk8qdgf4n4g3pfee6491hc0brc4i.apps.googleusercontent.com&redirect_uri=urn%3aietf%3awg%3aoauth%3a2.0%3aoob&response_type=code&scope=email%20https%3a%2f%2fwww.googleapis.com%2fauth%2fdocs.test%20https%3a%2f%2fwww.googleapis.com%2fauth%2fdrive%20https%3a%2f%2fwww.googleapis.com%2fauth%2fdrive.photos.readonly%20https%3a%2f%2fwww.googleapis.com%2fauth%2fpeopleapi.readonly\n",
      "\n",
      "Enter your authorization code:\n",
      "··········\n",
      "Mounted at /content/drive\n"
     ]
    }
   ],
   "source": [
    "from google.colab import drive\n",
    "drive.mount('/content/drive')\n"
   ]
  },
  {
   "cell_type": "code",
   "execution_count": 3,
   "metadata": {
    "colab": {
     "base_uri": "https://localhost:8080/",
     "height": 128
    },
    "colab_type": "code",
    "executionInfo": {
     "elapsed": 6168,
     "status": "ok",
     "timestamp": 1596102537690,
     "user": {
      "displayName": "BARRY Nene Djenaba",
      "photoUrl": "",
      "userId": "09221402848573081539"
     },
     "user_tz": -120
    },
    "id": "ltf4WKPCeyVR",
    "outputId": "a8dbae20-8500-4dd8-d870-908ba3e4f222"
   },
   "outputs": [
    {
     "name": "stdout",
     "output_type": "stream",
     "text": [
      "Collecting praat-parselmouth\n",
      "\u001b[?25l  Downloading https://files.pythonhosted.org/packages/09/7b/9fa1172a63b6277603d27bb5613559b5a8888f58e68c1698017b87b0061d/praat_parselmouth-0.3.3-cp36-cp36m-manylinux1_x86_64.whl (9.0MB)\n",
      "\u001b[K     |████████████████████████████████| 9.0MB 6.6MB/s \n",
      "\u001b[?25hRequirement already satisfied: numpy>=1.7.0 in /usr/local/lib/python3.6/dist-packages (from praat-parselmouth) (1.18.5)\n",
      "Installing collected packages: praat-parselmouth\n",
      "Successfully installed praat-parselmouth-0.3.3\n"
     ]
    }
   ],
   "source": [
    "pip install praat-parselmouth"
   ]
  },
  {
   "cell_type": "code",
   "execution_count": 5,
   "metadata": {
    "colab": {
     "base_uri": "https://localhost:8080/",
     "height": 91
    },
    "colab_type": "code",
    "executionInfo": {
     "elapsed": 4324,
     "status": "ok",
     "timestamp": 1596102556787,
     "user": {
      "displayName": "BARRY Nene Djenaba",
      "photoUrl": "",
      "userId": "09221402848573081539"
     },
     "user_tz": -120
    },
    "id": "PNwtWyMXe_Qb",
    "outputId": "3ae202b1-a11e-4d25-bd3b-a424b432a869"
   },
   "outputs": [
    {
     "name": "stdout",
     "output_type": "stream",
     "text": [
      "Requirement already satisfied: essentia in /usr/local/lib/python3.6/dist-packages (2.1b6.dev234)\n",
      "Requirement already satisfied: numpy>=1.8.2 in /usr/local/lib/python3.6/dist-packages (from essentia) (1.18.5)\n",
      "Requirement already satisfied: six in /usr/local/lib/python3.6/dist-packages (from essentia) (1.15.0)\n",
      "Requirement already satisfied: pyyaml in /usr/local/lib/python3.6/dist-packages (from essentia) (3.13)\n"
     ]
    }
   ],
   "source": [
    "pip install essentia"
   ]
  },
  {
   "cell_type": "code",
   "execution_count": 6,
   "metadata": {
    "colab": {
     "base_uri": "https://localhost:8080/",
     "height": 111
    },
    "colab_type": "code",
    "executionInfo": {
     "elapsed": 6421,
     "status": "ok",
     "timestamp": 1596102565118,
     "user": {
      "displayName": "BARRY Nene Djenaba",
      "photoUrl": "",
      "userId": "09221402848573081539"
     },
     "user_tz": -120
    },
    "id": "B9TmOS9AFg61",
    "outputId": "f4965e13-8e6d-4a43-9033-680537d99b17"
   },
   "outputs": [
    {
     "name": "stderr",
     "output_type": "stream",
     "text": [
      "/usr/local/lib/python3.6/dist-packages/sklearn/externals/six.py:31: FutureWarning: The module is deprecated in version 0.21 and will be removed in version 0.23 since we've dropped support for Python 2.7. Please rely on the official version of six (https://pypi.org/project/six/).\n",
      "  \"(https://pypi.org/project/six/).\", FutureWarning)\n",
      "/usr/local/lib/python3.6/dist-packages/sklearn/utils/deprecation.py:144: FutureWarning: The sklearn.neighbors.base module is  deprecated in version 0.22 and will be removed in version 0.24. The corresponding classes / functions should instead be imported from sklearn.neighbors. Anything that cannot be imported from sklearn.neighbors is now part of the private API.\n",
      "  warnings.warn(message, FutureWarning)\n"
     ]
    }
   ],
   "source": [
    "from __future__ import print_function\n",
    "\n",
    "#Numpy, pandas ans os\n",
    "import numpy as np\n",
    "import pandas as pd\n",
    "import os\n",
    "# matplotlib for displaying the output\n",
    "import matplotlib.pyplot as plt\n",
    "\n",
    "# Librosa for audio\n",
    "import librosa\n",
    "\n",
    "#Spafe for audio\n",
    "#import spafe\n",
    "import scipy.io.wavfile\n",
    "#import spafe.utils.vis as vis\n",
    "#from spafe.features.mfcc import mfcc, imfcc\n",
    "#from spafe.features.gfcc import gfcc\n",
    "\n",
    "#parselmouth for audio\n",
    "import parselmouth\n",
    "from parselmouth.praat import call\n",
    "from sklearn.decomposition import PCA\n",
    "import statistics\n",
    "\n",
    "#essentia\n",
    "\n",
    "import essentia.standard\n",
    "import essentia.streaming\n",
    "from essentia.standard import *\n",
    "\n",
    "\n",
    "#librairies for classification\n",
    "from sklearn.preprocessing import StandardScaler\n",
    "from sklearn import preprocessing\n",
    "from sklearn.model_selection import train_test_split\n",
    "\n",
    "from imblearn.over_sampling import SMOTE\n",
    "from sklearn.tree import DecisionTreeClassifier\n",
    "from sklearn.linear_model import SGDClassifier\n",
    "from sklearn.svm import SVC\n",
    "from sklearn.linear_model import LogisticRegression\n",
    "from sklearn.naive_bayes import GaussianNB\n",
    "from sklearn.neighbors import KNeighborsClassifier\n",
    "from sklearn.ensemble import RandomForestClassifier\n",
    "from xgboost import XGBClassifier\n",
    "\n",
    "from sklearn.model_selection import train_test_split, cross_val_predict, KFold, cross_val_score\n",
    "import sklearn.metrics as metrics\n",
    "from sklearn.metrics import accuracy_score, f1_score, precision_score, recall_score\n",
    "from sklearn.metrics import classification_report, make_scorer, confusion_matrix\n",
    "\n",
    "from sklearn.metrics import roc_auc_score\n",
    "from sklearn.datasets import make_classification\n",
    "from sklearn.pipeline import Pipeline\n",
    "\n",
    "from imblearn.over_sampling import ADASYN\n",
    "from sklearn.feature_selection import SelectFromModel\n",
    "from sklearn.ensemble import ExtraTreesClassifier\n",
    "from sklearn.feature_selection import SelectKBest\n",
    "\n",
    "from sklearn.model_selection import GridSearchCV\n",
    "import joblib\n",
    "#for warning\n",
    "import warnings\n",
    "warnings.filterwarnings(\"ignore\", category=FutureWarning)\n",
    "from sklearn.exceptions import ConvergenceWarning\n",
    "warnings.filterwarnings(\"ignore\", category= ConvergenceWarning)\n",
    "\n",
    "warnings.filterwarnings(\"ignore\", category= UserWarning)\n",
    "warnings.filterwarnings(\"ignore\", category= RuntimeWarning)"
   ]
  },
  {
   "cell_type": "markdown",
   "metadata": {
    "colab_type": "text",
    "id": "qKH47UdIodVo"
   },
   "source": [
    "Dataframe to match audio with emotion"
   ]
  },
  {
   "cell_type": "code",
   "execution_count": 8,
   "metadata": {
    "colab": {
     "base_uri": "https://localhost:8080/",
     "height": 35
    },
    "colab_type": "code",
    "executionInfo": {
     "elapsed": 887,
     "status": "ok",
     "timestamp": 1596102684733,
     "user": {
      "displayName": "BARRY Nene Djenaba",
      "photoUrl": "",
      "userId": "09221402848573081539"
     },
     "user_tz": -120
    },
    "id": "QAD42F-CgYli",
    "outputId": "ff3f8524-a4d1-44d3-a0a7-3da9092dc21f"
   },
   "outputs": [
    {
     "name": "stdout",
     "output_type": "stream",
     "text": [
      "/content/drive/My Drive\n"
     ]
    }
   ],
   "source": [
    "cd drive/My\\ Drive"
   ]
  },
  {
   "cell_type": "code",
   "execution_count": 9,
   "metadata": {
    "colab": {
     "base_uri": "https://localhost:8080/",
     "height": 206
    },
    "colab_type": "code",
    "executionInfo": {
     "elapsed": 10047,
     "status": "ok",
     "timestamp": 1596102696428,
     "user": {
      "displayName": "BARRY Nene Djenaba",
      "photoUrl": "",
      "userId": "09221402848573081539"
     },
     "user_tz": -120
    },
    "id": "6IAO4Lt4pfBi",
    "outputId": "b0738d3b-9891-4ee8-85d5-403c73da0fc9"
   },
   "outputs": [
    {
     "data": {
      "text/html": [
       "<div>\n",
       "<style scoped>\n",
       "    .dataframe tbody tr th:only-of-type {\n",
       "        vertical-align: middle;\n",
       "    }\n",
       "\n",
       "    .dataframe tbody tr th {\n",
       "        vertical-align: top;\n",
       "    }\n",
       "\n",
       "    .dataframe thead th {\n",
       "        text-align: right;\n",
       "    }\n",
       "</style>\n",
       "<table border=\"1\" class=\"dataframe\">\n",
       "  <thead>\n",
       "    <tr style=\"text-align: right;\">\n",
       "      <th></th>\n",
       "      <th>audio</th>\n",
       "      <th>label</th>\n",
       "    </tr>\n",
       "  </thead>\n",
       "  <tbody>\n",
       "    <tr>\n",
       "      <th>0</th>\n",
       "      <td>fearfull/03-01-06-01-02-01-02_norm_outNoise.wav</td>\n",
       "      <td>0</td>\n",
       "    </tr>\n",
       "    <tr>\n",
       "      <th>1</th>\n",
       "      <td>sad/03-01-04-01-02-02-01_norm_outNoise.wav</td>\n",
       "      <td>0</td>\n",
       "    </tr>\n",
       "    <tr>\n",
       "      <th>2</th>\n",
       "      <td>disgust/03-01-07-01-02-01-17_norm_outNoise.wav</td>\n",
       "      <td>0</td>\n",
       "    </tr>\n",
       "    <tr>\n",
       "      <th>3</th>\n",
       "      <td>fearfull/03-01-06-02-01-02-05_norm_outNoise.wav</td>\n",
       "      <td>0</td>\n",
       "    </tr>\n",
       "    <tr>\n",
       "      <th>4</th>\n",
       "      <td>happy/03-01-03-02-01-01-24_norm_outNoise.wav</td>\n",
       "      <td>1</td>\n",
       "    </tr>\n",
       "  </tbody>\n",
       "</table>\n",
       "</div>"
      ],
      "text/plain": [
       "                                             audio label\n",
       "0  fearfull/03-01-06-01-02-01-02_norm_outNoise.wav     0\n",
       "1       sad/03-01-04-01-02-02-01_norm_outNoise.wav     0\n",
       "2   disgust/03-01-07-01-02-01-17_norm_outNoise.wav     0\n",
       "3  fearfull/03-01-06-02-01-02-05_norm_outNoise.wav     0\n",
       "4     happy/03-01-03-02-01-01-24_norm_outNoise.wav     1"
      ]
     },
     "metadata": {
      "tags": []
     },
     "output_type": "display_data"
    }
   ],
   "source": [
    "parent_dir = \"audio_emotion\"\n",
    "def prepare_datadf(parent_dir): # a function whose parameter is the audio folder\n",
    "    df = pd.DataFrame(columns = ['audio', 'label']) #dataframe columns\n",
    "    \n",
    "    for  fichier_audio in os.listdir(parent_dir): # for each element in the audio folder\n",
    "        folder_path = os.path.join(parent_dir, fichier_audio) # path of each item  in the audio folder\n",
    "        \n",
    "       \n",
    "        \n",
    "        if(os.path.isdir(folder_path)): \n",
    "            audios = os.listdir(folder_path) #content of each emotional file\n",
    "            for i in audios:\n",
    "                emotion = None\n",
    "                if i.endswith('outNoise.wav'):\n",
    "                    if i[7] == '3':\n",
    "                        emotion = 1\n",
    "                    \n",
    "                    else:\n",
    "                        emotion = 0\n",
    "                    df = df.append(pd.DataFrame({'audio':[os.path.join(fichier_audio, i)], 'label':[emotion]}), \n",
    "                           ignore_index=True) # here at df defined, with the columns we add the values:\n",
    "                                            #the audio column will take the audios_path, \n",
    "                                            #and the emotion column will take the corresponding emotion, ie the name of the folder\n",
    "    #Shuffling for randomness\n",
    "    df = df.sample(frac=1.0).reset_index(drop=True)\n",
    "    return df\n",
    "datadf = prepare_datadf(parent_dir) #function call\n",
    "display(datadf.head()) #dataframe display\n",
    "\n",
    "\t"
   ]
  },
  {
   "cell_type": "markdown",
   "metadata": {
    "colab_type": "text",
    "id": "Dr4_HGmdH_hY"
   },
   "source": [
    "Number of labels 1 and 0"
   ]
  },
  {
   "cell_type": "code",
   "execution_count": 10,
   "metadata": {
    "colab": {
     "base_uri": "https://localhost:8080/",
     "height": 72
    },
    "colab_type": "code",
    "executionInfo": {
     "elapsed": 672,
     "status": "ok",
     "timestamp": 1596102713166,
     "user": {
      "displayName": "BARRY Nene Djenaba",
      "photoUrl": "",
      "userId": "09221402848573081539"
     },
     "user_tz": -120
    },
    "id": "3_Rz5am4IBEV",
    "outputId": "bfe3cd8e-420e-4249-faef-ffa54c7011d1"
   },
   "outputs": [
    {
     "name": "stdout",
     "output_type": "stream",
     "text": [
      "0    1053\n",
      "1     192\n",
      "Name: label, dtype: int64\n"
     ]
    }
   ],
   "source": [
    "array=datadf.values\n",
    "audios=array[:,0]\n",
    "emotions=array[:,1]\n",
    "print(datadf.label.value_counts())"
   ]
  },
  {
   "cell_type": "markdown",
   "metadata": {
    "colab_type": "text",
    "id": "DM9Dsr6nGdQK"
   },
   "source": [
    "Preprocessing"
   ]
  },
  {
   "cell_type": "markdown",
   "metadata": {
    "colab_type": "text",
    "id": "wWiD09QxGpVJ"
   },
   "source": [
    "Function for framing and windowing the audio_files"
   ]
  },
  {
   "cell_type": "code",
   "execution_count": 11,
   "metadata": {
    "colab": {},
    "colab_type": "code",
    "executionInfo": {
     "elapsed": 1024,
     "status": "ok",
     "timestamp": 1596102755283,
     "user": {
      "displayName": "BARRY Nene Djenaba",
      "photoUrl": "",
      "userId": "09221402848573081539"
     },
     "user_tz": -120
    },
    "id": "PhgtSddTGvNT"
   },
   "outputs": [],
   "source": [
    "def fram_window(audio_path):\n",
    "    loader = essentia.standard.MonoLoader(filename= audio_path)\n",
    "\n",
    "    # and then we actually perform the loading:\n",
    "    audio = loader()\n",
    "\n",
    "    w = Windowing(type = 'hann')\n",
    "    spectrum = Spectrum() \n",
    "    #default parameter (hopsize and framesize)\n",
    "    hopSize = 512\n",
    "    frameSize = 1024 \n",
    "    for frame in FrameGenerator(audio, frameSize=1024, hopSize=512, startFromZero=True):\n",
    "        spect = spectrum(w(frame))\n",
    "    return spect"
   ]
  },
  {
   "cell_type": "markdown",
   "metadata": {
    "colab_type": "text",
    "id": "L5G6NwKlG8JW"
   },
   "source": [
    "function for features extraction:"
   ]
  },
  {
   "cell_type": "code",
   "execution_count": 12,
   "metadata": {
    "colab": {},
    "colab_type": "code",
    "executionInfo": {
     "elapsed": 664,
     "status": "ok",
     "timestamp": 1596102787793,
     "user": {
      "displayName": "BARRY Nene Djenaba",
      "photoUrl": "",
      "userId": "09221402848573081539"
     },
     "user_tz": -120
    },
    "id": "AjNAMwsfG2C8"
   },
   "outputs": [],
   "source": [
    "def extract_features(audio_path):\n",
    "    features = []\n",
    "    \n",
    "    \n",
    "    #Load audios with the different libraries\n",
    "      \n",
    "    y,sr = librosa.load(audio_path)\n",
    "    sound = parselmouth.Sound(audio_path)\n",
    "    fs, sig = scipy.io.wavfile.read(audio_path) \n",
    "    \n",
    "    pitch = call(sound, \"To Pitch\", 0.0, 75, 600)\n",
    "    mean_pitch = call(pitch, \"Get mean\", 0, 0, \"Hertz\")\n",
    "    \n",
    "    spec =  fram_window(audio_path) \n",
    "    duration = librosa.get_duration(y= spec, sr=sr)\n",
    "    energy = np.sum(spec ** 2) / np.float64(len(spec))\n",
    "            \n",
    "    lpc = librosa.core.lpc(spec,16)\n",
    "            \n",
    "    zcr = librosa.feature.zero_crossing_rate(spec)\n",
    "               \n",
    "    #gfccs = gfcc(sig= spec, fs=fs, num_ceps=13)    \n",
    "    mfcc = librosa.feature.mfcc(y= spec, sr=sr, n_mfcc = 13)\n",
    "        \n",
    "    harmonicity = call(sound, \"To Harmonicity (cc)\", 0.01, 75, 0.1, 1.0)\n",
    "    HNR = call(harmonicity, \"Get mean\", 0, 0)\n",
    "                \n",
    "    pointProcess = call(sound, \"To PointProcess (periodic, cc)\", 75, 500)\n",
    "    localJitter = call(pointProcess, \"Get jitter (local)\", 0, 0, 0.0001, 0.02, 1.3)\n",
    "    localabsoluteJitter = call(pointProcess, \"Get jitter (local, absolute)\", 0, 0, 0.0001, 0.02, 1.3)\n",
    "\n",
    "    localShimmer =  call([sound, pointProcess], \"Get shimmer (local)\", 0, 0, 0.0001, 0.02, 1.3, 1.6)\n",
    "    localdbShimmer = call([sound, pointProcess], \"Get shimmer (local_dB)\", 0, 0, 0.0001, 0.02, 1.3, 1.6)\n",
    "        \n",
    "    formants = call(sound, \"To Formant (burg)\", 0.0, 5, 5500, 0.025, 100)\n",
    "    numPoints = call(pointProcess, \"Get number of points\")\n",
    "\n",
    "    f1_list = []\n",
    "    f2_list = []\n",
    "    f3_list = []\n",
    "    f4_list = []\n",
    "    \n",
    "    # Measure formants only at glottal pulses\n",
    "    for point in range(0, numPoints):\n",
    "        point += 1\n",
    "        t = call(pointProcess, \"Get time from index\", point)\n",
    "        f1 = call(formants, \"Get value at time\", 1, t, 'Hertz', 'Linear')\n",
    "        f2 = call(formants, \"Get value at time\", 2, t, 'Hertz', 'Linear')\n",
    "        f3 = call(formants, \"Get value at time\", 3, t, 'Hertz', 'Linear')\n",
    "        f4 = call(formants, \"Get value at time\", 4, t, 'Hertz', 'Linear')\n",
    "        f1_list.append(f1)\n",
    "        f2_list.append(f2)\n",
    "        f3_list.append(f3)\n",
    "        f4_list.append(f4)\n",
    "        \n",
    "    f1_list = [f1 for f1 in f1_list if str(f1) != 'nan']\n",
    "    f2_list = [f2 for f2 in f2_list if str(f2) != 'nan']\n",
    "    f3_list = [f3 for f3 in f3_list if str(f3) != 'nan']\n",
    "    \n",
    "    f4_list = [f4 for f4 in f4_list if str(f4) != 'nan']\n",
    "\n",
    "    f1_mean = statistics.mean(f1_list)\n",
    "    f2_mean = statistics.mean(f2_list)\n",
    "    f3_mean = statistics.mean(f3_list)\n",
    "    f4_mean = statistics.mean(f4_list)\n",
    "    \n",
    "    rapJitter = call(pointProcess, \"Get jitter (rap)\", 0, 0, 0.0001, 0.02, 1.3)\n",
    "    ppq5Jitter = call(pointProcess, \"Get jitter (ppq5)\", 0, 0, 0.0001, 0.02, 1.3)\n",
    "    ddpJitter = call(pointProcess, \"Get jitter (ddp)\", 0, 0, 0.0001, 0.02, 1.3)   \n",
    "            \n",
    "    apq3Shimmer = call([sound, pointProcess], \"Get shimmer (apq3)\", 0, 0, 0.0001, 0.02, 1.3, 1.6)\n",
    "    aqpq5Shimmer = call([sound, pointProcess], \"Get shimmer (apq5)\", 0, 0, 0.0001, 0.02, 1.3, 1.6)\n",
    "    apq11Shimmer =  call([sound, pointProcess], \"Get shimmer (apq11)\", 0, 0, 0.0001, 0.02, 1.3, 1.6)\n",
    "    ddaShimmer = call([sound, pointProcess], \"Get shimmer (dda)\", 0, 0, 0.0001, 0.02, 1.3, 1.6)\n",
    "    \n",
    "    features.append(mean_pitch)\n",
    "    features.append(duration)\n",
    "    features.append(energy)\n",
    "    features.append(np.mean(zcr))\n",
    "    features.append(np.mean(lpc))\n",
    "    \n",
    "        \n",
    "    features.append(np.mean(mfcc))\n",
    "    \n",
    "    #features.append(np.mean(gfccs))\n",
    "    features.append(HNR)\n",
    "    \n",
    "    features.append(localJitter)\n",
    "    features.append(np.mean(localabsoluteJitter))\n",
    "    \n",
    "    features.append(localShimmer)\n",
    "    features.append(localdbShimmer)\n",
    "    features.append(f1_mean)   \n",
    "    features.append(f2_mean)\n",
    "    features.append(f3_mean)\n",
    "    features.append(f4_mean)\n",
    "        \n",
    "    features.append(rapJitter)\n",
    "    features.append(ppq5Jitter)\n",
    "    features.append(ddpJitter)\n",
    "    \n",
    "    features.append(apq3Shimmer)\n",
    "    features.append(aqpq5Shimmer)\n",
    "    features.append(apq11Shimmer)\n",
    "    features.append(ddaShimmer)\n",
    "        \n",
    "    return features"
   ]
  },
  {
   "cell_type": "markdown",
   "metadata": {
    "colab_type": "text",
    "id": "QqLDut92HWAf"
   },
   "source": [
    "Application of features extraction function on all audios"
   ]
  },
  {
   "cell_type": "code",
   "execution_count": 13,
   "metadata": {
    "colab": {},
    "colab_type": "code",
    "executionInfo": {
     "elapsed": 2722877,
     "status": "ok",
     "timestamp": 1596105531623,
     "user": {
      "displayName": "BARRY Nene Djenaba",
      "photoUrl": "",
      "userId": "09221402848573081539"
     },
     "user_tz": -120
    },
    "id": "i4HYtF5eHXRr"
   },
   "outputs": [],
   "source": [
    "all_features = []\n",
    "folder ='audio_emotion'\n",
    "for audio_file in array[:,0]:\n",
    "    if audio_file.endswith('.wav'):\n",
    "        \n",
    "        features = extract_features(folder+'/'+audio_file)\n",
    "        all_features.append(features)"
   ]
  },
  {
   "cell_type": "code",
   "execution_count": 14,
   "metadata": {
    "colab": {
     "base_uri": "https://localhost:8080/",
     "height": 35
    },
    "colab_type": "code",
    "executionInfo": {
     "elapsed": 688,
     "status": "ok",
     "timestamp": 1596105820502,
     "user": {
      "displayName": "BARRY Nene Djenaba",
      "photoUrl": "",
      "userId": "09221402848573081539"
     },
     "user_tz": -120
    },
    "id": "x8PZZgEyUeYX",
    "outputId": "65ce66e6-5baa-491d-bd02-ebd069f6f868"
   },
   "outputs": [
    {
     "name": "stdout",
     "output_type": "stream",
     "text": [
      "1245\n"
     ]
    }
   ],
   "source": [
    "print(len(all_features))"
   ]
  },
  {
   "cell_type": "markdown",
   "metadata": {
    "colab_type": "text",
    "id": "XNvIDRVAUpD3"
   },
   "source": [
    "Encode labels"
   ]
  },
  {
   "cell_type": "code",
   "execution_count": 15,
   "metadata": {
    "colab": {},
    "colab_type": "code",
    "executionInfo": {
     "elapsed": 639,
     "status": "ok",
     "timestamp": 1596105837176,
     "user": {
      "displayName": "BARRY Nene Djenaba",
      "photoUrl": "",
      "userId": "09221402848573081539"
     },
     "user_tz": -120
    },
    "id": "oDxfO5SJUss2"
   },
   "outputs": [],
   "source": [
    "encod = preprocessing.LabelEncoder()\n",
    "emotions = array[:,1]\n",
    "encod.fit(emotions)\n",
    "list(encod.classes_)\n",
    "labels=encod.transform(emotions)"
   ]
  },
  {
   "cell_type": "markdown",
   "metadata": {
    "colab_type": "text",
    "id": "atpDw444U3tg"
   },
   "source": [
    "Scale features"
   ]
  },
  {
   "cell_type": "code",
   "execution_count": 16,
   "metadata": {
    "colab": {},
    "colab_type": "code",
    "executionInfo": {
     "elapsed": 622,
     "status": "ok",
     "timestamp": 1596105861017,
     "user": {
      "displayName": "BARRY Nene Djenaba",
      "photoUrl": "",
      "userId": "09221402848573081539"
     },
     "user_tz": -120
    },
    "id": "FAI6k0k1U5I6"
   },
   "outputs": [],
   "source": [
    "scaler = StandardScaler()\n",
    "scaler.fit(all_features)\n",
    "X_scaler = scaler.transform(all_features)"
   ]
  },
  {
   "cell_type": "markdown",
   "metadata": {
    "colab_type": "text",
    "id": "hENmg0CTVBrQ"
   },
   "source": [
    "Oversampling"
   ]
  },
  {
   "cell_type": "code",
   "execution_count": 17,
   "metadata": {
    "colab": {
     "base_uri": "https://localhost:8080/",
     "height": 54
    },
    "colab_type": "code",
    "executionInfo": {
     "elapsed": 749,
     "status": "ok",
     "timestamp": 1596105881910,
     "user": {
      "displayName": "BARRY Nene Djenaba",
      "photoUrl": "",
      "userId": "09221402848573081539"
     },
     "user_tz": -120
    },
    "id": "OpQA2jnHVC3M",
    "outputId": "5ea080a6-b773-4df9-b3f7-6d2d633d1308"
   },
   "outputs": [
    {
     "name": "stdout",
     "output_type": "stream",
     "text": [
      "After OverSampling, counts of label '1': 660\n",
      "After OverSampling, counts of label '0': 1053\n"
     ]
    }
   ],
   "source": [
    "ada = ADASYN(sampling_strategy = 0.6)\n",
    "X, y = ada.fit_sample(X_scaler, labels.ravel())\n",
    "print(\"After OverSampling, counts of label '1': {}\".format(sum(y==1)))\n",
    "print(\"After OverSampling, counts of label '0': {}\".format(sum(y==0)))"
   ]
  },
  {
   "cell_type": "markdown",
   "metadata": {
    "colab_type": "text",
    "id": "dy5_XTIhVSpm"
   },
   "source": [
    "Process to select features after oversampling with ADASYN : the code first takes in a list the position of the features that are deleted, during the 1000 iterations, then uses a dataframe to count them. we notice that the features \" [1, 2, 3, 4, 9, 10, 12, 14, 18, 19, 20, 21]   \" are deleted 631 times."
   ]
  },
  {
   "cell_type": "code",
   "execution_count": 20,
   "metadata": {
    "colab": {
     "base_uri": "https://localhost:8080/",
     "height": 280
    },
    "colab_type": "code",
    "executionInfo": {
     "elapsed": 28249,
     "status": "ok",
     "timestamp": 1596106473849,
     "user": {
      "displayName": "BARRY Nene Djenaba",
      "photoUrl": "",
      "userId": "09221402848573081539"
     },
     "user_tz": -120
    },
    "id": "NtMPEzopVUKN",
    "outputId": "05b6e24c-3ae4-41d6-fe45-5e574407e45d"
   },
   "outputs": [
    {
     "data": {
      "text/html": [
       "<div>\n",
       "<style scoped>\n",
       "    .dataframe tbody tr th:only-of-type {\n",
       "        vertical-align: middle;\n",
       "    }\n",
       "\n",
       "    .dataframe tbody tr th {\n",
       "        vertical-align: top;\n",
       "    }\n",
       "\n",
       "    .dataframe thead th {\n",
       "        text-align: right;\n",
       "    }\n",
       "</style>\n",
       "<table border=\"1\" class=\"dataframe\">\n",
       "  <thead>\n",
       "    <tr style=\"text-align: right;\">\n",
       "      <th></th>\n",
       "      <th>iteration</th>\n",
       "      <th>X_removed</th>\n",
       "    </tr>\n",
       "  </thead>\n",
       "  <tbody>\n",
       "    <tr>\n",
       "      <th>0</th>\n",
       "      <td>1</td>\n",
       "      <td>[1, 2, 3, 4, 5, 9, 10, 12, 14, 18, 19, 20, 21]</td>\n",
       "    </tr>\n",
       "    <tr>\n",
       "      <th>1</th>\n",
       "      <td>2</td>\n",
       "      <td>[1, 2, 3, 4, 5, 9, 10, 12, 14, 18, 19, 20, 21]</td>\n",
       "    </tr>\n",
       "    <tr>\n",
       "      <th>2</th>\n",
       "      <td>3</td>\n",
       "      <td>[1, 2, 3, 4, 5, 9, 10, 12, 14, 18, 19, 20, 21]</td>\n",
       "    </tr>\n",
       "    <tr>\n",
       "      <th>3</th>\n",
       "      <td>4</td>\n",
       "      <td>[1, 2, 3, 4, 5, 9, 10, 12, 14, 18, 19, 20, 21]</td>\n",
       "    </tr>\n",
       "    <tr>\n",
       "      <th>4</th>\n",
       "      <td>5</td>\n",
       "      <td>[1, 2, 3, 4, 9, 10, 12, 14, 18, 19, 20, 21]</td>\n",
       "    </tr>\n",
       "  </tbody>\n",
       "</table>\n",
       "</div>"
      ],
      "text/plain": [
       "  iteration                                       X_removed\n",
       "0         1  [1, 2, 3, 4, 5, 9, 10, 12, 14, 18, 19, 20, 21]\n",
       "1         2  [1, 2, 3, 4, 5, 9, 10, 12, 14, 18, 19, 20, 21]\n",
       "2         3  [1, 2, 3, 4, 5, 9, 10, 12, 14, 18, 19, 20, 21]\n",
       "3         4  [1, 2, 3, 4, 5, 9, 10, 12, 14, 18, 19, 20, 21]\n",
       "4         5     [1, 2, 3, 4, 9, 10, 12, 14, 18, 19, 20, 21]"
      ]
     },
     "metadata": {
      "tags": []
     },
     "output_type": "display_data"
    },
    {
     "name": "stdout",
     "output_type": "stream",
     "text": [
      "Number of occurrences of features that are removed :\n"
     ]
    },
    {
     "data": {
      "text/plain": [
       "[1, 2, 3, 4, 9, 10, 12, 14, 18, 19, 20, 21]       631\n",
       "[1, 2, 3, 4, 5, 9, 10, 12, 14, 18, 19, 20, 21]    369\n",
       "Name: X_removed, dtype: int64"
      ]
     },
     "execution_count": 20,
     "metadata": {
      "tags": []
     },
     "output_type": "execute_result"
    }
   ],
   "source": [
    "compt=0\n",
    "df = pd.DataFrame(columns = ['iteration', 'X_removed'])\n",
    "while compt < 1000:\n",
    "    ada = ADASYN(sampling_strategy = 0.6)\n",
    "    \n",
    "    X, y = ada.fit_sample(X_scaler, labels.ravel())\n",
    "    X = np.asarray(X)\n",
    "    Kbest = SelectKBest(k=\"all\")\n",
    "    selec_features = Kbest.fit(X, y)\n",
    "    alpha = 0.01\n",
    "    #remove non_signifiant features selection\n",
    "    X_selec = X[:,np.where(selec_features.pvalues_ < alpha)[0]]\n",
    "    \n",
    "    pos_removed = []    \n",
    "    for i in range(len(X[0])):\n",
    "   \n",
    "        if X[0][i] not in X_selec[0]:\n",
    "            #print(i)\n",
    "            pos_removed.append(i)\n",
    "            str_pos_removed = str(pos_removed)\n",
    "    #print(pos_removed)\n",
    "    \n",
    "    compt = compt + 1\n",
    "    df= df.append(pd.DataFrame({'iteration':[compt], 'X_removed':[str_pos_removed]}), ignore_index=True)\n",
    "display(df.head())\n",
    "\n",
    "print(\"Number of occurrences of features that are removed :\")\n",
    "df[\"X_removed\"].value_counts()"
   ]
  },
  {
   "cell_type": "code",
   "execution_count": 22,
   "metadata": {
    "colab": {},
    "colab_type": "code",
    "executionInfo": {
     "elapsed": 600,
     "status": "ok",
     "timestamp": 1596106791674,
     "user": {
      "displayName": "BARRY Nene Djenaba",
      "photoUrl": "",
      "userId": "09221402848573081539"
     },
     "user_tz": -120
    },
    "id": "rCHkL6UXWBi5"
   },
   "outputs": [],
   "source": [
    "#manually feature selection\n",
    "X_selected = []\n",
    "for i in range(len(X)):\n",
    "    #print(w[i][0])\n",
    "    X_selected.append([X[i][0], X[i][5],  X[i][6], X[i][7], X[i][8],\n",
    "               X[i][11],  X[i][13], X[i][15],  X[i][16], X[i][17]])"
   ]
  },
  {
   "cell_type": "markdown",
   "metadata": {
    "colab_type": "text",
    "id": "Ch2KlT914uA9"
   },
   "source": [
    "Split dataset to Train, Test and Val"
   ]
  },
  {
   "cell_type": "code",
   "execution_count": 23,
   "metadata": {
    "colab": {
     "base_uri": "https://localhost:8080/",
     "height": 72
    },
    "colab_type": "code",
    "executionInfo": {
     "elapsed": 598,
     "status": "ok",
     "timestamp": 1596106817598,
     "user": {
      "displayName": "BARRY Nene Djenaba",
      "photoUrl": "",
      "userId": "09221402848573081539"
     },
     "user_tz": -120
    },
    "id": "VYsXl_cV4vbq",
    "outputId": "9f5d8c55-a176-4c70-e0dd-2434a520097b"
   },
   "outputs": [
    {
     "name": "stdout",
     "output_type": "stream",
     "text": [
      "1096\n",
      "343\n",
      "274\n"
     ]
    }
   ],
   "source": [
    "#split train test\n",
    "X_train, X_test, y_train, y_test = train_test_split(\n",
    "    X_selected, y, test_size=0.2, random_state=1)\n",
    "X_train, X_val, y_train, y_val = train_test_split(\n",
    "    X_train, y_train, test_size=0.2, random_state=1)\n",
    "\n",
    "print(len(X_train))\n",
    "print(len(X_test))\n",
    "print(len(X_val))"
   ]
  },
  {
   "cell_type": "markdown",
   "metadata": {
    "colab_type": "text",
    "id": "qKDxXRwvXKS_"
   },
   "source": [
    "Research of best parameters for all classifiers"
   ]
  },
  {
   "cell_type": "code",
   "execution_count": 24,
   "metadata": {
    "colab": {
     "base_uri": "https://localhost:8080/",
     "height": 1000
    },
    "colab_type": "code",
    "executionInfo": {
     "elapsed": 489378,
     "status": "ok",
     "timestamp": 1596107331629,
     "user": {
      "displayName": "BARRY Nene Djenaba",
      "photoUrl": "",
      "userId": "09221402848573081539"
     },
     "user_tz": -120
    },
    "id": "PUSjm6Qr5J66",
    "outputId": "3cd6655b-04cc-4b5c-e150-f35d8d81b0bb"
   },
   "outputs": [
    {
     "name": "stdout",
     "output_type": "stream",
     "text": [
      " the best result: \n",
      "\n",
      "Classifier :  SVC  score 0.87  with  SVC(C=1, break_ties=False, cache_size=200, class_weight=None, coef0=0.0,\n",
      "    decision_function_shape='ovr', degree=3, gamma=1, kernel='rbf', max_iter=-1,\n",
      "    probability=False, random_state=None, shrinking=True, tol=0.001,\n",
      "    verbose=False) \n",
      "\n",
      "all results: \n",
      "\n",
      "Classifier :  SVC  score 0.87  with  SVC(C=1, break_ties=False, cache_size=200, class_weight=None, coef0=0.0,\n",
      "    decision_function_shape='ovr', degree=3, gamma=1, kernel='rbf', max_iter=-1,\n",
      "    probability=False, random_state=None, shrinking=True, tol=0.001,\n",
      "    verbose=False) \n",
      "\n",
      "Classifier :  XGboost  score 0.82  with  XGBClassifier(base_score=0.5, booster='gbtree', colsample_bylevel=1,\n",
      "              colsample_bynode=1, colsample_bytree=1, gamma=0.1,\n",
      "              learning_rate=0.1, max_delta_step=0, max_depth=9,\n",
      "              min_child_weight=1, missing=None, n_estimators=100, n_jobs=1,\n",
      "              nthread=None, objective='binary:logistic', random_state=0,\n",
      "              reg_alpha=0, reg_lambda=1, scale_pos_weight=1, seed=None,\n",
      "              silent=None, subsample=0.9, verbosity=1) \n",
      "\n",
      "Classifier :  RandomForest  score 0.80  with  RandomForestClassifier(bootstrap=True, ccp_alpha=0.0, class_weight=None,\n",
      "                       criterion='gini', max_depth=9, max_features='auto',\n",
      "                       max_leaf_nodes=None, max_samples=None,\n",
      "                       min_impurity_decrease=0.0, min_impurity_split=None,\n",
      "                       min_samples_leaf=1, min_samples_split=2,\n",
      "                       min_weight_fraction_leaf=0.0, n_estimators=100,\n",
      "                       n_jobs=None, oob_score=False, random_state=None,\n",
      "                       verbose=0, warm_start=False) \n",
      "\n",
      "Classifier :  KNeighborsClassifier  score 0.80  with  KNeighborsClassifier(algorithm='auto', leaf_size=30, metric='minkowski',\n",
      "                     metric_params=None, n_jobs=None, n_neighbors=1, p=2,\n",
      "                     weights='uniform') \n",
      "\n",
      "Classifier :  DecisionTreeClassifier  score 0.75  with  DecisionTreeClassifier(ccp_alpha=0.0, class_weight=None, criterion='entropy',\n",
      "                       max_depth=None, max_features=None, max_leaf_nodes=None,\n",
      "                       min_impurity_decrease=0.0, min_impurity_split=None,\n",
      "                       min_samples_leaf=1, min_samples_split=2,\n",
      "                       min_weight_fraction_leaf=0.0, presort='deprecated',\n",
      "                       random_state=None, splitter='best') \n",
      "\n",
      "Classifier :  StochasticGradient  score 0.68  with  SGDClassifier(alpha=0.01, average=False, class_weight=None,\n",
      "              early_stopping=False, epsilon=0.1, eta0=0.0, fit_intercept=True,\n",
      "              l1_ratio=0.8, learning_rate='optimal', loss='hinge',\n",
      "              max_iter=1000, n_iter_no_change=5, n_jobs=None, penalty='l2',\n",
      "              power_t=0.5, random_state=None, shuffle=True, tol=0.001,\n",
      "              validation_fraction=0.1, verbose=0, warm_start=False) \n",
      "\n",
      "Classifier :  LogisticRegression  score 0.68  with  LogisticRegression(C=0.1, class_weight=None, dual=False, fit_intercept=True,\n",
      "                   intercept_scaling=1, l1_ratio=None, max_iter=100,\n",
      "                   multi_class='auto', n_jobs=None, penalty='l2',\n",
      "                   random_state=None, solver='lbfgs', tol=0.0001, verbose=0,\n",
      "                   warm_start=False) \n",
      "\n"
     ]
    }
   ],
   "source": [
    "classifiers = {\n",
    "    'KNeighborsClassifier': KNeighborsClassifier(),\n",
    "    'DecisionTreeClassifier': DecisionTreeClassifier(),\n",
    "    'SVC': SVC(),\n",
    "    'RandomForest' : RandomForestClassifier(),\n",
    "    \n",
    "    'LogisticRegression' : LogisticRegression(),\n",
    "    'StochasticGradient' : SGDClassifier(),\n",
    "    \n",
    "    'XGboost': XGBClassifier()\n",
    "}\n",
    "\n",
    "params = {'StochasticGradient' : [{'loss': ['log', 'hinge', 'modified_huber', 'squared_hinge', 'perceptron'],\n",
    "                'penalty': ['l1', 'l2', 'elasticnet'],\n",
    "                'alpha': [10 ** x for x in range(-6, 1)],\n",
    "                'l1_ratio': [0, 0.05, 0.1, 0.2, 0.5, 0.8, 0.9, 0.95, 1]}],  \n",
    "    \n",
    "    \n",
    "    \n",
    "    'KNeighborsClassifier' : [{'n_neighbors': list(range(1,15))},\n",
    "    {'metric': ['minkowski','euclidean','manhattan']}],\n",
    "          \n",
    "              \n",
    "          \n",
    "          \n",
    "           'LogisticRegression': [{'C': [0.001,0.01,0.1,1,10,100],\n",
    "                           'penalty' : [ 'l2']}] ,\n",
    "    \n",
    "          \n",
    "           'DecisionTreeClassifier': [{'max_depth': [1,2,3,4,5,6,7,8,9,10]},\n",
    "    {'criterion': ['gini', 'entropy']},\n",
    "    {'min_samples_leaf': [1,2,3,4,5,6,7,8,9,10]}],\n",
    "          \n",
    "       'SVC':[{'C': [0.001, 0.01, 0.1, 1, 10], \n",
    "    'gamma' : [0.001, 0.01, 0.1, 1], \n",
    "    'kernel': ['linear','rbf']}] ,\n",
    "    \n",
    "    'RandomForest':[{'max_depth': [1,2,3,4,5,6,7,8,9,10],\n",
    "    'criterion': ['gini', 'entropy'],\n",
    "    'min_samples_leaf': [1,2,3,4,5,6,7,8,9,10]}] ,\n",
    "    \n",
    "   \n",
    "   \n",
    "          \n",
    "    'XGboost' :[{'max_depth': range(3,10,2),\n",
    "                 'min_child_weight': range(1,6,2),\n",
    "                 'gamma': [0.1,0.2,0.3,0.4],\n",
    "                 'subsample': [0.5, 0.6, 0.7, 0.8, 0.9]\n",
    "                }]\n",
    "         }\n",
    "\n",
    "\n",
    "\n",
    "\n",
    "\n",
    "class Result:\n",
    "     def __init__(self,name, score, parameters):\n",
    "         self.name = name\n",
    "         self.score = score\n",
    "         self.parameters = parameters\n",
    "     def __repr__(self):\n",
    "         return repr((self.name, self.score, self.parameters))\n",
    "\n",
    "X_train_array = np.asarray(X_train)       \n",
    "results = []\n",
    "for key,value in classifiers.items():\n",
    "    gd_sr = GridSearchCV(estimator=value,  \n",
    "                     param_grid=params[key],\n",
    "                     scoring='accuracy',\n",
    "                     cv=5,\n",
    "                     n_jobs=1,\n",
    "                     iid=True)\n",
    "    gd_sr.fit(X_train_array, y_train)  \n",
    "    result=Result(key,gd_sr.best_score_,gd_sr.best_estimator_)\n",
    "    results.append(result)   \n",
    "    \n",
    "    \n",
    "    \n",
    "results=sorted(results, key=lambda result: result.score, reverse=True) \n",
    "\n",
    "print (' the best result: \\n')\n",
    "print ('Classifier : ',results[0].name, \n",
    "       ' score %0.2f' %results[0].score, \n",
    "       ' with ',results[0].parameters,'\\n')\n",
    "\n",
    "print ('all results: \\n')\n",
    "for result in results:\n",
    "    print ('Classifier : ',result.name, \n",
    "           ' score %0.2f' %result.score, \n",
    "           ' with ',result.parameters,'\\n')"
   ]
  },
  {
   "cell_type": "code",
   "execution_count": 25,
   "metadata": {
    "colab": {
     "base_uri": "https://localhost:8080/",
     "height": 1000
    },
    "colab_type": "code",
    "executionInfo": {
     "elapsed": 3283,
     "status": "ok",
     "timestamp": 1596107579588,
     "user": {
      "displayName": "BARRY Nene Djenaba",
      "photoUrl": "",
      "userId": "09221402848573081539"
     },
     "user_tz": -120
    },
    "id": "82EVKuZD758i",
    "outputId": "d8e30a8f-00cf-41fd-bdb7-0ec40b4cfb4e"
   },
   "outputs": [
    {
     "name": "stdout",
     "output_type": "stream",
     "text": [
      "LR : \n",
      "\n",
      "\n",
      " accuracy_test: 0.6122448979591837 \n",
      "\n",
      "\n",
      " confusion_matrix_svm_test \n",
      " [[162  57]\n",
      " [ 76  48]]\n",
      "\n",
      " precision_test : 0.45714285714285713\n",
      "\n",
      " recall_test : 0.3870967741935484\n",
      "\n",
      " f1_score : 0.4192139737991266\n",
      "\n",
      "               precision    recall  f1-score   support\n",
      "\n",
      "           0       0.68      0.74      0.71       219\n",
      "           1       0.46      0.39      0.42       124\n",
      "\n",
      "    accuracy                           0.61       343\n",
      "   macro avg       0.57      0.56      0.56       343\n",
      "weighted avg       0.60      0.61      0.60       343\n",
      "\n"
     ]
    },
    {
     "data": {
      "image/png": "[encoded data removed]",
      "text/plain": [
       "<Figure size 432x288 with 1 Axes>"
      ]
     },
     "metadata": {
      "needs_background": "light",
      "tags": []
     },
     "output_type": "display_data"
    },
    {
     "name": "stdout",
     "output_type": "stream",
     "text": [
      "KNN : \n",
      "\n",
      "\n",
      " accuracy_test: 0.7988338192419825 \n",
      "\n",
      "\n",
      " confusion_matrix_svm_test \n",
      " [[162  57]\n",
      " [ 12 112]]\n",
      "\n",
      " precision_test : 0.6627218934911243\n",
      "\n",
      " recall_test : 0.9032258064516129\n",
      "\n",
      " f1_score : 0.764505119453925\n",
      "\n",
      "               precision    recall  f1-score   support\n",
      "\n",
      "           0       0.93      0.74      0.82       219\n",
      "           1       0.66      0.90      0.76       124\n",
      "\n",
      "    accuracy                           0.80       343\n",
      "   macro avg       0.80      0.82      0.79       343\n",
      "weighted avg       0.83      0.80      0.80       343\n",
      "\n"
     ]
    },
    {
     "data": {
      "image/png": "[encoded data removed]",
      "text/plain": [
       "<Figure size 432x288 with 1 Axes>"
      ]
     },
     "metadata": {
      "needs_background": "light",
      "tags": []
     },
     "output_type": "display_data"
    },
    {
     "name": "stdout",
     "output_type": "stream",
     "text": [
      "CART : \n",
      "\n",
      "\n",
      " accuracy_test: 0.760932944606414 \n",
      "\n",
      "\n",
      " confusion_matrix_svm_test \n",
      " [[180  39]\n",
      " [ 43  81]]\n",
      "\n",
      " precision_test : 0.675\n",
      "\n",
      " recall_test : 0.6532258064516129\n",
      "\n",
      " f1_score : 0.6639344262295083\n",
      "\n",
      "               precision    recall  f1-score   support\n",
      "\n",
      "           0       0.81      0.82      0.81       219\n",
      "           1       0.68      0.65      0.66       124\n",
      "\n",
      "    accuracy                           0.76       343\n",
      "   macro avg       0.74      0.74      0.74       343\n",
      "weighted avg       0.76      0.76      0.76       343\n",
      "\n"
     ]
    },
    {
     "data": {
      "image/png": "[encoded data removed]",
      "text/plain": [
       "<Figure size 432x288 with 1 Axes>"
      ]
     },
     "metadata": {
      "needs_background": "light",
      "tags": []
     },
     "output_type": "display_data"
    },
    {
     "name": "stdout",
     "output_type": "stream",
     "text": [
      "NB : \n",
      "\n",
      "\n",
      " accuracy_test: 0.5947521865889213 \n",
      "\n",
      "\n",
      " confusion_matrix_svm_test \n",
      " [[105 114]\n",
      " [ 25  99]]\n",
      "\n",
      " precision_test : 0.4647887323943662\n",
      "\n",
      " recall_test : 0.7983870967741935\n",
      "\n",
      " f1_score : 0.5875370919881305\n",
      "\n",
      "               precision    recall  f1-score   support\n",
      "\n",
      "           0       0.81      0.48      0.60       219\n",
      "           1       0.46      0.80      0.59       124\n",
      "\n",
      "    accuracy                           0.59       343\n",
      "   macro avg       0.64      0.64      0.59       343\n",
      "weighted avg       0.68      0.59      0.60       343\n",
      "\n"
     ]
    },
    {
     "data": {
      "image/png": "[encoded data removed]",
      "text/plain": [
       "<Figure size 432x288 with 1 Axes>"
      ]
     },
     "metadata": {
      "needs_background": "light",
      "tags": []
     },
     "output_type": "display_data"
    },
    {
     "name": "stdout",
     "output_type": "stream",
     "text": [
      "SVM : \n",
      "\n",
      "\n",
      " accuracy_test: 0.880466472303207 \n",
      "\n",
      "\n",
      " confusion_matrix_svm_test \n",
      " [[194  25]\n",
      " [ 16 108]]\n",
      "\n",
      " precision_test : 0.8120300751879699\n",
      "\n",
      " recall_test : 0.8709677419354839\n",
      "\n",
      " f1_score : 0.8404669260700389\n",
      "\n",
      "               precision    recall  f1-score   support\n",
      "\n",
      "           0       0.92      0.89      0.90       219\n",
      "           1       0.81      0.87      0.84       124\n",
      "\n",
      "    accuracy                           0.88       343\n",
      "   macro avg       0.87      0.88      0.87       343\n",
      "weighted avg       0.88      0.88      0.88       343\n",
      "\n"
     ]
    },
    {
     "data": {
      "image/png": "[encoded data removed]",
      "text/plain": [
       "<Figure size 432x288 with 1 Axes>"
      ]
     },
     "metadata": {
      "needs_background": "light",
      "tags": []
     },
     "output_type": "display_data"
    },
    {
     "name": "stdout",
     "output_type": "stream",
     "text": [
      "SGD : \n",
      "\n",
      "\n",
      " accuracy_test: 0.6005830903790087 \n",
      "\n",
      "\n",
      " confusion_matrix_svm_test \n",
      " [[154  65]\n",
      " [ 72  52]]\n",
      "\n",
      " precision_test : 0.4444444444444444\n",
      "\n",
      " recall_test : 0.41935483870967744\n",
      "\n",
      " f1_score : 0.4315352697095436\n",
      "\n",
      "               precision    recall  f1-score   support\n",
      "\n",
      "           0       0.68      0.70      0.69       219\n",
      "           1       0.44      0.42      0.43       124\n",
      "\n",
      "    accuracy                           0.60       343\n",
      "   macro avg       0.56      0.56      0.56       343\n",
      "weighted avg       0.60      0.60      0.60       343\n",
      "\n"
     ]
    },
    {
     "data": {
      "image/png": "[encoded data removed]",
      "text/plain": [
       "<Figure size 432x288 with 1 Axes>"
      ]
     },
     "metadata": {
      "needs_background": "light",
      "tags": []
     },
     "output_type": "display_data"
    },
    {
     "name": "stdout",
     "output_type": "stream",
     "text": [
      "RF : \n",
      "\n",
      "\n",
      " accuracy_test: 0.793002915451895 \n",
      "\n",
      "\n",
      " confusion_matrix_svm_test \n",
      " [[176  43]\n",
      " [ 28  96]]\n",
      "\n",
      " precision_test : 0.6906474820143885\n",
      "\n",
      " recall_test : 0.7741935483870968\n",
      "\n",
      " f1_score : 0.7300380228136882\n",
      "\n",
      "               precision    recall  f1-score   support\n",
      "\n",
      "           0       0.86      0.80      0.83       219\n",
      "           1       0.69      0.77      0.73       124\n",
      "\n",
      "    accuracy                           0.79       343\n",
      "   macro avg       0.78      0.79      0.78       343\n",
      "weighted avg       0.80      0.79      0.80       343\n",
      "\n"
     ]
    },
    {
     "data": {
      "image/png": "[encoded data removed]",
      "text/plain": [
       "<Figure size 432x288 with 1 Axes>"
      ]
     },
     "metadata": {
      "needs_background": "light",
      "tags": []
     },
     "output_type": "display_data"
    },
    {
     "name": "stdout",
     "output_type": "stream",
     "text": [
      "Xgboost : \n",
      "\n",
      "\n",
      " accuracy_test: 0.8338192419825073 \n",
      "\n",
      "\n",
      " confusion_matrix_svm_test \n",
      " [[184  35]\n",
      " [ 22 102]]\n",
      "\n",
      " precision_test : 0.7445255474452555\n",
      "\n",
      " recall_test : 0.8225806451612904\n",
      "\n",
      " f1_score : 0.7816091954022989\n",
      "\n",
      "               precision    recall  f1-score   support\n",
      "\n",
      "           0       0.89      0.84      0.87       219\n",
      "           1       0.74      0.82      0.78       124\n",
      "\n",
      "    accuracy                           0.83       343\n",
      "   macro avg       0.82      0.83      0.82       343\n",
      "weighted avg       0.84      0.83      0.84       343\n",
      "\n"
     ]
    },
    {
     "data": {
      "image/png": "[encoded data removed]",
      "text/plain": [
       "<Figure size 432x288 with 1 Axes>"
      ]
     },
     "metadata": {
      "needs_background": "light",
      "tags": []
     },
     "output_type": "display_data"
    }
   ],
   "source": [
    "models = []\n",
    "\n",
    "models.append(('LR', LogisticRegression(C = 0.1, penalty ='l2'))) #  name and function of classification\n",
    "models.append(('KNN', KNeighborsClassifier(metric = 'minkowski', n_neighbors = 1)))\n",
    "models.append(('CART', DecisionTreeClassifier(criterion = 'gini', min_samples_leaf = 1)))\n",
    "models.append(('NB', GaussianNB()))\n",
    "models.append(('SVM', SVC(C = 1, gamma = 1, kernel = 'rbf')))\n",
    "models.append(('SGD',SGDClassifier(alpha = 0.01, l1_ratio = 0.8, loss = 'hinge', penalty = 'l2')))\n",
    "models.append(('RF', RandomForestClassifier(criterion = 'gini', max_depth = 9, min_samples_leaf = 1)))\n",
    "models.append(('Xgboost', XGBClassifier(gamma = 0.1, max_depth = 9, min_child_weight = 1, subsample = 0.9)))\n",
    "\n",
    "\n",
    "for name,model in models:\n",
    "    X_train_array = np.asarray(X_train)\n",
    "    X_test_array = np.asarray(X_test)\n",
    "    model.fit(X_train_array, y_train)\n",
    "    result_test = model.predict(X_test_array)\n",
    "    \n",
    "    print(name, ':', '\\n')\n",
    "    \n",
    "    print('\\n accuracy_test:',accuracy_score(y_test, result_test),'\\n')\n",
    "    conf_test = confusion_matrix(y_test, result_test)\n",
    "    \n",
    "    print ('\\n confusion_matrix_svm_test \\n',conf_test)\n",
    "\n",
    "    print ('\\n precision_test :', precision_score(y_test, result_test))\n",
    "    print('\\n recall_test :', recall_score(y_test, result_test))\n",
    "    print('\\n f1_score :', f1_score(y_test, result_test))\n",
    "\n",
    "    print('\\n' ,classification_report(y_test, result_test))\n",
    "\n",
    "     #auc_test\n",
    "\n",
    "    fpr, tpr, threshold = metrics.roc_curve(y_test, result_test) \n",
    "    roc_auc_test = metrics.auc(fpr, tpr)\n",
    "    \n",
    "    plt.title('Receiver Operating Characteristic')\n",
    "    plt.plot(fpr, tpr, 'b', label = 'AUC_test = %0.2f' % roc_auc_test)\n",
    "    plt.legend(loc = 'lower right')\n",
    "    plt.plot([0, 1], [0, 1],'r--')\n",
    "    plt.xlim([0, 1])\n",
    "    plt.ylim([0, 1])\n",
    "    plt.ylabel('True Positive Rate')\n",
    "    plt.xlabel('False Positive Rate')\n",
    "    plt.show()\n",
    "\n",
    "\n",
    "\n",
    "\n",
    "    filename = name+'_'+'happy_ravdess_MODEL.pkl'\n",
    "    joblib.dump(model, filename)"
   ]
  },
  {
   "cell_type": "markdown",
   "metadata": {
    "colab_type": "text",
    "id": "LZdfvSIXKlRb"
   },
   "source": [
    "Validation"
   ]
  },
  {
   "cell_type": "code",
   "execution_count": 26,
   "metadata": {
    "colab": {
     "base_uri": "https://localhost:8080/",
     "height": 1000
    },
    "colab_type": "code",
    "executionInfo": {
     "elapsed": 2576,
     "status": "ok",
     "timestamp": 1596107670503,
     "user": {
      "displayName": "BARRY Nene Djenaba",
      "photoUrl": "",
      "userId": "09221402848573081539"
     },
     "user_tz": -120
    },
    "id": "XEvZ3hqq9RxL",
    "outputId": "20af8e91-0fb3-4f4d-e139-e6b662a96ddd"
   },
   "outputs": [
    {
     "name": "stdout",
     "output_type": "stream",
     "text": [
      "validation avec LR_happy_ravdess_MODEL.pkl :\n",
      "\n",
      " accuracy_val: 0.6496350364963503 \n",
      "\n",
      "\n",
      " confusion_matrix_val \n",
      " [[136  33]\n",
      " [ 63  42]]\n",
      "\n",
      " precision_val : 0.56\n",
      "\n",
      " recall_val : 0.4\n",
      "\n",
      " f1_score : 0.4666666666666667\n",
      "\n",
      "               precision    recall  f1-score   support\n",
      "\n",
      "           0       0.68      0.80      0.74       169\n",
      "           1       0.56      0.40      0.47       105\n",
      "\n",
      "    accuracy                           0.65       274\n",
      "   macro avg       0.62      0.60      0.60       274\n",
      "weighted avg       0.64      0.65      0.63       274\n",
      "\n"
     ]
    },
    {
     "data": {
      "image/png": "[encoded data removed]",
      "text/plain": [
       "<Figure size 432x288 with 1 Axes>"
      ]
     },
     "metadata": {
      "needs_background": "light",
      "tags": []
     },
     "output_type": "display_data"
    },
    {
     "name": "stdout",
     "output_type": "stream",
     "text": [
      "validation avec KNN_happy_ravdess_MODEL.pkl :\n",
      "\n",
      " accuracy_val: 0.7883211678832117 \n",
      "\n",
      "\n",
      " confusion_matrix_val \n",
      " [[114  55]\n",
      " [  3 102]]\n",
      "\n",
      " precision_val : 0.6496815286624203\n",
      "\n",
      " recall_val : 0.9714285714285714\n",
      "\n",
      " f1_score : 0.7786259541984732\n",
      "\n",
      "               precision    recall  f1-score   support\n",
      "\n",
      "           0       0.97      0.67      0.80       169\n",
      "           1       0.65      0.97      0.78       105\n",
      "\n",
      "    accuracy                           0.79       274\n",
      "   macro avg       0.81      0.82      0.79       274\n",
      "weighted avg       0.85      0.79      0.79       274\n",
      "\n"
     ]
    },
    {
     "data": {
      "image/png": "[encoded data removed]",
      "text/plain": [
       "<Figure size 432x288 with 1 Axes>"
      ]
     },
     "metadata": {
      "needs_background": "light",
      "tags": []
     },
     "output_type": "display_data"
    },
    {
     "name": "stdout",
     "output_type": "stream",
     "text": [
      "validation avec CART_happy_ravdess_MODEL.pkl :\n",
      "\n",
      " accuracy_val: 0.7116788321167883 \n",
      "\n",
      "\n",
      " confusion_matrix_val \n",
      " [[128  41]\n",
      " [ 38  67]]\n",
      "\n",
      " precision_val : 0.6203703703703703\n",
      "\n",
      " recall_val : 0.638095238095238\n",
      "\n",
      " f1_score : 0.6291079812206574\n",
      "\n",
      "               precision    recall  f1-score   support\n",
      "\n",
      "           0       0.77      0.76      0.76       169\n",
      "           1       0.62      0.64      0.63       105\n",
      "\n",
      "    accuracy                           0.71       274\n",
      "   macro avg       0.70      0.70      0.70       274\n",
      "weighted avg       0.71      0.71      0.71       274\n",
      "\n"
     ]
    },
    {
     "data": {
      "image/png": "[encoded data removed]",
      "text/plain": [
       "<Figure size 432x288 with 1 Axes>"
      ]
     },
     "metadata": {
      "needs_background": "light",
      "tags": []
     },
     "output_type": "display_data"
    },
    {
     "name": "stdout",
     "output_type": "stream",
     "text": [
      "validation avec NB_happy_ravdess_MODEL.pkl :\n",
      "\n",
      " accuracy_val: 0.5656934306569343 \n",
      "\n",
      "\n",
      " confusion_matrix_val \n",
      " [[75 94]\n",
      " [25 80]]\n",
      "\n",
      " precision_val : 0.45977011494252873\n",
      "\n",
      " recall_val : 0.7619047619047619\n",
      "\n",
      " f1_score : 0.5734767025089607\n",
      "\n",
      "               precision    recall  f1-score   support\n",
      "\n",
      "           0       0.75      0.44      0.56       169\n",
      "           1       0.46      0.76      0.57       105\n",
      "\n",
      "    accuracy                           0.57       274\n",
      "   macro avg       0.60      0.60      0.57       274\n",
      "weighted avg       0.64      0.57      0.56       274\n",
      "\n"
     ]
    },
    {
     "data": {
      "image/png": "[encoded data removed]",
      "text/plain": [
       "<Figure size 432x288 with 1 Axes>"
      ]
     },
     "metadata": {
      "needs_background": "light",
      "tags": []
     },
     "output_type": "display_data"
    },
    {
     "name": "stdout",
     "output_type": "stream",
     "text": [
      "validation avec SVM_happy_ravdess_MODEL.pkl :\n",
      "\n",
      " accuracy_val: 0.8613138686131386 \n",
      "\n",
      "\n",
      " confusion_matrix_val \n",
      " [[145  24]\n",
      " [ 14  91]]\n",
      "\n",
      " precision_val : 0.7913043478260869\n",
      "\n",
      " recall_val : 0.8666666666666667\n",
      "\n",
      " f1_score : 0.8272727272727274\n",
      "\n",
      "               precision    recall  f1-score   support\n",
      "\n",
      "           0       0.91      0.86      0.88       169\n",
      "           1       0.79      0.87      0.83       105\n",
      "\n",
      "    accuracy                           0.86       274\n",
      "   macro avg       0.85      0.86      0.86       274\n",
      "weighted avg       0.87      0.86      0.86       274\n",
      "\n"
     ]
    },
    {
     "data": {
      "image/png": "[encoded data removed]",
      "text/plain": [
       "<Figure size 432x288 with 1 Axes>"
      ]
     },
     "metadata": {
      "needs_background": "light",
      "tags": []
     },
     "output_type": "display_data"
    },
    {
     "name": "stdout",
     "output_type": "stream",
     "text": [
      "validation avec SGD_happy_ravdess_MODEL.pkl :\n",
      "\n",
      " accuracy_val: 0.6277372262773723 \n",
      "\n",
      "\n",
      " confusion_matrix_val \n",
      " [[129  40]\n",
      " [ 62  43]]\n",
      "\n",
      " precision_val : 0.5180722891566265\n",
      "\n",
      " recall_val : 0.4095238095238095\n",
      "\n",
      " f1_score : 0.4574468085106383\n",
      "\n",
      "               precision    recall  f1-score   support\n",
      "\n",
      "           0       0.68      0.76      0.72       169\n",
      "           1       0.52      0.41      0.46       105\n",
      "\n",
      "    accuracy                           0.63       274\n",
      "   macro avg       0.60      0.59      0.59       274\n",
      "weighted avg       0.62      0.63      0.62       274\n",
      "\n"
     ]
    },
    {
     "data": {
      "image/png": "[encoded data removed]",
      "text/plain": [
       "<Figure size 432x288 with 1 Axes>"
      ]
     },
     "metadata": {
      "needs_background": "light",
      "tags": []
     },
     "output_type": "display_data"
    },
    {
     "name": "stdout",
     "output_type": "stream",
     "text": [
      "validation avec RF_happy_ravdess_MODEL.pkl :\n",
      "\n",
      " accuracy_val: 0.7992700729927007 \n",
      "\n",
      "\n",
      " confusion_matrix_val \n",
      " [[136  33]\n",
      " [ 22  83]]\n",
      "\n",
      " precision_val : 0.7155172413793104\n",
      "\n",
      " recall_val : 0.7904761904761904\n",
      "\n",
      " f1_score : 0.751131221719457\n",
      "\n",
      "               precision    recall  f1-score   support\n",
      "\n",
      "           0       0.86      0.80      0.83       169\n",
      "           1       0.72      0.79      0.75       105\n",
      "\n",
      "    accuracy                           0.80       274\n",
      "   macro avg       0.79      0.80      0.79       274\n",
      "weighted avg       0.81      0.80      0.80       274\n",
      "\n"
     ]
    },
    {
     "data": {
      "image/png": "[encoded data removed]",
      "text/plain": [
       "<Figure size 432x288 with 1 Axes>"
      ]
     },
     "metadata": {
      "needs_background": "light",
      "tags": []
     },
     "output_type": "display_data"
    },
    {
     "name": "stdout",
     "output_type": "stream",
     "text": [
      "validation avec Xgboost_happy_ravdess_MODEL.pkl :\n",
      "\n",
      " accuracy_val: 0.8175182481751825 \n",
      "\n",
      "\n",
      " confusion_matrix_val \n",
      " [[137  32]\n",
      " [ 18  87]]\n",
      "\n",
      " precision_val : 0.7310924369747899\n",
      "\n",
      " recall_val : 0.8285714285714286\n",
      "\n",
      " f1_score : 0.7767857142857143\n",
      "\n",
      "               precision    recall  f1-score   support\n",
      "\n",
      "           0       0.88      0.81      0.85       169\n",
      "           1       0.73      0.83      0.78       105\n",
      "\n",
      "    accuracy                           0.82       274\n",
      "   macro avg       0.81      0.82      0.81       274\n",
      "weighted avg       0.83      0.82      0.82       274\n",
      "\n"
     ]
    },
    {
     "data": {
      "image/png": "[encoded data removed]",
      "text/plain": [
       "<Figure size 432x288 with 1 Axes>"
      ]
     },
     "metadata": {
      "needs_background": "light",
      "tags": []
     },
     "output_type": "display_data"
    }
   ],
   "source": [
    "#testing sauvegarded model on Val dataset\n",
    "loaded = ['LR_happy_ravdess_MODEL.pkl', 'KNN_happy_ravdess_MODEL.pkl', 'CART_happy_ravdess_MODEL.pkl', \n",
    "          'NB_happy_ravdess_MODEL.pkl','SVM_happy_ravdess_MODEL.pkl', 'SGD_happy_ravdess_MODEL.pkl',\n",
    "          'RF_happy_ravdess_MODEL.pkl', 'Xgboost_happy_ravdess_MODEL.pkl']\n",
    "\n",
    "\n",
    "for filename in loaded:\n",
    "    loaded_model = joblib.load(filename)\n",
    "    X_val_array =  np.asarray(X_val)\n",
    "    result_val = loaded_model.predict(X_val_array)\n",
    "\n",
    "    print('validation avec' ,filename , ':')\n",
    "    \n",
    "    print('\\n accuracy_val:',accuracy_score(y_val, result_val),'\\n')\n",
    "    conf_val = confusion_matrix(y_val, result_val)\n",
    "    print ('\\n confusion_matrix_val \\n',conf_val)\n",
    "\n",
    "    print ('\\n precision_val :', precision_score(y_val, result_val))\n",
    "    print('\\n recall_val :', recall_score(y_val, result_val))\n",
    "    print('\\n f1_score :', f1_score(y_val, result_val))\n",
    "\n",
    "    print('\\n' ,classification_report(y_val, result_val))\n",
    "\n",
    "    \n",
    "\n",
    "\n",
    "    #auc_val\n",
    "    fpr, tpr, threshold = metrics.roc_curve(y_val, result_val) \n",
    "    roc_auc_val = metrics.auc(fpr, tpr)\n",
    "    \n",
    "    \n",
    "    plt.title('Receiver Operating Characteristic')\n",
    "    plt.plot(fpr, tpr, 'b', label = 'AUC_val = %0.2f' % roc_auc_val)\n",
    "    plt.legend(loc = 'lower right')\n",
    "    plt.plot([0, 1], [0, 1],'r--')\n",
    "    plt.xlim([0, 1])\n",
    "    plt.ylim([0, 1])\n",
    "    plt.ylabel('True Positive Rate')\n",
    "    plt.xlabel('False Positive Rate')\n",
    "    plt.show()"
   ]
  }
 ],
 "metadata": {
  "colab": {
   "authorship_tag": "ABX9TyOLkaPP9pnj6m+DIXx82nTS",
   "name": "happy_RAVDESS.ipynb",
   "provenance": []
  },
  "kernelspec": {
   "display_name": "Python 3",
   "language": "python",
   "name": "python3"
  },
  "language_info": {
   "codemirror_mode": {
    "name": "ipython",
    "version": 3
   },
   "file_extension": ".py",
   "mimetype": "text/x-python",
   "name": "python",
   "nbconvert_exporter": "python",
   "pygments_lexer": "ipython3",
   "version": "3.8.2"
  }
 },
 "nbformat": 4,
 "nbformat_minor": 1
}
