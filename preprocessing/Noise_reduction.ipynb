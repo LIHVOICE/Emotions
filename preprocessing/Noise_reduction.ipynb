{
 "cells": [
  {
   "cell_type": "code",
   "execution_count": null,
   "metadata": {},
   "outputs": [],
   "source": [
    "\n",
    "import os\n",
    "import re\n",
    "import numpy as np\n",
    "import librosa\n",
    "import wavio\n",
    "import ffmpeg\n",
    "import logmmse\n",
    "from logmmse import logmmse_from_file\n",
    "\n",
    "folder = 'ravdess' # name of the folder which contain audio_files (RAVDESS or MELD)\n",
    "for  fichier_audio in os.listdir(folder): # for each element in the audio folder\n",
    "    folder_path = os.path.join(folder, fichier_audio) # path of each item  in the audio folder\n",
    "    if(os.path.isdir(folder_path)):\n",
    "        audios = os.listdir(folder_path)\n",
    "        for audio_file in audios:\n",
    "            if audio_file.endswith('norm.wav'):\n",
    "                begin_file = re.split(\"\\.\", audio_file)\n",
    "                r = wavio.read(folder_path+'/'+audio_file) #read audio file with wavio for the rate\n",
    "                y,sr = librosa.load(folder_path+'/'+audio_file) #load audio with librosa\n",
    "                logmmse.logmmse(y, r.rate, output_file = folder_path+'/'+begin_file[0]+'_outNoise.wav') #reduceNoise"
   ]
  }
 ],
 "metadata": {
  "kernelspec": {
   "display_name": "Python 3",
   "language": "python",
   "name": "python3"
  },
  "language_info": {
   "codemirror_mode": {
    "name": "ipython",
    "version": 3
   },
   "file_extension": ".py",
   "mimetype": "text/x-python",
   "name": "python",
   "nbconvert_exporter": "python",
   "pygments_lexer": "ipython3",
   "version": "3.8.2"
  }
 },
 "nbformat": 4,
 "nbformat_minor": 4
}
