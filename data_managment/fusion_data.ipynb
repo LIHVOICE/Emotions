{
 "cells": [
  {
   "cell_type": "markdown",
   "metadata": {},
   "source": [
    "Creation of the merge folder and transfer of elements from the ravdess folder"
   ]
  },
  {
   "cell_type": "code",
   "execution_count": null,
   "metadata": {},
   "outputs": [],
   "source": [
    "import shutil\n",
    "\n",
    "folder = 'ravdess_meld'\n",
    "path = 'ravdess'\n",
    "tab = ['angry', 'disgust', 'fearfull', 'happy', 'neutral', 'sad', 'surprised']\n",
    "for i in tab:\n",
    "    shutil.move(path+'/'+i, folder)"
   ]
  },
  {
   "cell_type": "markdown",
   "metadata": {},
   "source": [
    "Transfer of elements from the meld folder to merge folder"
   ]
  },
  {
   "cell_type": "code",
   "execution_count": 7,
   "metadata": {
    "colab": {
     "base_uri": "https://localhost:8080/",
     "height": 206
    },
    "colab_type": "code",
    "executionInfo": {
     "elapsed": 1735,
     "status": "ok",
     "timestamp": 1593599772145,
     "user": {
      "displayName": "BARRY Nene Djenaba",
      "photoUrl": "",
      "userId": "09221402848573081539"
     },
     "user_tz": -120
    },
    "id": "-xxh3FGK-Vv5",
    "outputId": "45859a7f-65e4-4ba2-a8e5-a7e4020ec38c"
   },
   "outputs": [
    {
     "data": {
      "text/html": [
       "<div>\n",
       "<style scoped>\n",
       "    .dataframe tbody tr th:only-of-type {\n",
       "        vertical-align: middle;\n",
       "    }\n",
       "\n",
       "    .dataframe tbody tr th {\n",
       "        vertical-align: top;\n",
       "    }\n",
       "\n",
       "    .dataframe thead th {\n",
       "        text-align: right;\n",
       "    }\n",
       "</style>\n",
       "<table border=\"1\" class=\"dataframe\">\n",
       "  <thead>\n",
       "    <tr style=\"text-align: right;\">\n",
       "      <th></th>\n",
       "      <th>audio</th>\n",
       "    </tr>\n",
       "  </thead>\n",
       "  <tbody>\n",
       "    <tr>\n",
       "      <th>0</th>\n",
       "      <td>dia23_utt7_norm_outNoise.wav</td>\n",
       "    </tr>\n",
       "    <tr>\n",
       "      <th>1</th>\n",
       "      <td>dia13_utt19_norm_outNoise.wav</td>\n",
       "    </tr>\n",
       "    <tr>\n",
       "      <th>2</th>\n",
       "      <td>dia9_utt4_norm_outNoise.wav</td>\n",
       "    </tr>\n",
       "    <tr>\n",
       "      <th>3</th>\n",
       "      <td>dia93_utt1_norm_outNoise.wav</td>\n",
       "    </tr>\n",
       "    <tr>\n",
       "      <th>4</th>\n",
       "      <td>dia54_utt6_norm_outNoise.wav</td>\n",
       "    </tr>\n",
       "  </tbody>\n",
       "</table>\n",
       "</div>"
      ],
      "text/plain": [
       "                           audio\n",
       "0   dia23_utt7_norm_outNoise.wav\n",
       "1  dia13_utt19_norm_outNoise.wav\n",
       "2    dia9_utt4_norm_outNoise.wav\n",
       "3   dia93_utt1_norm_outNoise.wav\n",
       "4   dia54_utt6_norm_outNoise.wav"
      ]
     },
     "metadata": {
      "tags": []
     },
     "output_type": "display_data"
    }
   ],
   "source": [
    "import pandas as pd\n",
    "import os\n",
    "parent_dir = \"meld\" \n",
    "def prepare_datadf(parent_dir): # a function whose parameter is the audio folder\n",
    "    df = pd.DataFrame(columns = ['audio']) #dataframe columns\n",
    "    \n",
    "    for  fichier_audio in os.listdir(parent_dir):\n",
    "      # for each element in the audio folder\n",
    "\n",
    "     \n",
    "        \n",
    "      if fichier_audio.endswith('outNoise.wav'):\n",
    "                    \n",
    "        df = df.append(pd.DataFrame({'audio':[fichier_audio]}), \n",
    "                           ignore_index=True) # here at df defined, with the columns we add the values:\n",
    "                                            #the audio column will take the audios_path, \n",
    "                                            #and the emotion column will take the corresponding emotion, ie the name of the folder\n",
    "    #Shuffling for randomness\n",
    "    df = df.sample(frac=1.0).reset_index(drop=True)\n",
    "    return df\n",
    "datadf = prepare_datadf(parent_dir) #function call\n",
    "display(datadf.head()) #dataframe display\n",
    "\n"
   ]
  },
  {
   "cell_type": "code",
   "execution_count": 8,
   "metadata": {
    "colab": {
     "base_uri": "https://localhost:8080/",
     "height": 225
    },
    "colab_type": "code",
    "executionInfo": {
     "elapsed": 953,
     "status": "ok",
     "timestamp": 1593599796450,
     "user": {
      "displayName": "BARRY Nene Djenaba",
      "photoUrl": "",
      "userId": "09221402848573081539"
     },
     "user_tz": -120
    },
    "id": "ncZq8FQW-oCg",
    "outputId": "7474db71-510c-4973-9e7e-0a56bf7e4f62"
   },
   "outputs": [
    {
     "data": {
      "text/html": [
       "<div>\n",
       "<style scoped>\n",
       "    .dataframe tbody tr th:only-of-type {\n",
       "        vertical-align: middle;\n",
       "    }\n",
       "\n",
       "    .dataframe tbody tr th {\n",
       "        vertical-align: top;\n",
       "    }\n",
       "\n",
       "    .dataframe thead th {\n",
       "        text-align: right;\n",
       "    }\n",
       "</style>\n",
       "<table border=\"1\" class=\"dataframe\">\n",
       "  <thead>\n",
       "    <tr style=\"text-align: right;\">\n",
       "      <th></th>\n",
       "      <th>Sr No.</th>\n",
       "      <th>Utterance</th>\n",
       "      <th>Speaker</th>\n",
       "      <th>Emotion</th>\n",
       "      <th>Sentiment</th>\n",
       "      <th>Dialogue_ID</th>\n",
       "      <th>Utterance_ID</th>\n",
       "      <th>Season</th>\n",
       "      <th>Episode</th>\n",
       "      <th>StartTime</th>\n",
       "      <th>EndTime</th>\n",
       "    </tr>\n",
       "  </thead>\n",
       "  <tbody>\n",
       "    <tr>\n",
       "      <th>0</th>\n",
       "      <td>1</td>\n",
       "      <td>Oh my God, hes lost it. Hes totally lost it.</td>\n",
       "      <td>Phoebe</td>\n",
       "      <td>sadness</td>\n",
       "      <td>negative</td>\n",
       "      <td>0</td>\n",
       "      <td>0</td>\n",
       "      <td>4</td>\n",
       "      <td>7</td>\n",
       "      <td>00:20:57,256</td>\n",
       "      <td>00:21:00,049</td>\n",
       "    </tr>\n",
       "    <tr>\n",
       "      <th>1</th>\n",
       "      <td>2</td>\n",
       "      <td>What?</td>\n",
       "      <td>Monica</td>\n",
       "      <td>surprise</td>\n",
       "      <td>negative</td>\n",
       "      <td>0</td>\n",
       "      <td>1</td>\n",
       "      <td>4</td>\n",
       "      <td>7</td>\n",
       "      <td>00:21:01,927</td>\n",
       "      <td>00:21:03,261</td>\n",
       "    </tr>\n",
       "    <tr>\n",
       "      <th>2</th>\n",
       "      <td>3</td>\n",
       "      <td>Or! Or, we could go to the bank, close our acc...</td>\n",
       "      <td>Ross</td>\n",
       "      <td>neutral</td>\n",
       "      <td>neutral</td>\n",
       "      <td>1</td>\n",
       "      <td>0</td>\n",
       "      <td>4</td>\n",
       "      <td>4</td>\n",
       "      <td>00:12:24,660</td>\n",
       "      <td>00:12:30,915</td>\n",
       "    </tr>\n",
       "    <tr>\n",
       "      <th>3</th>\n",
       "      <td>4</td>\n",
       "      <td>Youre a genius!</td>\n",
       "      <td>Chandler</td>\n",
       "      <td>joy</td>\n",
       "      <td>positive</td>\n",
       "      <td>1</td>\n",
       "      <td>1</td>\n",
       "      <td>4</td>\n",
       "      <td>4</td>\n",
       "      <td>00:12:32,334</td>\n",
       "      <td>00:12:33,960</td>\n",
       "    </tr>\n",
       "    <tr>\n",
       "      <th>4</th>\n",
       "      <td>5</td>\n",
       "      <td>Aww, man, now we wont be bank buddies!</td>\n",
       "      <td>Joey</td>\n",
       "      <td>sadness</td>\n",
       "      <td>negative</td>\n",
       "      <td>1</td>\n",
       "      <td>2</td>\n",
       "      <td>4</td>\n",
       "      <td>4</td>\n",
       "      <td>00:12:34,211</td>\n",
       "      <td>00:12:37,505</td>\n",
       "    </tr>\n",
       "  </tbody>\n",
       "</table>\n",
       "</div>"
      ],
      "text/plain": [
       "   Sr No.  ...       EndTime\n",
       "0       1  ...  00:21:00,049\n",
       "1       2  ...  00:21:03,261\n",
       "2       3  ...  00:12:30,915\n",
       "3       4  ...  00:12:33,960\n",
       "4       5  ...  00:12:37,505\n",
       "\n",
       "[5 rows x 11 columns]"
      ]
     },
     "metadata": {
      "tags": []
     },
     "output_type": "display_data"
    },
    {
     "name": "stdout",
     "output_type": "stream",
     "text": [
      "1109\n"
     ]
    }
   ],
   "source": [
    "datacsv = pd.read_csv(\"dev_sent_emo.csv\", encoding=\"utf8\")\n",
    "display(datacsv.head())\n",
    "print(len(datacsv))"
   ]
  },
  {
   "cell_type": "code",
   "execution_count": 9,
   "metadata": {
    "colab": {
     "base_uri": "https://localhost:8080/",
     "height": 424
    },
    "colab_type": "code",
    "executionInfo": {
     "elapsed": 210936,
     "status": "ok",
     "timestamp": 1593600069307,
     "user": {
      "displayName": "BARRY Nene Djenaba",
      "photoUrl": "",
      "userId": "09221402848573081539"
     },
     "user_tz": -120
    },
    "id": "IXBpkar1-_6Y",
    "outputId": "e7009bcf-b35f-4718-e3e8-c25e710992da"
   },
   "outputs": [
    {
     "data": {
      "text/html": [
       "<div>\n",
       "<style scoped>\n",
       "    .dataframe tbody tr th:only-of-type {\n",
       "        vertical-align: middle;\n",
       "    }\n",
       "\n",
       "    .dataframe tbody tr th {\n",
       "        vertical-align: top;\n",
       "    }\n",
       "\n",
       "    .dataframe thead th {\n",
       "        text-align: right;\n",
       "    }\n",
       "</style>\n",
       "<table border=\"1\" class=\"dataframe\">\n",
       "  <thead>\n",
       "    <tr style=\"text-align: right;\">\n",
       "      <th></th>\n",
       "      <th>audio</th>\n",
       "      <th>dialogue</th>\n",
       "      <th>utterance</th>\n",
       "      <th>emotion</th>\n",
       "    </tr>\n",
       "  </thead>\n",
       "  <tbody>\n",
       "    <tr>\n",
       "      <th>0</th>\n",
       "      <td>dia23_utt7_norm_outNoise.wav</td>\n",
       "      <td>23</td>\n",
       "      <td>7</td>\n",
       "      <td>sadness</td>\n",
       "    </tr>\n",
       "    <tr>\n",
       "      <th>1</th>\n",
       "      <td>dia13_utt19_norm_outNoise.wav</td>\n",
       "      <td>13</td>\n",
       "      <td>19</td>\n",
       "      <td>surprise</td>\n",
       "    </tr>\n",
       "    <tr>\n",
       "      <th>2</th>\n",
       "      <td>dia9_utt4_norm_outNoise.wav</td>\n",
       "      <td>9</td>\n",
       "      <td>4</td>\n",
       "      <td>neutral</td>\n",
       "    </tr>\n",
       "    <tr>\n",
       "      <th>3</th>\n",
       "      <td>dia93_utt1_norm_outNoise.wav</td>\n",
       "      <td>93</td>\n",
       "      <td>1</td>\n",
       "      <td>neutral</td>\n",
       "    </tr>\n",
       "    <tr>\n",
       "      <th>4</th>\n",
       "      <td>dia54_utt6_norm_outNoise.wav</td>\n",
       "      <td>54</td>\n",
       "      <td>6</td>\n",
       "      <td>neutral</td>\n",
       "    </tr>\n",
       "    <tr>\n",
       "      <th>...</th>\n",
       "      <td>...</td>\n",
       "      <td>...</td>\n",
       "      <td>...</td>\n",
       "      <td>...</td>\n",
       "    </tr>\n",
       "    <tr>\n",
       "      <th>1038</th>\n",
       "      <td>dia72_utt5_norm_outNoise.wav</td>\n",
       "      <td>72</td>\n",
       "      <td>5</td>\n",
       "      <td>surprise</td>\n",
       "    </tr>\n",
       "    <tr>\n",
       "      <th>1039</th>\n",
       "      <td>dia22_utt8_norm_outNoise.wav</td>\n",
       "      <td>22</td>\n",
       "      <td>8</td>\n",
       "      <td>neutral</td>\n",
       "    </tr>\n",
       "    <tr>\n",
       "      <th>1040</th>\n",
       "      <td>dia47_utt0_norm_outNoise.wav</td>\n",
       "      <td>47</td>\n",
       "      <td>0</td>\n",
       "      <td>neutral</td>\n",
       "    </tr>\n",
       "    <tr>\n",
       "      <th>1041</th>\n",
       "      <td>dia29_utt7_norm_outNoise.wav</td>\n",
       "      <td>29</td>\n",
       "      <td>7</td>\n",
       "      <td>neutral</td>\n",
       "    </tr>\n",
       "    <tr>\n",
       "      <th>1042</th>\n",
       "      <td>dia72_utt14_norm_outNoise.wav</td>\n",
       "      <td>72</td>\n",
       "      <td>14</td>\n",
       "      <td>anger</td>\n",
       "    </tr>\n",
       "  </tbody>\n",
       "</table>\n",
       "<p>1043 rows × 4 columns</p>\n",
       "</div>"
      ],
      "text/plain": [
       "                              audio dialogue utterance   emotion\n",
       "0      dia23_utt7_norm_outNoise.wav       23         7   sadness\n",
       "1     dia13_utt19_norm_outNoise.wav       13        19  surprise\n",
       "2       dia9_utt4_norm_outNoise.wav        9         4   neutral\n",
       "3      dia93_utt1_norm_outNoise.wav       93         1   neutral\n",
       "4      dia54_utt6_norm_outNoise.wav       54         6   neutral\n",
       "...                             ...      ...       ...       ...\n",
       "1038   dia72_utt5_norm_outNoise.wav       72         5  surprise\n",
       "1039   dia22_utt8_norm_outNoise.wav       22         8   neutral\n",
       "1040   dia47_utt0_norm_outNoise.wav       47         0   neutral\n",
       "1041   dia29_utt7_norm_outNoise.wav       29         7   neutral\n",
       "1042  dia72_utt14_norm_outNoise.wav       72        14     anger\n",
       "\n",
       "[1043 rows x 4 columns]"
      ]
     },
     "metadata": {
      "tags": []
     },
     "output_type": "display_data"
    }
   ],
   "source": [
    "import re\n",
    "df = pd.DataFrame(columns = ['audio','dialogue', 'utterance', 'emotion']) #dataframe columns\n",
    "array = datadf.values\n",
    "audios = array[:,0]\n",
    "\n",
    "    \n",
    "for  fichier_audio in audios:\n",
    "  sep = re.split(\"\\_\", fichier_audio)\n",
    "  dia = sep[0][3:]\n",
    "  dia = int(dia)\n",
    "  utt = sep[1][3:]\n",
    "  utt = int(utt)\n",
    "  #print(dia, utt)\n",
    "  for index, row in datacsv.iterrows():\n",
    "    list = [row['Dialogue_ID'], row['Utterance_ID'], row['Emotion']]\n",
    "    #print(list)\n",
    "\n",
    "\n",
    "    if dia == list[0] and utt == list[1]:\n",
    "      df = df.append(pd.DataFrame({'audio':[fichier_audio], 'dialogue' : [list[0]], 'utterance' : [list[1]], 'emotion' : [list[2]]}), \n",
    "                          ignore_index=True) # here at df defined, with the columns we add the values:\n",
    "                                            #the audio column will take the audios_path, \n",
    "                                            #and the emotion column will take the corresponding emotion, ie the name of the folder\n",
    "\n",
    "display(df)\n",
    "\n",
    "\t"
   ]
  },
  {
   "cell_type": "code",
   "execution_count": 11,
   "metadata": {
    "colab": {},
    "colab_type": "code",
    "executionInfo": {
     "elapsed": 56843,
     "status": "ok",
     "timestamp": 1593600312528,
     "user": {
      "displayName": "BARRY Nene Djenaba",
      "photoUrl": "",
      "userId": "09221402848573081539"
     },
     "user_tz": -120
    },
    "id": "iBP4b-YCD6lD"
   },
   "outputs": [],
   "source": [
    "folder = 'meld'\n",
    "path = 'ravdess_meld'\n",
    "\n",
    "#angry\n",
    "for index, row in df.iterrows():\n",
    "  list = [row['audio'], row['dialogue'], row['utterance'], row['emotion']]\n",
    "  if list[3] == 'anger':\n",
    "    shutil.copy(folder+'/'+list[0], path+'/'+'angry')\n",
    "    \n",
    "#disgust\n",
    "for index, row in df.iterrows():\n",
    "  list = [row['audio'], row['dialogue'], row['utterance'], row['emotion']]\n",
    "  if list[3] == 'disgust':\n",
    "    shutil.copy(folder+'/'+list[0], path+'/'+'disgust')\n",
    "\n",
    "#fearfull   \n",
    "for index, row in df.iterrows():\n",
    "  list = [row['audio'], row['dialogue'], row['utterance'], row['emotion']]\n",
    "  if list[3] == 'fear':\n",
    "    shutil.copy(folder+'/'+list[0], path+'/'+'fearfull')\n",
    "    \n",
    "\n",
    "#happy\n",
    "for index, row in df.iterrows():\n",
    "  list = [row['audio'], row['dialogue'], row['utterance'], row['emotion']]\n",
    "  if list[3] == 'joy':\n",
    "    shutil.copy(folder+'/'+list[0], path+'/'+'happy')\n",
    "\n",
    "    \n",
    "#neutral    \n",
    "for index, row in df.iterrows():\n",
    "  list = [row['audio'], row['dialogue'], row['utterance'], row['emotion']]\n",
    "  if list[3] == 'neutral':\n",
    "    shutil.copy(folder+'/'+list[0], path+'/'+'neutral')\n",
    "    \n",
    "#sad\n",
    "for index, row in df.iterrows():\n",
    "  list = [row['audio'], row['dialogue'], row['utterance'], row['emotion']]\n",
    "  if list[3] == 'sadness':\n",
    "    shutil.copy(folder+'/'+list[0], path+'/'+'sad')\n",
    "    \n",
    "#surpised\n",
    "for index, row in df.iterrows():\n",
    "  list = [row['audio'], row['dialogue'], row['utterance'], row['emotion']]\n",
    "  if list[3] == 'surprise':\n",
    "    shutil.copy(folder+'/'+list[0], path+'/'+'surprised')\n",
    "  "
   ]
  },
  {
   "cell_type": "markdown",
   "metadata": {},
   "source": [
    "Rename the merged database files"
   ]
  },
  {
   "cell_type": "code",
   "execution_count": 42,
   "metadata": {
    "colab": {},
    "colab_type": "code",
    "executionInfo": {
     "elapsed": 9476,
     "status": "ok",
     "timestamp": 1593601212467,
     "user": {
      "displayName": "BARRY Nene Djenaba",
      "photoUrl": "",
      "userId": "09221402848573081539"
     },
     "user_tz": -120
    },
    "id": "QCKpxWPwzLzX"
   },
   "outputs": [],
   "source": [
    "#for the surprised emotion, for example, go to the surprised folder and run this code\n",
    "path = './' \n",
    "for i in os.listdir(path):\n",
    "  #print(i)\n",
    "  os.rename(i,\"suprised_\"+i)\n",
    "  "
   ]
  }
 ],
 "metadata": {
  "accelerator": "GPU",
  "colab": {
   "authorship_tag": "ABX9TyME9VT+ZsTdZSxIIDHdkE2h",
   "name": "rename.ipynb",
   "provenance": []
  },
  "kernelspec": {
   "display_name": "Python 3",
   "language": "python",
   "name": "python3"
  },
  "language_info": {
   "codemirror_mode": {
    "name": "ipython",
    "version": 3
   },
   "file_extension": ".py",
   "mimetype": "text/x-python",
   "name": "python",
   "nbconvert_exporter": "python",
   "pygments_lexer": "ipython3",
   "version": "3.8.2"
  }
 },
 "nbformat": 4,
 "nbformat_minor": 1
}
